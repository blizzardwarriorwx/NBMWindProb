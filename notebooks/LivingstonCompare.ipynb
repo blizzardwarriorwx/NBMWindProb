{
 "cells": [
  {
   "cell_type": "markdown",
   "id": "upset-substance",
   "metadata": {},
   "source": [
    "# Livingston (KLVM, MTELV, MTLWM) ProbGust Comparision\n",
    "\n",
    "Compare ProbGust and previous guidance.\n",
    "\n",
    "## Import modules"
   ]
  },
  {
   "cell_type": "code",
   "execution_count": 1,
   "id": "solar-wrong",
   "metadata": {},
   "outputs": [],
   "source": [
    "import xarray            as xr\n",
    "import pandas            as pd\n",
    "import numpy             as np\n",
    "import matplotlib.pyplot as plt\n",
    "import matplotlib.dates  as mdates\n",
    "import seaborn           as sns\n",
    "import scipy.stats       as stats\n",
    "import pint"
   ]
  },
  {
   "cell_type": "markdown",
   "id": "demographic-uzbekistan",
   "metadata": {},
   "source": [
    "## Set some contants"
   ]
  },
  {
   "cell_type": "code",
   "execution_count": 2,
   "id": "innovative-thousand",
   "metadata": {},
   "outputs": [],
   "source": [
    "sns.set_theme(color_codes=True, style=\"darkgrid\")\n",
    "palette = ['yellow', 'orange', 'red', 'black']\n",
    "units = pint.UnitRegistry()\n",
    "hour = pd.to_timedelta('1H')\n",
    "normal_distribution = stats.norm()"
   ]
  },
  {
   "cell_type": "markdown",
   "id": "dynamic-weapon",
   "metadata": {},
   "source": [
    "## Define utility functions"
   ]
  },
  {
   "cell_type": "markdown",
   "id": "south-welsh",
   "metadata": {},
   "source": [
    "### load_forecast_grid:\n",
    "Load time series from a gridded source converting units and filtering fields. Also creates the valid time field from reference time and time since reference. Can tranform column names if needed, ie for NBM 1 hour forecast."
   ]
  },
  {
   "cell_type": "code",
   "execution_count": 3,
   "id": "handled-navigator",
   "metadata": {},
   "outputs": [],
   "source": [
    "def load_forecast_grid(filename, filter_fields=None, transform_columns=None):\n",
    "    data = xr.open_dataset(filename).to_dataframe()\n",
    "    if transform_columns is not None:\n",
    "        data.columns = data.columns.to_series().apply(transform_columns)\n",
    "    data['valid_time'] = data.reference_time + data.time_since_reference * hour\n",
    "    data = data.set_index(['reference_time', 'valid_time']).sort_index()\n",
    "    if filter_fields is None:\n",
    "        filter_fields = data.columns\n",
    "    return data[filter_fields]"
   ]
  },
  {
   "cell_type": "markdown",
   "id": "legislative-election",
   "metadata": {},
   "source": [
    "### convert_units\n",
    "Convert units of columns in a DataFrame"
   ]
  },
  {
   "cell_type": "code",
   "execution_count": 4,
   "id": "generous-fight",
   "metadata": {},
   "outputs": [],
   "source": [
    "def convert_units(data, columns):\n",
    "    for col in columns.keys():\n",
    "        data[col] = pint.Quantity(data[col].to_numpy(), units(columns[col][0])).to(units(columns[col][1])).magnitude"
   ]
  },
  {
   "cell_type": "markdown",
   "id": "respected-morocco",
   "metadata": {},
   "source": [
    "### filter_missing_data\n",
    "Filter rows that are filled with NaNs, ignoring time fields by default"
   ]
  },
  {
   "cell_type": "code",
   "execution_count": 5,
   "id": "ranging-parks",
   "metadata": {},
   "outputs": [],
   "source": [
    "def filter_missing_data(data):\n",
    "    return data.dropna(how='all')"
   ]
  },
  {
   "cell_type": "markdown",
   "id": "helpful-request",
   "metadata": {},
   "source": [
    "### load_observations\n",
    "Load time series from observation source, converting units and filtering fields."
   ]
  },
  {
   "cell_type": "code",
   "execution_count": 6,
   "id": "frozen-challenge",
   "metadata": {},
   "outputs": [],
   "source": [
    "def load_observations(filename, filter_fields=None):\n",
    "    data = xr.open_dataset(filename).to_dataframe().set_index('time').sort_index()\n",
    "    if filter_fields is not None:\n",
    "        data = data.loc[:, filter_fields]\n",
    "    return data"
   ]
  },
  {
   "cell_type": "markdown",
   "id": "unique-truth",
   "metadata": {},
   "source": [
    "### replace_missing_gust_with_wind\n",
    "Since that gusts for AWOS/ASOS are not reported unless the gusts is sufficiently higher than sustained wind, replace missing gust values with the sustained to compare to RTMA / NBM that always has a gust value."
   ]
  },
  {
   "cell_type": "code",
   "execution_count": 7,
   "id": "invisible-accident",
   "metadata": {},
   "outputs": [],
   "source": [
    "def replace_missing_gust_with_wind(data, wind_field, wind_gust_field):\n",
    "    index = np.isnan(data[wind_gust_field])\n",
    "    data.loc[index, wind_gust_field] = data[wind_field][index]"
   ]
  },
  {
   "cell_type": "markdown",
   "id": "tracked-romance",
   "metadata": {},
   "source": [
    "### get_period_maximum\n",
    "Find the maximum values when rounding the time fields to nearest time period"
   ]
  },
  {
   "cell_type": "code",
   "execution_count": 8,
   "id": "sporting-province",
   "metadata": {},
   "outputs": [],
   "source": [
    "def get_period_maximum(data, period='1H'):\n",
    "    return data.groupby(data.index.round(period)).max()"
   ]
  },
  {
   "cell_type": "markdown",
   "id": "elegant-currency",
   "metadata": {},
   "source": [
    "### generate_prob_gust\n",
    "Calculate the Z-Score given the bias-corrected NBM mean wind gust and standard deviation"
   ]
  },
  {
   "cell_type": "code",
   "execution_count": 9,
   "id": "nervous-soundtrack",
   "metadata": {},
   "outputs": [],
   "source": [
    "def generate_prob_gust(data, threshold, unit='mph', tollerance = 0.6, mean='10_meter_wind_speed_of_gust_mean', standard_deviation='10_meter_wind_speed_of_gust_standard_deviation'):\n",
    "    threshold = pint.Quantity(threshold - tollerance, units(unit)).to(units('m s**-1')).magnitude\n",
    "    z_score = pd.Series((threshold - data[mean]) / data[standard_deviation], index=data.index)\n",
    "    return pd.Series(np.round((100 * normal_distribution.sf(z_score))), index=data.index)\n"
   ]
  },
  {
   "cell_type": "markdown",
   "id": "chubby-kernel",
   "metadata": {},
   "source": [
    "### expand_timelag\n",
    "Duplicate a dataframe while adjusting a datetime field by an interval to create a time-lagged dataset"
   ]
  },
  {
   "cell_type": "code",
   "execution_count": 10,
   "id": "elementary-gauge",
   "metadata": {},
   "outputs": [],
   "source": [
    "def expand_timelag(df, interval, field='reference_time'):\n",
    "    df2 = df.copy(deep=True).reset_index()\n",
    "    df2[field] += pd.to_timedelta(interval)\n",
    "    return df2"
   ]
  },
  {
   "cell_type": "markdown",
   "id": "statewide-kidney",
   "metadata": {},
   "source": [
    "### load_operational_probability\n",
    "Load the operational probability for the time-lagged wind guidance"
   ]
  },
  {
   "cell_type": "code",
   "execution_count": 11,
   "id": "velvet-director",
   "metadata": {},
   "outputs": [],
   "source": [
    "def load_operational_probability():\n",
    "    previous_data = xr.open_dataset('../data/database/MOSDATA.nc').to_dataframe()\n",
    "    previous_data = previous_data[(previous_data.stn == 'KLVM') & (previous_data.model == 'MAV') & np.isfinite(previous_data.run) & np.isfinite(previous_data.valid) & (previous_data.valid >= pd.to_datetime('2020-09-30T18:00:00Z').to_datetime64())][['run', 'valid', 'WDR', 'WSP']].set_index(['run', 'valid']).sort_index()\n",
    "\n",
    "    subadvisory_matrix = xr.open_dataset('../data/database/LVMSubmatrix_MAV.nc').to_dataframe()\n",
    "    advisory_matrix = xr.open_dataset('../data/database/LVMmatrix.nc').to_dataframe()\n",
    "    warning_matrix = xr.open_dataset('../data/database/LVMWarnmatrix.nc').to_dataframe()\n",
    "\n",
    "    previous_data['MaxSub'] = pd.merge(right=previous_data.reset_index(), left=subadvisory_matrix.groupby(['WindDirection']).WindSpeed.max().reset_index(), right_on='WDR', left_on='WindDirection', how='right').set_index(['run', 'valid']).sort_index()['WindSpeed']\n",
    "    previous_data.MaxSub= previous_data.MaxSub.fillna(999)\n",
    "\n",
    "    previous_data['MaxAdv'] = pd.merge(right=previous_data.reset_index(), left=advisory_matrix.groupby(['WindDirection']).WindSpeed.max().reset_index(), right_on='WDR', left_on='WindDirection', how='right').set_index(['run', 'valid']).sort_index()['WindSpeed']\n",
    "    previous_data.MaxAdv = previous_data.MaxAdv.fillna(999)\n",
    "\n",
    "    previous_data['MaxWarn'] = pd.merge(right=previous_data.reset_index(), left=warning_matrix.groupby(['DIR']).WS.max().reset_index(), right_on='WDR', left_on='DIR', how='right').set_index(['run', 'valid']).sort_index()['WS']\n",
    "    previous_data.MaxWarn = previous_data.MaxWarn.fillna(999)\n",
    "\n",
    "    previous_data['SubSpeed'] = previous_data[['WSP', 'MaxSub']].apply(lambda a: a.min(), axis=1)\n",
    "    previous_data['Raw_50'] = pd.merge(right=previous_data.reset_index(), left=subadvisory_matrix, right_on=['WDR', 'SubSpeed'], left_on=['WindDirection', 'WindSpeed'], how='right').groupby(['run', 'valid'])['Probability'].max()\n",
    "    previous_data.Raw_50 = previous_data.Raw_50.fillna(0)\n",
    "\n",
    "    previous_data['AdvSpeed'] = previous_data[['WSP', 'MaxAdv']].apply(lambda a: a.min(), axis=1)\n",
    "    previous_data['Raw_58'] = pd.merge(right=previous_data.reset_index(), left=advisory_matrix, right_on=['WDR', 'AdvSpeed'], left_on=['WindDirection', 'WindSpeed'], how='right').groupby(['run', 'valid'])['Probability'].max()\n",
    "    previous_data.Raw_58 = previous_data.Raw_58.fillna(0)\n",
    "\n",
    "    previous_data['WarnSpeed'] = previous_data[['WSP', 'MaxWarn']].apply(lambda a: a.min(), axis=1)\n",
    "    previous_data['Raw_75'] = pd.merge(right=previous_data.reset_index(), left=warning_matrix, right_on=['WDR', 'WarnSpeed'], left_on=['DIR', 'WS'], how='right').groupby(['run', 'valid'])['Prob'].max()\n",
    "    previous_data.Raw_75 = previous_data.Raw_75.fillna(0)\n",
    "\n",
    "    previous_data = previous_data.reset_index()[['run', 'valid', 'Raw_50', 'Raw_58', 'Raw_75']]\n",
    "    previous_data.columns = ['reference_time', 'valid_time', 'Raw_50', 'Raw_58', 'Raw_75']\n",
    "    previous_data = previous_data.set_index(['reference_time', 'valid_time']).sort_index()\n",
    "\n",
    "    previous_data[[x.replace('Raw', 'Operational') for x in ['Raw_50', 'Raw_58', 'Raw_75']]] = pd.concat([expand_timelag(previous_data, '{0:d}H'.format(i*6)) for i in range(12)]).groupby(['reference_time', 'valid_time']).mean()[['Raw_50', 'Raw_58', 'Raw_75']]\n",
    "    return previous_data[[x for x in previous_data.columns if x.find('Operational_') > -1]]"
   ]
  },
  {
   "cell_type": "markdown",
   "id": "induced-positive",
   "metadata": {},
   "source": [
    "### load_nbm_prob_gust\n",
    "apply bias-correction and calculate ProbGust"
   ]
  },
  {
   "cell_type": "code",
   "execution_count": 12,
   "id": "linear-quick",
   "metadata": {},
   "outputs": [],
   "source": [
    "def load_nbm_prob_gust(siteID, regression, thresholds, mean='10_meter_wind_speed_of_gust_mean', spread='10_meter_wind_speed_of_gust_standard_deviation'):\n",
    "    nbm_data = load_forecast_grid('../data/nbm/NBM_{0:s}.nc'.format(siteID), filter_fields=[mean, spread])\n",
    "    nbm_data = filter_missing_data(nbm_data)\n",
    "    nbm_data[mean] = regression.slope[siteID] * nbm_data[mean] + regression.intercept[siteID]\n",
    "    for threshold in thresholds:\n",
    "        nbm_data['ProbGust_{0:d}'.format(threshold)] = generate_prob_gust(nbm_data, threshold)\n",
    "    return nbm_data[[col for col in nbm_data.columns if col.find('ProbGust') > -1]]"
   ]
  },
  {
   "cell_type": "markdown",
   "id": "another-article",
   "metadata": {},
   "source": [
    "### load_wind_gust_observation\n",
    "load the wind gust, optionally filling with wind speed if gust is missing and applying a correction"
   ]
  },
  {
   "cell_type": "code",
   "execution_count": 13,
   "id": "spoken-parcel",
   "metadata": {},
   "outputs": [],
   "source": [
    "def load_wind_gust_observation(siteID, wind_speed='10_meter_wind_speed', wind_gust='10_meter_wind_speed_of_gust', correction=None):\n",
    "    obs_data = load_observations('../data/observations/{0:s}.nc'.format(siteID), \n",
    "                                 filter_fields=[x for x in [wind_speed, wind_gust] if x is not None])\n",
    "    if wind_speed is not None:\n",
    "        replace_missing_gust_with_wind(obs_data, wind_speed, wind_gust)\n",
    "    obs_data = obs_data[[wind_gust]].reset_index().set_index('time')\n",
    "    if correction is not None:\n",
    "        obs_data = correction(obs_data)\n",
    "    return filter_missing_data(obs_data)"
   ]
  },
  {
   "cell_type": "markdown",
   "id": "pleased-likelihood",
   "metadata": {},
   "source": [
    "## Read Bias-Correction parameters"
   ]
  },
  {
   "cell_type": "code",
   "execution_count": 14,
   "id": "renewable-wrong",
   "metadata": {
    "tags": []
   },
   "outputs": [
    {
     "data": {
      "text/html": [
       "<div>\n",
       "<style scoped>\n",
       "    .dataframe tbody tr th:only-of-type {\n",
       "        vertical-align: middle;\n",
       "    }\n",
       "\n",
       "    .dataframe tbody tr th {\n",
       "        vertical-align: top;\n",
       "    }\n",
       "\n",
       "    .dataframe thead th {\n",
       "        text-align: right;\n",
       "    }\n",
       "</style>\n",
       "<table border=\"1\" class=\"dataframe\">\n",
       "  <thead>\n",
       "    <tr style=\"text-align: right;\">\n",
       "      <th></th>\n",
       "      <th>slope</th>\n",
       "      <th>intercept</th>\n",
       "      <th>rvalue</th>\n",
       "      <th>pvalue</th>\n",
       "      <th>stderr</th>\n",
       "    </tr>\n",
       "  </thead>\n",
       "  <tbody>\n",
       "    <tr>\n",
       "      <th>MTELV</th>\n",
       "      <td>0.893859</td>\n",
       "      <td>6.923222</td>\n",
       "      <td>0.703279</td>\n",
       "      <td>1.471382e-186</td>\n",
       "      <td>0.025618</td>\n",
       "    </tr>\n",
       "    <tr>\n",
       "      <th>LVM</th>\n",
       "      <td>1.022861</td>\n",
       "      <td>4.676071</td>\n",
       "      <td>0.796859</td>\n",
       "      <td>0.000000e+00</td>\n",
       "      <td>0.018798</td>\n",
       "    </tr>\n",
       "    <tr>\n",
       "      <th>MTLWM</th>\n",
       "      <td>0.894840</td>\n",
       "      <td>7.826072</td>\n",
       "      <td>0.683627</td>\n",
       "      <td>2.977567e-138</td>\n",
       "      <td>0.030286</td>\n",
       "    </tr>\n",
       "    <tr>\n",
       "      <th>6S0</th>\n",
       "      <td>0.796994</td>\n",
       "      <td>8.129035</td>\n",
       "      <td>0.685876</td>\n",
       "      <td>3.758471e-201</td>\n",
       "      <td>0.022276</td>\n",
       "    </tr>\n",
       "    <tr>\n",
       "      <th>1KM</th>\n",
       "      <td>0.715568</td>\n",
       "      <td>8.136230</td>\n",
       "      <td>0.735165</td>\n",
       "      <td>1.881445e-130</td>\n",
       "      <td>0.023934</td>\n",
       "    </tr>\n",
       "    <tr>\n",
       "      <th>UMHM</th>\n",
       "      <td>0.695138</td>\n",
       "      <td>9.328585</td>\n",
       "      <td>0.715288</td>\n",
       "      <td>1.233256e-229</td>\n",
       "      <td>0.017768</td>\n",
       "    </tr>\n",
       "  </tbody>\n",
       "</table>\n",
       "</div>"
      ],
      "text/plain": [
       "          slope  intercept    rvalue         pvalue    stderr\n",
       "MTELV  0.893859   6.923222  0.703279  1.471382e-186  0.025618\n",
       "LVM    1.022861   4.676071  0.796859   0.000000e+00  0.018798\n",
       "MTLWM  0.894840   7.826072  0.683627  2.977567e-138  0.030286\n",
       "6S0    0.796994   8.129035  0.685876  3.758471e-201  0.022276\n",
       "1KM    0.715568   8.136230  0.735165  1.881445e-130  0.023934\n",
       "UMHM   0.695138   9.328585  0.715288  1.233256e-229  0.017768"
      ]
     },
     "execution_count": 14,
     "metadata": {},
     "output_type": "execute_result"
    }
   ],
   "source": [
    "regression = pd.read_json('../data/derived/regressions.json', orient='table')\n",
    "regression"
   ]
  },
  {
   "cell_type": "markdown",
   "id": "funny-mapping",
   "metadata": {},
   "source": [
    "## Load Observaions\n",
    "Load hourly max wind gust from KLVM, MTELV, and MTLWM "
   ]
  },
  {
   "cell_type": "code",
   "execution_count": 15,
   "id": "adopted-revelation",
   "metadata": {},
   "outputs": [
    {
     "data": {
      "text/html": [
       "<div>\n",
       "<style scoped>\n",
       "    .dataframe tbody tr th:only-of-type {\n",
       "        vertical-align: middle;\n",
       "    }\n",
       "\n",
       "    .dataframe tbody tr th {\n",
       "        vertical-align: top;\n",
       "    }\n",
       "\n",
       "    .dataframe thead th {\n",
       "        text-align: right;\n",
       "    }\n",
       "</style>\n",
       "<table border=\"1\" class=\"dataframe\">\n",
       "  <thead>\n",
       "    <tr style=\"text-align: right;\">\n",
       "      <th></th>\n",
       "      <th>Verification_Gust</th>\n",
       "    </tr>\n",
       "    <tr>\n",
       "      <th>valid_time</th>\n",
       "      <th></th>\n",
       "    </tr>\n",
       "  </thead>\n",
       "  <tbody>\n",
       "    <tr>\n",
       "      <th>2020-05-18 00:00:00</th>\n",
       "      <td>11.507794</td>\n",
       "    </tr>\n",
       "    <tr>\n",
       "      <th>2020-05-18 01:00:00</th>\n",
       "      <td>13.809353</td>\n",
       "    </tr>\n",
       "    <tr>\n",
       "      <th>2020-05-18 02:00:00</th>\n",
       "      <td>2.301559</td>\n",
       "    </tr>\n",
       "    <tr>\n",
       "      <th>2020-05-18 03:00:00</th>\n",
       "      <td>10.357015</td>\n",
       "    </tr>\n",
       "    <tr>\n",
       "      <th>2020-05-18 04:00:00</th>\n",
       "      <td>10.357015</td>\n",
       "    </tr>\n",
       "    <tr>\n",
       "      <th>...</th>\n",
       "      <td>...</td>\n",
       "    </tr>\n",
       "    <tr>\n",
       "      <th>2021-05-01 02:00:00</th>\n",
       "      <td>14.316392</td>\n",
       "    </tr>\n",
       "    <tr>\n",
       "      <th>2021-05-01 03:00:00</th>\n",
       "      <td>9.887258</td>\n",
       "    </tr>\n",
       "    <tr>\n",
       "      <th>2021-05-01 04:00:00</th>\n",
       "      <td>12.392627</td>\n",
       "    </tr>\n",
       "    <tr>\n",
       "      <th>2021-05-01 05:00:00</th>\n",
       "      <td>11.207051</td>\n",
       "    </tr>\n",
       "    <tr>\n",
       "      <th>2021-05-01 06:00:00</th>\n",
       "      <td>6.800286</td>\n",
       "    </tr>\n",
       "  </tbody>\n",
       "</table>\n",
       "<p>8359 rows × 1 columns</p>\n",
       "</div>"
      ],
      "text/plain": [
       "                     Verification_Gust\n",
       "valid_time                            \n",
       "2020-05-18 00:00:00          11.507794\n",
       "2020-05-18 01:00:00          13.809353\n",
       "2020-05-18 02:00:00           2.301559\n",
       "2020-05-18 03:00:00          10.357015\n",
       "2020-05-18 04:00:00          10.357015\n",
       "...                                ...\n",
       "2021-05-01 02:00:00          14.316392\n",
       "2021-05-01 03:00:00           9.887258\n",
       "2021-05-01 04:00:00          12.392627\n",
       "2021-05-01 05:00:00          11.207051\n",
       "2021-05-01 06:00:00           6.800286\n",
       "\n",
       "[8359 rows x 1 columns]"
      ]
     },
     "execution_count": 15,
     "metadata": {},
     "output_type": "execute_result"
    }
   ],
   "source": [
    "obs = get_period_maximum(pd.concat([ load_wind_gust_observation(x) for x in ['MTLWM', 'MTELV', 'LVM']]).sort_values(['time']).groupby(['time']).max(), period='1H').reset_index()\n",
    "obs.columns = ['valid_time', 'Verification_Gust']\n",
    "obs = obs.set_index('valid_time')\n",
    "convert_units(obs, dict([(x, ('m/s','mph')) for x in obs.columns]))\n",
    "obs"
   ]
  },
  {
   "cell_type": "markdown",
   "id": "greater-porter",
   "metadata": {},
   "source": [
    "## Load NBM forecast\n",
    "Calculate the hourly maximum ProbGust for each threshold from KLVM, MTELV, and MTLWM"
   ]
  },
  {
   "cell_type": "code",
   "execution_count": 16,
   "id": "moving-school",
   "metadata": {},
   "outputs": [
    {
     "data": {
      "text/html": [
       "<div>\n",
       "<style scoped>\n",
       "    .dataframe tbody tr th:only-of-type {\n",
       "        vertical-align: middle;\n",
       "    }\n",
       "\n",
       "    .dataframe tbody tr th {\n",
       "        vertical-align: top;\n",
       "    }\n",
       "\n",
       "    .dataframe thead th {\n",
       "        text-align: right;\n",
       "    }\n",
       "</style>\n",
       "<table border=\"1\" class=\"dataframe\">\n",
       "  <thead>\n",
       "    <tr style=\"text-align: right;\">\n",
       "      <th></th>\n",
       "      <th></th>\n",
       "      <th>ProbGust_50</th>\n",
       "      <th>ProbGust_58</th>\n",
       "      <th>ProbGust_75</th>\n",
       "    </tr>\n",
       "    <tr>\n",
       "      <th>reference_time</th>\n",
       "      <th>valid_time</th>\n",
       "      <th></th>\n",
       "      <th></th>\n",
       "      <th></th>\n",
       "    </tr>\n",
       "  </thead>\n",
       "  <tbody>\n",
       "    <tr>\n",
       "      <th rowspan=\"5\" valign=\"top\">2020-10-01</th>\n",
       "      <th>2020-10-01 10:00:00</th>\n",
       "      <td>0.0</td>\n",
       "      <td>0.0</td>\n",
       "      <td>0.0</td>\n",
       "    </tr>\n",
       "    <tr>\n",
       "      <th>2020-10-01 11:00:00</th>\n",
       "      <td>0.0</td>\n",
       "      <td>0.0</td>\n",
       "      <td>0.0</td>\n",
       "    </tr>\n",
       "    <tr>\n",
       "      <th>2020-10-01 12:00:00</th>\n",
       "      <td>0.0</td>\n",
       "      <td>0.0</td>\n",
       "      <td>0.0</td>\n",
       "    </tr>\n",
       "    <tr>\n",
       "      <th>2020-10-01 13:00:00</th>\n",
       "      <td>0.0</td>\n",
       "      <td>0.0</td>\n",
       "      <td>0.0</td>\n",
       "    </tr>\n",
       "    <tr>\n",
       "      <th>2020-10-01 14:00:00</th>\n",
       "      <td>0.0</td>\n",
       "      <td>0.0</td>\n",
       "      <td>0.0</td>\n",
       "    </tr>\n",
       "    <tr>\n",
       "      <th>...</th>\n",
       "      <th>...</th>\n",
       "      <td>...</td>\n",
       "      <td>...</td>\n",
       "      <td>...</td>\n",
       "    </tr>\n",
       "    <tr>\n",
       "      <th rowspan=\"5\" valign=\"top\">2021-03-27</th>\n",
       "      <th>2021-04-02 21:00:00</th>\n",
       "      <td>0.0</td>\n",
       "      <td>0.0</td>\n",
       "      <td>0.0</td>\n",
       "    </tr>\n",
       "    <tr>\n",
       "      <th>2021-04-03 00:00:00</th>\n",
       "      <td>0.0</td>\n",
       "      <td>0.0</td>\n",
       "      <td>0.0</td>\n",
       "    </tr>\n",
       "    <tr>\n",
       "      <th>2021-04-03 03:00:00</th>\n",
       "      <td>0.0</td>\n",
       "      <td>0.0</td>\n",
       "      <td>0.0</td>\n",
       "    </tr>\n",
       "    <tr>\n",
       "      <th>2021-04-03 06:00:00</th>\n",
       "      <td>1.0</td>\n",
       "      <td>0.0</td>\n",
       "      <td>0.0</td>\n",
       "    </tr>\n",
       "    <tr>\n",
       "      <th>2021-04-03 09:00:00</th>\n",
       "      <td>0.0</td>\n",
       "      <td>0.0</td>\n",
       "      <td>0.0</td>\n",
       "    </tr>\n",
       "  </tbody>\n",
       "</table>\n",
       "<p>23997 rows × 3 columns</p>\n",
       "</div>"
      ],
      "text/plain": [
       "                                    ProbGust_50  ProbGust_58  ProbGust_75\n",
       "reference_time valid_time                                                \n",
       "2020-10-01     2020-10-01 10:00:00          0.0          0.0          0.0\n",
       "               2020-10-01 11:00:00          0.0          0.0          0.0\n",
       "               2020-10-01 12:00:00          0.0          0.0          0.0\n",
       "               2020-10-01 13:00:00          0.0          0.0          0.0\n",
       "               2020-10-01 14:00:00          0.0          0.0          0.0\n",
       "...                                         ...          ...          ...\n",
       "2021-03-27     2021-04-02 21:00:00          0.0          0.0          0.0\n",
       "               2021-04-03 00:00:00          0.0          0.0          0.0\n",
       "               2021-04-03 03:00:00          0.0          0.0          0.0\n",
       "               2021-04-03 06:00:00          1.0          0.0          0.0\n",
       "               2021-04-03 09:00:00          0.0          0.0          0.0\n",
       "\n",
       "[23997 rows x 3 columns]"
      ]
     },
     "execution_count": 16,
     "metadata": {},
     "output_type": "execute_result"
    }
   ],
   "source": [
    "nbm = pd.concat([load_nbm_prob_gust(x, regression, [50, 58, 75]).reset_index() for x in ['MTLWM', 'MTELV', 'LVM']]).groupby(['reference_time', 'valid_time']).max().reset_index()\n",
    "nbm.reference_time -= 9*hour\n",
    "nbm = nbm.set_index(['reference_time', 'valid_time']).sort_index()\n",
    "\n",
    "nbm"
   ]
  },
  {
   "cell_type": "markdown",
   "id": "defensive-rendering",
   "metadata": {},
   "source": [
    "## Time-match and Pivot Observations, NBM, and Operational Guidance"
   ]
  },
  {
   "cell_type": "code",
   "execution_count": 17,
   "id": "fundamental-exemption",
   "metadata": {},
   "outputs": [
    {
     "data": {
      "text/html": [
       "<div>\n",
       "<style scoped>\n",
       "    .dataframe tbody tr th:only-of-type {\n",
       "        vertical-align: middle;\n",
       "    }\n",
       "\n",
       "    .dataframe tbody tr th {\n",
       "        vertical-align: top;\n",
       "    }\n",
       "\n",
       "    .dataframe thead th {\n",
       "        text-align: right;\n",
       "    }\n",
       "</style>\n",
       "<table border=\"1\" class=\"dataframe\">\n",
       "  <thead>\n",
       "    <tr style=\"text-align: right;\">\n",
       "      <th></th>\n",
       "      <th></th>\n",
       "      <th>Model</th>\n",
       "      <th>Probability</th>\n",
       "    </tr>\n",
       "    <tr>\n",
       "      <th>reference_time</th>\n",
       "      <th>valid_time</th>\n",
       "      <th></th>\n",
       "      <th></th>\n",
       "    </tr>\n",
       "  </thead>\n",
       "  <tbody>\n",
       "    <tr>\n",
       "      <th rowspan=\"5\" valign=\"top\">2020-10-01</th>\n",
       "      <th>2020-10-01 10:00:00</th>\n",
       "      <td>ProbGust_50</td>\n",
       "      <td>0.0</td>\n",
       "    </tr>\n",
       "    <tr>\n",
       "      <th>2020-10-01 11:00:00</th>\n",
       "      <td>ProbGust_50</td>\n",
       "      <td>0.0</td>\n",
       "    </tr>\n",
       "    <tr>\n",
       "      <th>2020-10-01 12:00:00</th>\n",
       "      <td>ProbGust_50</td>\n",
       "      <td>0.0</td>\n",
       "    </tr>\n",
       "    <tr>\n",
       "      <th>2020-10-01 13:00:00</th>\n",
       "      <td>ProbGust_50</td>\n",
       "      <td>0.0</td>\n",
       "    </tr>\n",
       "    <tr>\n",
       "      <th>2020-10-01 14:00:00</th>\n",
       "      <td>ProbGust_50</td>\n",
       "      <td>0.0</td>\n",
       "    </tr>\n",
       "    <tr>\n",
       "      <th>...</th>\n",
       "      <th>...</th>\n",
       "      <td>...</td>\n",
       "      <td>...</td>\n",
       "    </tr>\n",
       "    <tr>\n",
       "      <th rowspan=\"5\" valign=\"top\">2021-03-27</th>\n",
       "      <th>2021-04-02 21:00:00</th>\n",
       "      <td>Verification_75</td>\n",
       "      <td>75.0</td>\n",
       "    </tr>\n",
       "    <tr>\n",
       "      <th>2021-04-03 00:00:00</th>\n",
       "      <td>Verification_75</td>\n",
       "      <td>75.0</td>\n",
       "    </tr>\n",
       "    <tr>\n",
       "      <th>2021-04-03 03:00:00</th>\n",
       "      <td>Verification_75</td>\n",
       "      <td>75.0</td>\n",
       "    </tr>\n",
       "    <tr>\n",
       "      <th>2021-04-03 06:00:00</th>\n",
       "      <td>Verification_75</td>\n",
       "      <td>75.0</td>\n",
       "    </tr>\n",
       "    <tr>\n",
       "      <th>2021-04-03 09:00:00</th>\n",
       "      <td>Verification_75</td>\n",
       "      <td>75.0</td>\n",
       "    </tr>\n",
       "  </tbody>\n",
       "</table>\n",
       "<p>239970 rows × 2 columns</p>\n",
       "</div>"
      ],
      "text/plain": [
       "                                              Model  Probability\n",
       "reference_time valid_time                                       \n",
       "2020-10-01     2020-10-01 10:00:00      ProbGust_50          0.0\n",
       "               2020-10-01 11:00:00      ProbGust_50          0.0\n",
       "               2020-10-01 12:00:00      ProbGust_50          0.0\n",
       "               2020-10-01 13:00:00      ProbGust_50          0.0\n",
       "               2020-10-01 14:00:00      ProbGust_50          0.0\n",
       "...                                             ...          ...\n",
       "2021-03-27     2021-04-02 21:00:00  Verification_75         75.0\n",
       "               2021-04-03 00:00:00  Verification_75         75.0\n",
       "               2021-04-03 03:00:00  Verification_75         75.0\n",
       "               2021-04-03 06:00:00  Verification_75         75.0\n",
       "               2021-04-03 09:00:00  Verification_75         75.0\n",
       "\n",
       "[239970 rows x 2 columns]"
      ]
     },
     "execution_count": 17,
     "metadata": {},
     "output_type": "execute_result"
    }
   ],
   "source": [
    "data = pd.merge(left=pd.merge(left=nbm, right=load_operational_probability(), left_index=True, right_index=True, how='left'), right=obs, left_index=True, right_index=True, how='outer')#.reset_index().melt(id_vars=['reference_time', 'valid_time'], var_name='Model', value_name='Probability').set_index(['reference_time', 'valid_time'])\n",
    "data[[x.replace('ProbGust', 'Verification') for x in data.columns if x.find('ProbGust_') > -1]] = [int(x.replace('ProbGust_', '')) for x in data.columns if x.find('ProbGust_') > -1]\n",
    "data = data.reset_index().melt(id_vars=['reference_time', 'valid_time'], var_name='Model', value_name='Probability').set_index(['reference_time', 'valid_time'])\n",
    "data"
   ]
  },
  {
   "cell_type": "markdown",
   "id": "destroyed-copper",
   "metadata": {},
   "source": [
    "## Plot Comparision Chart for an NBM Run"
   ]
  },
  {
   "cell_type": "code",
   "execution_count": 20,
   "id": "corrected-fighter",
   "metadata": {},
   "outputs": [
    {
     "data": {
      "image/png": "[encoded data removed]",
      "text/plain": [
       "<Figure size 1507.6x1080 with 3 Axes>"
      ]
     },
     "metadata": {},
     "output_type": "display_data"
    }
   ],
   "source": [
    "start = pd.to_datetime('2021-02-15T12:00:00Z')\n",
    "end = start + pd.to_timedelta('3D')\n",
    "\n",
    "run = data[(data.index.get_level_values(0) == start.to_datetime64()) * (data.index.get_level_values(1) <= end.to_datetime64())].reset_index()[[x for x in list(data.index.names) + list(data.columns) if x != 'reference_time']].sort_values(['valid_time'])\n",
    "run = run.pivot(index='valid_time', columns='Model', values='Probability').resample('1H').max().reset_index().melt(id_vars=['valid_time'], var_name='Model', value_name='Probability')\n",
    "run['Threshold'] = run.Model.apply(lambda a:\">= {0:s}\".format(a.split('_')[1]) if a != 'Verification_Gust' else 'Gust')\n",
    "run.Model = run.Model.apply(lambda a:a.split('_')[0])\n",
    "run.columns = [x.replace('valid_time', 'Valid Time') for x in run.columns]\n",
    "\n",
    "g = sns.relplot(data=run, x='Valid Time', y='Probability', hue='Threshold', kind='line', row='Model', aspect=4, palette=palette)\n",
    "g.fig.subplots_adjust(top=.93)\n",
    "g.fig.suptitle(start.strftime('Operational vs. NBM\\nValid: %Y-%m-%d %HZ'))\n",
    "for model, ax in g.axes_dict.items():\n",
    "    ax.xaxis.set_major_formatter(mdates.DateFormatter('%m/%d\\n%HZ'))\n",
    "    ax.xaxis.set_major_locator(mdates.HourLocator(byhour=[0,3,6,9,12,15,18,21]))\n",
    "    if model == 'Verification':\n",
    "        ax.set(ylabel='Wind Gust (MPH)')\n",
    "g.savefig(start.strftime('output/events/Livingston_%Y%m%d%H.png'))"
   ]
  },
  {
   "cell_type": "code",
   "execution_count": null,
   "id": "streaming-feeling",
   "metadata": {},
   "outputs": [],
   "source": []
  }
 ],
 "metadata": {
  "kernelspec": {
   "display_name": "Python 3",
   "language": "python",
   "name": "python3"
  },
  "language_info": {
   "codemirror_mode": {
    "name": "ipython",
    "version": 3
   },
   "file_extension": ".py",
   "mimetype": "text/x-python",
   "name": "python",
   "nbconvert_exporter": "python",
   "pygments_lexer": "ipython3",
   "version": "3.8.6"
  }
 },
 "nbformat": 4,
 "nbformat_minor": 5
}
