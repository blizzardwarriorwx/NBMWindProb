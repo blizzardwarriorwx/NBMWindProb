{
 "cells": [
  {
   "cell_type": "markdown",
   "id": "fitting-cruise",
   "metadata": {},
   "source": [
    "# ProbGust Vs Wind Gust Speed\n",
    "\n",
    "Plot ProbGust Values against the Observed Wind Speed\n",
    "\n",
    "## Import modules"
   ]
  },
  {
   "cell_type": "code",
   "execution_count": 1,
   "id": "unlimited-abraham",
   "metadata": {},
   "outputs": [],
   "source": [
    "import xarray            as xr\n",
    "import pandas            as pd\n",
    "import numpy             as np\n",
    "import matplotlib.pyplot as plt\n",
    "import matplotlib.dates  as mdates\n",
    "import seaborn           as sns\n",
    "import scipy.stats       as stats\n",
    "import pint"
   ]
  },
  {
   "cell_type": "markdown",
   "id": "vanilla-aquarium",
   "metadata": {},
   "source": [
    "## Set some contants"
   ]
  },
  {
   "cell_type": "code",
   "execution_count": 2,
   "id": "bottom-stanford",
   "metadata": {},
   "outputs": [],
   "source": [
    "sns.set_theme(color_codes=True)\n",
    "units = pint.UnitRegistry()\n",
    "hour = pd.to_timedelta('1H')\n",
    "normal_distribution = stats.norm()\n",
    "start_direction = 0\n",
    "end_direction = 360\n",
    "sites = ['UMHM', '1KM']#['6S0']#['LVM', 'MTLWM', 'MTELV']#\n",
    "site_observation_options = {\n",
    "    \"UMHM\": {'wind_speed': None, 'correction': lambda a:a + pint.Quantity(9, units('mph')).to(units('m/s')).magnitude}\n",
    "}"
   ]
  },
  {
   "cell_type": "markdown",
   "id": "treated-bankruptcy",
   "metadata": {},
   "source": [
    "## Define utility functions"
   ]
  },
  {
   "cell_type": "markdown",
   "id": "pointed-jones",
   "metadata": {},
   "source": [
    "### load_forecast_grid:\n",
    "Load time series from a gridded source converting units and filtering fields. Also creates the valid time field from reference time and time since reference. Can tranform column names if needed, ie for NBM 1 hour forecast."
   ]
  },
  {
   "cell_type": "code",
   "execution_count": 3,
   "id": "precise-india",
   "metadata": {},
   "outputs": [],
   "source": [
    "def load_forecast_grid(filename, filter_fields=None, transform_columns=None):\n",
    "    data = xr.open_dataset(filename).to_dataframe()\n",
    "    if transform_columns is not None:\n",
    "        data.columns = data.columns.to_series().apply(transform_columns)\n",
    "    data['valid_time'] = data.reference_time + data.time_since_reference * hour\n",
    "    data = data.set_index(['reference_time', 'valid_time']).sort_index()\n",
    "    if filter_fields is None:\n",
    "        filter_fields = data.columns\n",
    "    return data[filter_fields]"
   ]
  },
  {
   "cell_type": "markdown",
   "id": "bored-ethnic",
   "metadata": {},
   "source": [
    "### convert_units\n",
    "Convert units of columns in a DataFrame"
   ]
  },
  {
   "cell_type": "code",
   "execution_count": 4,
   "id": "metallic-ordinary",
   "metadata": {},
   "outputs": [],
   "source": [
    "def convert_units(data, columns):\n",
    "    for col in columns.keys():\n",
    "        data[col] = pint.Quantity(data[col].to_numpy(), units(columns[col][0])).to(units(columns[col][1])).magnitude"
   ]
  },
  {
   "cell_type": "markdown",
   "id": "wired-footage",
   "metadata": {},
   "source": [
    "### filter_missing_data\n",
    "Filter rows that are filled with NaNs, ignoring time fields by default"
   ]
  },
  {
   "cell_type": "code",
   "execution_count": 5,
   "id": "weighted-spokesman",
   "metadata": {},
   "outputs": [],
   "source": [
    "def filter_missing_data(data):\n",
    "    return data.dropna(how='all')"
   ]
  },
  {
   "cell_type": "markdown",
   "id": "healthy-accommodation",
   "metadata": {},
   "source": [
    "### load_observations\n",
    "Load time series from observation source, converting units and filtering fields."
   ]
  },
  {
   "cell_type": "code",
   "execution_count": 6,
   "id": "satellite-pavilion",
   "metadata": {},
   "outputs": [],
   "source": [
    "def load_observations(filename, filter_fields=None):\n",
    "    data = xr.open_dataset(filename).to_dataframe().set_index('time').sort_index()\n",
    "    if filter_fields is not None:\n",
    "        data = data.loc[:, filter_fields]\n",
    "    return data"
   ]
  },
  {
   "cell_type": "markdown",
   "id": "portable-revolution",
   "metadata": {},
   "source": [
    "### replace_missing_gust_with_wind\n",
    "Since that gusts for AWOS/ASOS are not reported unless the gusts is sufficiently higher than sustained wind, replace missing gust values with the sustained to compare to RTMA / NBM that always has a gust value."
   ]
  },
  {
   "cell_type": "code",
   "execution_count": 7,
   "id": "designing-cooperative",
   "metadata": {},
   "outputs": [],
   "source": [
    "def replace_missing_gust_with_wind(data, wind_field, wind_gust_field):\n",
    "    index = np.isnan(data[wind_gust_field])\n",
    "    data.loc[index, wind_gust_field] = data[wind_field][index]"
   ]
  },
  {
   "cell_type": "markdown",
   "id": "twelve-robertson",
   "metadata": {},
   "source": [
    "### get_period_maximum\n",
    "Find the maximum values when rounding the time fields to nearest time period"
   ]
  },
  {
   "cell_type": "code",
   "execution_count": 8,
   "id": "transparent-helicopter",
   "metadata": {},
   "outputs": [],
   "source": [
    "def get_period_maximum(data, period='1H'):\n",
    "    return data.groupby(data.index.round(period)).max()"
   ]
  },
  {
   "cell_type": "markdown",
   "id": "specific-institution",
   "metadata": {},
   "source": [
    "### convert_units\n",
    "Convert units of columns in a DataFrame"
   ]
  },
  {
   "cell_type": "code",
   "execution_count": 9,
   "id": "other-composition",
   "metadata": {},
   "outputs": [],
   "source": [
    "def convert_units(data, columns):\n",
    "    for col in columns.keys():\n",
    "        data[col] = pint.Quantity(data[col].to_numpy(), units(columns[col][0])).to(units(columns[col][1])).magnitude"
   ]
  },
  {
   "cell_type": "markdown",
   "id": "adult-exercise",
   "metadata": {},
   "source": [
    "### time_match_dataset\n",
    "Time-match dataset while prefixing the columns of each dataset"
   ]
  },
  {
   "cell_type": "code",
   "execution_count": 10,
   "id": "popular-nature",
   "metadata": {},
   "outputs": [],
   "source": [
    "def time_match_dataset(left, right, left_prefix='obs', right_prefix='grid', left_time='time', right_time='valid_time'):\n",
    "    left_data = left.copy(deep=True)\n",
    "    left_data.columns = ['{0:s}_{1:s}'.format(x, left_prefix) for x in left_data.columns]\n",
    "    right_data = right.copy(deep=True)\n",
    "    right_data.columns = ['{0:s}_{1:s}'.format(x, right_prefix) for x in right_data.columns]\n",
    "    return pd.merge(left_data, right_data, how='inner', left_on='{0:s}_{1:s}'.format(left_time, left_prefix), right_on='{0:s}_{1:s}'.format(right_time, right_prefix)).reset_index()"
   ]
  },
  {
   "cell_type": "markdown",
   "id": "intermediate-indianapolis",
   "metadata": {},
   "source": [
    "### filter_three_hourly\n",
    "Filter NBM data to 3 hourly forecast"
   ]
  },
  {
   "cell_type": "code",
   "execution_count": 11,
   "id": "impaired-findings",
   "metadata": {},
   "outputs": [],
   "source": [
    "def filter_three_hourly(data, time_field='valid_time'):\n",
    "    return data[data.index.get_level_values(time_field).hour % 3 == 0]"
   ]
  },
  {
   "cell_type": "markdown",
   "id": "enclosed-proceeding",
   "metadata": {},
   "source": [
    "### generate_probability\n",
    "Calculate the Z-Score given the bias-corrected NBM mean wind gust and standard deviation"
   ]
  },
  {
   "cell_type": "code",
   "execution_count": 12,
   "id": "short-uganda",
   "metadata": {},
   "outputs": [],
   "source": [
    "def generate_prob_gust(data, threshold, unit='mph', tollerance = 0.6, mean='10_meter_wind_speed_of_gust_mean', standard_deviation='10_meter_wind_speed_of_gust_standard_deviation'):\n",
    "    threshold = pint.Quantity(threshold - tollerance, units(unit)).to(units('m s**-1')).magnitude\n",
    "    z_score = pd.Series((threshold - data[mean]) / data[standard_deviation], index=data.index)\n",
    "    return pd.Series(np.round((100 * normal_distribution.sf(z_score))), index=data.index)\n"
   ]
  },
  {
   "cell_type": "markdown",
   "id": "regulation-firmware",
   "metadata": {},
   "source": [
    "### standard_error_of_estimate\n",
    "calculate the standard error from a slope and intercept"
   ]
  },
  {
   "cell_type": "code",
   "execution_count": 13,
   "id": "known-cream",
   "metadata": {},
   "outputs": [],
   "source": [
    "def standard_error_of_estimate(x, y, slope, intercept):\n",
    "    x = np.array(x)\n",
    "    y = np.array(y)\n",
    "    error = np.inf\n",
    "    if len(x) > 2:\n",
    "        error = np.sqrt(np.sum(((slope * x + intercept) - y)**2) / (len(x) - 2))\n",
    "    return error"
   ]
  },
  {
   "cell_type": "markdown",
   "id": "dirty-humidity",
   "metadata": {},
   "source": [
    "### expand_timelag\n",
    "Duplicate a dataframe while adjusting a datetime field by an interval to create a time-lagged dataset"
   ]
  },
  {
   "cell_type": "code",
   "execution_count": 14,
   "id": "asian-empire",
   "metadata": {},
   "outputs": [],
   "source": [
    "def expand_timelag(df, interval, field='reference_time'):\n",
    "    df2 = df.copy(deep=True).reset_index()\n",
    "    df2[field] += pd.to_timedelta(interval)\n",
    "    return df2"
   ]
  },
  {
   "cell_type": "markdown",
   "id": "industrial-wildlife",
   "metadata": {},
   "source": [
    "### reliability_correction\n",
    "apply a bias-correction to the ProbGust value to improve reliability"
   ]
  },
  {
   "cell_type": "code",
   "execution_count": 15,
   "id": "signal-barcelona",
   "metadata": {},
   "outputs": [],
   "source": [
    "def reliability_correction(location, threshold, direction, prob_gust):\n",
    "    slope = 1\n",
    "    intercept = 0\n",
    "    r = 1\n",
    "    \n",
    "    if location in ['MTLWM', 'MTELV', 'LVM'] and threshold == 50 and 170 <= direction and direction <= 230:\n",
    "        slope = 0.938000\n",
    "        intercept = 18.523352\n",
    "    elif location in ['MTLWM', 'MTELV', 'LVM'] and threshold == 58 and 170 <= direction and direction <= 230:\n",
    "        slope = 0.987953\n",
    "        intercept = 18.602726\n",
    "    elif location in ['MTLWM', 'MTELV', 'LVM'] and threshold == 50 and 230 <= direction and direction <= 250:\n",
    "        slope = 0.923174\n",
    "        intercept = 5.761035\n",
    "    elif location in ['MTLWM', 'MTELV', 'LVM'] and threshold == 58 and 230 <= direction and direction <= 250:\n",
    "        slope = 1.019796\n",
    "        intercept = 4.567449\n",
    "    elif location in ['MTLWM', 'MTELV', 'LVM'] and threshold == 50 and 250 <= direction and direction <= 280:\n",
    "        slope = 0.648766\n",
    "        intercept = -4.546409\n",
    "    elif location in ['MTLWM', 'MTELV', 'LVM'] and threshold == 58 and 250 <= direction and direction <= 280:\n",
    "        slope = 0.910771\n",
    "        intercept = -16.622423\n",
    "    \n",
    "    if intercept > 0:\n",
    "        r = min(prob_gust / intercept, 1)\n",
    "    \n",
    "    if prob_gust > 1.01:\n",
    "        prob_gust = max(min((1 - ((1 - slope) * r)) * prob_gust + (intercept * r), 100), 0)\n",
    "    \n",
    "    return prob_gust\n",
    "        "
   ]
  },
  {
   "cell_type": "markdown",
   "id": "roman-constitutional",
   "metadata": {},
   "source": [
    "### load_nbm_prob_gust\n",
    "apply bias-correction and calculate ProbGust"
   ]
  },
  {
   "cell_type": "code",
   "execution_count": 16,
   "id": "understanding-crash",
   "metadata": {},
   "outputs": [],
   "source": [
    "def load_nbm_prob_gust(siteID, regression, thresholds, mean='10_meter_wind_speed_of_gust_mean', spread='10_meter_wind_speed_of_gust_standard_deviation', direction='10_meter_wind_from_direction_mean'):\n",
    "    nbm_data = load_forecast_grid('../data/nbm_update/NBM_{0:s}.nc'.format(siteID), filter_fields=[mean, spread, direction])\n",
    "    nbm_data = nbm_data[(nbm_data[direction] >= start_direction) & (nbm_data[direction] <= end_direction)][[mean, spread, direction]]\n",
    "    nbm_data = filter_missing_data(nbm_data)\n",
    "    nbm_data[mean] = regression.slope[siteID] * nbm_data[mean] + regression.intercept[siteID]\n",
    "    for threshold in thresholds:\n",
    "        nbm_data['ProbGust_{0:d}'.format(threshold)] = generate_prob_gust(nbm_data, threshold)\n",
    "        nbm_data['ProbGust_{0:d}'.format(threshold)] = nbm_data[['ProbGust_{0:d}'.format(threshold), direction]].apply(lambda a: reliability_correction(siteID, threshold, a[direction], a['ProbGust_{0:d}'.format(threshold)]), axis=1)\n",
    "    return nbm_data[[col for col in nbm_data.columns if col.find('ProbGust') > -1]]"
   ]
  },
  {
   "cell_type": "markdown",
   "id": "swiss-celtic",
   "metadata": {},
   "source": [
    "### load_wind_gust_observation\n",
    "load the wind gust, optionally filling with wind speed if gust is missing and applying a correction"
   ]
  },
  {
   "cell_type": "code",
   "execution_count": 17,
   "id": "finite-costa",
   "metadata": {},
   "outputs": [],
   "source": [
    "def load_wind_gust_observation(siteID, wind_speed='10_meter_wind_speed', wind_gust='10_meter_wind_speed_of_gust', correction=None):\n",
    "    obs_data = load_observations('../data/observations/{0:s}.nc'.format(siteID), \n",
    "                                 filter_fields=[x for x in [wind_speed, wind_gust] if x is not None])\n",
    "    if wind_speed is not None:\n",
    "        replace_missing_gust_with_wind(obs_data, wind_speed, wind_gust)\n",
    "    obs_data = obs_data[[wind_gust]].reset_index().set_index('time')\n",
    "    if correction is not None:\n",
    "        obs_data = correction(obs_data)\n",
    "    obs_data['site_id'] = siteID\n",
    "    return filter_missing_data(obs_data)"
   ]
  },
  {
   "cell_type": "markdown",
   "id": "bronze-occurrence",
   "metadata": {},
   "source": [
    "## Read Bias-Correction parameters"
   ]
  },
  {
   "cell_type": "code",
   "execution_count": 18,
   "id": "adjusted-criticism",
   "metadata": {
    "tags": []
   },
   "outputs": [
    {
     "data": {
      "text/html": [
       "<div>\n",
       "<style scoped>\n",
       "    .dataframe tbody tr th:only-of-type {\n",
       "        vertical-align: middle;\n",
       "    }\n",
       "\n",
       "    .dataframe tbody tr th {\n",
       "        vertical-align: top;\n",
       "    }\n",
       "\n",
       "    .dataframe thead th {\n",
       "        text-align: right;\n",
       "    }\n",
       "</style>\n",
       "<table border=\"1\" class=\"dataframe\">\n",
       "  <thead>\n",
       "    <tr style=\"text-align: right;\">\n",
       "      <th></th>\n",
       "      <th>slope</th>\n",
       "      <th>intercept</th>\n",
       "      <th>rvalue</th>\n",
       "      <th>pvalue</th>\n",
       "      <th>stderr</th>\n",
       "    </tr>\n",
       "  </thead>\n",
       "  <tbody>\n",
       "    <tr>\n",
       "      <th>MTELV</th>\n",
       "      <td>0.893859</td>\n",
       "      <td>6.923222</td>\n",
       "      <td>0.703279</td>\n",
       "      <td>1.471382e-186</td>\n",
       "      <td>0.025618</td>\n",
       "    </tr>\n",
       "    <tr>\n",
       "      <th>LVM</th>\n",
       "      <td>1.022861</td>\n",
       "      <td>4.676071</td>\n",
       "      <td>0.796859</td>\n",
       "      <td>0.000000e+00</td>\n",
       "      <td>0.018798</td>\n",
       "    </tr>\n",
       "    <tr>\n",
       "      <th>MTLWM</th>\n",
       "      <td>0.894840</td>\n",
       "      <td>7.826072</td>\n",
       "      <td>0.683627</td>\n",
       "      <td>2.977567e-138</td>\n",
       "      <td>0.030286</td>\n",
       "    </tr>\n",
       "    <tr>\n",
       "      <th>6S0</th>\n",
       "      <td>0.796994</td>\n",
       "      <td>8.129035</td>\n",
       "      <td>0.685876</td>\n",
       "      <td>3.758471e-201</td>\n",
       "      <td>0.022276</td>\n",
       "    </tr>\n",
       "    <tr>\n",
       "      <th>1KM</th>\n",
       "      <td>0.715568</td>\n",
       "      <td>8.136230</td>\n",
       "      <td>0.735165</td>\n",
       "      <td>1.881445e-130</td>\n",
       "      <td>0.023934</td>\n",
       "    </tr>\n",
       "    <tr>\n",
       "      <th>UMHM</th>\n",
       "      <td>0.695138</td>\n",
       "      <td>9.328585</td>\n",
       "      <td>0.715288</td>\n",
       "      <td>1.233256e-229</td>\n",
       "      <td>0.017768</td>\n",
       "    </tr>\n",
       "  </tbody>\n",
       "</table>\n",
       "</div>"
      ],
      "text/plain": [
       "          slope  intercept    rvalue         pvalue    stderr\n",
       "MTELV  0.893859   6.923222  0.703279  1.471382e-186  0.025618\n",
       "LVM    1.022861   4.676071  0.796859   0.000000e+00  0.018798\n",
       "MTLWM  0.894840   7.826072  0.683627  2.977567e-138  0.030286\n",
       "6S0    0.796994   8.129035  0.685876  3.758471e-201  0.022276\n",
       "1KM    0.715568   8.136230  0.735165  1.881445e-130  0.023934\n",
       "UMHM   0.695138   9.328585  0.715288  1.233256e-229  0.017768"
      ]
     },
     "execution_count": 18,
     "metadata": {},
     "output_type": "execute_result"
    }
   ],
   "source": [
    "regression = pd.read_json('../data/derived/regressions.json', orient='table')\n",
    "regression"
   ]
  },
  {
   "cell_type": "markdown",
   "id": "architectural-generation",
   "metadata": {},
   "source": [
    "## Load Observations"
   ]
  },
  {
   "cell_type": "code",
   "execution_count": 19,
   "id": "south-participation",
   "metadata": {},
   "outputs": [
    {
     "data": {
      "text/html": [
       "<div>\n",
       "<style scoped>\n",
       "    .dataframe tbody tr th:only-of-type {\n",
       "        vertical-align: middle;\n",
       "    }\n",
       "\n",
       "    .dataframe tbody tr th {\n",
       "        vertical-align: top;\n",
       "    }\n",
       "\n",
       "    .dataframe thead th {\n",
       "        text-align: right;\n",
       "    }\n",
       "</style>\n",
       "<table border=\"1\" class=\"dataframe\">\n",
       "  <thead>\n",
       "    <tr style=\"text-align: right;\">\n",
       "      <th></th>\n",
       "      <th>site_id</th>\n",
       "      <th>10_meter_wind_speed_of_gust</th>\n",
       "    </tr>\n",
       "    <tr>\n",
       "      <th>time</th>\n",
       "      <th></th>\n",
       "      <th></th>\n",
       "    </tr>\n",
       "  </thead>\n",
       "  <tbody>\n",
       "    <tr>\n",
       "      <th>2020-05-18 01:00:00</th>\n",
       "      <td>1KM</td>\n",
       "      <td>0.000000</td>\n",
       "    </tr>\n",
       "    <tr>\n",
       "      <th>2020-05-18 02:00:00</th>\n",
       "      <td>1KM</td>\n",
       "      <td>9.206236</td>\n",
       "    </tr>\n",
       "    <tr>\n",
       "      <th>2020-05-18 03:00:00</th>\n",
       "      <td>1KM</td>\n",
       "      <td>5.753897</td>\n",
       "    </tr>\n",
       "    <tr>\n",
       "      <th>2020-05-18 04:00:00</th>\n",
       "      <td>1KM</td>\n",
       "      <td>5.753897</td>\n",
       "    </tr>\n",
       "    <tr>\n",
       "      <th>2020-05-18 05:00:00</th>\n",
       "      <td>1KM</td>\n",
       "      <td>5.753897</td>\n",
       "    </tr>\n",
       "    <tr>\n",
       "      <th>...</th>\n",
       "      <td>...</td>\n",
       "      <td>...</td>\n",
       "    </tr>\n",
       "    <tr>\n",
       "      <th>2022-01-08 08:00:00</th>\n",
       "      <td>UMHM</td>\n",
       "      <td>36.693271</td>\n",
       "    </tr>\n",
       "    <tr>\n",
       "      <th>2022-01-08 09:00:00</th>\n",
       "      <td>UMHM</td>\n",
       "      <td>41.189513</td>\n",
       "    </tr>\n",
       "    <tr>\n",
       "      <th>2022-01-08 10:00:00</th>\n",
       "      <td>UMHM</td>\n",
       "      <td>41.994810</td>\n",
       "    </tr>\n",
       "    <tr>\n",
       "      <th>2022-01-08 11:00:00</th>\n",
       "      <td>UMHM</td>\n",
       "      <td>32.890480</td>\n",
       "    </tr>\n",
       "    <tr>\n",
       "      <th>2022-01-08 12:00:00</th>\n",
       "      <td>UMHM</td>\n",
       "      <td>40.093414</td>\n",
       "    </tr>\n",
       "  </tbody>\n",
       "</table>\n",
       "<p>28276 rows × 2 columns</p>\n",
       "</div>"
      ],
      "text/plain": [
       "                    site_id  10_meter_wind_speed_of_gust\n",
       "time                                                    \n",
       "2020-05-18 01:00:00     1KM                     0.000000\n",
       "2020-05-18 02:00:00     1KM                     9.206236\n",
       "2020-05-18 03:00:00     1KM                     5.753897\n",
       "2020-05-18 04:00:00     1KM                     5.753897\n",
       "2020-05-18 05:00:00     1KM                     5.753897\n",
       "...                     ...                          ...\n",
       "2022-01-08 08:00:00    UMHM                    36.693271\n",
       "2022-01-08 09:00:00    UMHM                    41.189513\n",
       "2022-01-08 10:00:00    UMHM                    41.994810\n",
       "2022-01-08 11:00:00    UMHM                    32.890480\n",
       "2022-01-08 12:00:00    UMHM                    40.093414\n",
       "\n",
       "[28276 rows x 2 columns]"
      ]
     },
     "execution_count": 19,
     "metadata": {},
     "output_type": "execute_result"
    }
   ],
   "source": [
    "obs = pd.concat([ load_wind_gust_observation(x, **site_observation_options.get(x, {})) for x in sites]).reset_index()\n",
    "obs.time = obs.time.dt.round('1H')\n",
    "#.sort_values(['time'])\n",
    "obs = obs.groupby(['time', 'site_id']).max().reset_index().set_index('time').sort_index()\n",
    "convert_units(obs, {'10_meter_wind_speed_of_gust': ['m s**-1', 'mph']})\n",
    "obs"
   ]
  },
  {
   "cell_type": "markdown",
   "id": "floating-fashion",
   "metadata": {},
   "source": [
    "## Load NBM Datasets\n",
    "also create subsets for short and long term and filter data to 3 hourly for full NBM"
   ]
  },
  {
   "cell_type": "code",
   "execution_count": 20,
   "id": "divine-moscow",
   "metadata": {},
   "outputs": [
    {
     "data": {
      "text/html": [
       "<div>\n",
       "<style scoped>\n",
       "    .dataframe tbody tr th:only-of-type {\n",
       "        vertical-align: middle;\n",
       "    }\n",
       "\n",
       "    .dataframe tbody tr th {\n",
       "        vertical-align: top;\n",
       "    }\n",
       "\n",
       "    .dataframe thead th {\n",
       "        text-align: right;\n",
       "    }\n",
       "</style>\n",
       "<table border=\"1\" class=\"dataframe\">\n",
       "  <thead>\n",
       "    <tr style=\"text-align: right;\">\n",
       "      <th></th>\n",
       "      <th>Threshold</th>\n",
       "      <th>Probability</th>\n",
       "    </tr>\n",
       "    <tr>\n",
       "      <th>valid_time</th>\n",
       "      <th></th>\n",
       "      <th></th>\n",
       "    </tr>\n",
       "  </thead>\n",
       "  <tbody>\n",
       "    <tr>\n",
       "      <th>2020-10-01 10:00:00</th>\n",
       "      <td>ProbGust_50</td>\n",
       "      <td>0.0</td>\n",
       "    </tr>\n",
       "    <tr>\n",
       "      <th>2020-10-01 10:00:00</th>\n",
       "      <td>ProbGust_75</td>\n",
       "      <td>0.0</td>\n",
       "    </tr>\n",
       "    <tr>\n",
       "      <th>2020-10-01 10:00:00</th>\n",
       "      <td>ProbGust_58</td>\n",
       "      <td>0.0</td>\n",
       "    </tr>\n",
       "    <tr>\n",
       "      <th>2020-10-01 11:00:00</th>\n",
       "      <td>ProbGust_50</td>\n",
       "      <td>0.0</td>\n",
       "    </tr>\n",
       "    <tr>\n",
       "      <th>2020-10-01 11:00:00</th>\n",
       "      <td>ProbGust_75</td>\n",
       "      <td>0.0</td>\n",
       "    </tr>\n",
       "    <tr>\n",
       "      <th>...</th>\n",
       "      <td>...</td>\n",
       "      <td>...</td>\n",
       "    </tr>\n",
       "    <tr>\n",
       "      <th>2021-11-06 10:00:00</th>\n",
       "      <td>ProbGust_58</td>\n",
       "      <td>0.0</td>\n",
       "    </tr>\n",
       "    <tr>\n",
       "      <th>2021-11-06 10:00:00</th>\n",
       "      <td>ProbGust_50</td>\n",
       "      <td>0.0</td>\n",
       "    </tr>\n",
       "    <tr>\n",
       "      <th>2021-11-06 11:00:00</th>\n",
       "      <td>ProbGust_58</td>\n",
       "      <td>0.0</td>\n",
       "    </tr>\n",
       "    <tr>\n",
       "      <th>2021-11-06 11:00:00</th>\n",
       "      <td>ProbGust_50</td>\n",
       "      <td>0.0</td>\n",
       "    </tr>\n",
       "    <tr>\n",
       "      <th>2021-11-06 11:00:00</th>\n",
       "      <td>ProbGust_75</td>\n",
       "      <td>0.0</td>\n",
       "    </tr>\n",
       "  </tbody>\n",
       "</table>\n",
       "<p>31602 rows × 2 columns</p>\n",
       "</div>"
      ],
      "text/plain": [
       "                       Threshold  Probability\n",
       "valid_time                                   \n",
       "2020-10-01 10:00:00  ProbGust_50          0.0\n",
       "2020-10-01 10:00:00  ProbGust_75          0.0\n",
       "2020-10-01 10:00:00  ProbGust_58          0.0\n",
       "2020-10-01 11:00:00  ProbGust_50          0.0\n",
       "2020-10-01 11:00:00  ProbGust_75          0.0\n",
       "...                          ...          ...\n",
       "2021-11-06 10:00:00  ProbGust_58          0.0\n",
       "2021-11-06 10:00:00  ProbGust_50          0.0\n",
       "2021-11-06 11:00:00  ProbGust_58          0.0\n",
       "2021-11-06 11:00:00  ProbGust_50          0.0\n",
       "2021-11-06 11:00:00  ProbGust_75          0.0\n",
       "\n",
       "[31602 rows x 2 columns]"
      ]
     },
     "execution_count": 20,
     "metadata": {},
     "output_type": "execute_result"
    }
   ],
   "source": [
    "nbm = pd.concat([load_nbm_prob_gust(x, regression, [50, 58, 75]).reset_index() for x in sites]).groupby(['reference_time', 'valid_time']).max()\n",
    "\n",
    "nbm = nbm[(nbm.index.get_level_values(1) - nbm.index.get_level_values(0)).total_seconds()/3600 <= 36].copy(deep=True)\n",
    "# nbm_short.columns = [x.replace('ProbGust', 'ShortProbGust') for x in nbm_short.columns]\n",
    "# nbm_long = nbm[(nbm.index.get_level_values(1) - nbm.index.get_level_values(0)).total_seconds()/3600 >= 36].copy(deep=True)\n",
    "# nbm_long.columns = [x.replace('ProbGust', 'LongProbGust') for x in nbm_long.columns]\n",
    "# nbm = filter_three_hourly(nbm)\n",
    "\n",
    "# for prob in [x for x in nbm.columns if x.find('ProbGust_') > -1]:\n",
    "#     nbm[prob] = np.round(nbm[prob] / 10, 0) * 10\n",
    "nbm = nbm.reset_index().set_index('valid_time')\n",
    "nbm = nbm.melt(value_vars=[x for x in nbm.columns if x.find('ProbGust_') > -1], var_name='Threshold', value_name='Probability', ignore_index=False).sort_index()\n",
    "nbm.Probability = np.round(nbm.Probability / 10, 0) * 10\n",
    "nbm"
   ]
  },
  {
   "cell_type": "code",
   "execution_count": 21,
   "id": "lined-atlas",
   "metadata": {},
   "outputs": [
    {
     "data": {
      "text/html": [
       "<div>\n",
       "<style scoped>\n",
       "    .dataframe tbody tr th:only-of-type {\n",
       "        vertical-align: middle;\n",
       "    }\n",
       "\n",
       "    .dataframe tbody tr th {\n",
       "        vertical-align: top;\n",
       "    }\n",
       "\n",
       "    .dataframe thead th {\n",
       "        text-align: right;\n",
       "    }\n",
       "</style>\n",
       "<table border=\"1\" class=\"dataframe\">\n",
       "  <thead>\n",
       "    <tr style=\"text-align: right;\">\n",
       "      <th></th>\n",
       "      <th>index</th>\n",
       "      <th>Threshold</th>\n",
       "      <th>Probability</th>\n",
       "      <th>site_id</th>\n",
       "      <th>10_meter_wind_speed_of_gust</th>\n",
       "    </tr>\n",
       "  </thead>\n",
       "  <tbody>\n",
       "    <tr>\n",
       "      <th>0</th>\n",
       "      <td>2020-10-01 10:00:00</td>\n",
       "      <td>ProbGust_50</td>\n",
       "      <td>0.0</td>\n",
       "      <td>1KM</td>\n",
       "      <td>8.055456</td>\n",
       "    </tr>\n",
       "    <tr>\n",
       "      <th>61548</th>\n",
       "      <td>2020-10-01 10:00:00</td>\n",
       "      <td>ProbGust_50</td>\n",
       "      <td>0.0</td>\n",
       "      <td>ALL</td>\n",
       "      <td>8.055456</td>\n",
       "    </tr>\n",
       "    <tr>\n",
       "      <th>61549</th>\n",
       "      <td>2020-10-01 10:00:00</td>\n",
       "      <td>ProbGust_50</td>\n",
       "      <td>0.0</td>\n",
       "      <td>ALL</td>\n",
       "      <td>13.608089</td>\n",
       "    </tr>\n",
       "    <tr>\n",
       "      <th>1</th>\n",
       "      <td>2020-10-01 10:00:00</td>\n",
       "      <td>ProbGust_50</td>\n",
       "      <td>0.0</td>\n",
       "      <td>UMHM</td>\n",
       "      <td>13.608089</td>\n",
       "    </tr>\n",
       "    <tr>\n",
       "      <th>4</th>\n",
       "      <td>2020-10-01 10:00:00</td>\n",
       "      <td>ProbGust_58</td>\n",
       "      <td>0.0</td>\n",
       "      <td>1KM</td>\n",
       "      <td>8.055456</td>\n",
       "    </tr>\n",
       "    <tr>\n",
       "      <th>...</th>\n",
       "      <td>...</td>\n",
       "      <td>...</td>\n",
       "      <td>...</td>\n",
       "      <td>...</td>\n",
       "      <td>...</td>\n",
       "    </tr>\n",
       "    <tr>\n",
       "      <th>61543</th>\n",
       "      <td>2021-11-06 11:00:00</td>\n",
       "      <td>ProbGust_58</td>\n",
       "      <td>0.0</td>\n",
       "      <td>UMHM</td>\n",
       "      <td>17.500358</td>\n",
       "    </tr>\n",
       "    <tr>\n",
       "      <th>61546</th>\n",
       "      <td>2021-11-06 11:00:00</td>\n",
       "      <td>ProbGust_75</td>\n",
       "      <td>0.0</td>\n",
       "      <td>1KM</td>\n",
       "      <td>9.206236</td>\n",
       "    </tr>\n",
       "    <tr>\n",
       "      <th>123094</th>\n",
       "      <td>2021-11-06 11:00:00</td>\n",
       "      <td>ProbGust_75</td>\n",
       "      <td>0.0</td>\n",
       "      <td>ALL</td>\n",
       "      <td>9.206236</td>\n",
       "    </tr>\n",
       "    <tr>\n",
       "      <th>123095</th>\n",
       "      <td>2021-11-06 11:00:00</td>\n",
       "      <td>ProbGust_75</td>\n",
       "      <td>0.0</td>\n",
       "      <td>ALL</td>\n",
       "      <td>17.500358</td>\n",
       "    </tr>\n",
       "    <tr>\n",
       "      <th>61547</th>\n",
       "      <td>2021-11-06 11:00:00</td>\n",
       "      <td>ProbGust_75</td>\n",
       "      <td>0.0</td>\n",
       "      <td>UMHM</td>\n",
       "      <td>17.500358</td>\n",
       "    </tr>\n",
       "  </tbody>\n",
       "</table>\n",
       "<p>123096 rows × 5 columns</p>\n",
       "</div>"
      ],
      "text/plain": [
       "                     index    Threshold  Probability site_id  \\\n",
       "0      2020-10-01 10:00:00  ProbGust_50          0.0     1KM   \n",
       "61548  2020-10-01 10:00:00  ProbGust_50          0.0     ALL   \n",
       "61549  2020-10-01 10:00:00  ProbGust_50          0.0     ALL   \n",
       "1      2020-10-01 10:00:00  ProbGust_50          0.0    UMHM   \n",
       "4      2020-10-01 10:00:00  ProbGust_58          0.0     1KM   \n",
       "...                    ...          ...          ...     ...   \n",
       "61543  2021-11-06 11:00:00  ProbGust_58          0.0    UMHM   \n",
       "61546  2021-11-06 11:00:00  ProbGust_75          0.0     1KM   \n",
       "123094 2021-11-06 11:00:00  ProbGust_75          0.0     ALL   \n",
       "123095 2021-11-06 11:00:00  ProbGust_75          0.0     ALL   \n",
       "61547  2021-11-06 11:00:00  ProbGust_75          0.0    UMHM   \n",
       "\n",
       "        10_meter_wind_speed_of_gust  \n",
       "0                          8.055456  \n",
       "61548                      8.055456  \n",
       "61549                     13.608089  \n",
       "1                         13.608089  \n",
       "4                          8.055456  \n",
       "...                             ...  \n",
       "61543                     17.500358  \n",
       "61546                      9.206236  \n",
       "123094                     9.206236  \n",
       "123095                    17.500358  \n",
       "61547                     17.500358  \n",
       "\n",
       "[123096 rows x 5 columns]"
      ]
     },
     "execution_count": 21,
     "metadata": {},
     "output_type": "execute_result"
    }
   ],
   "source": [
    "prob_v_obs = pd.merge(left=nbm, right=obs, left_index=True, right_index=True).reset_index()\n",
    "\n",
    "if len(sites) > 1:\n",
    "    prob_v_obs_all = prob_v_obs.copy(deep=True)\n",
    "    prob_v_obs_all.site_id = 'ALL'\n",
    "    prob_v_obs = pd.concat([prob_v_obs, prob_v_obs_all])\n",
    "prob_v_obs = prob_v_obs.reset_index(drop=True).sort_values(['index', 'Threshold', 'Probability', 'site_id'])\n",
    "prob_v_obs"
   ]
  },
  {
   "cell_type": "code",
   "execution_count": 22,
   "id": "proof-ethnic",
   "metadata": {},
   "outputs": [
    {
     "data": {
      "image/png": "[encoded data removed]",
      "text/plain": [
       "<Figure size 1153.85x1080 with 3 Axes>"
      ]
     },
     "metadata": {},
     "output_type": "display_data"
    }
   ],
   "source": [
    "g = sns.catplot(x=\"Probability\", y=\"10_meter_wind_speed_of_gust\",\n",
    "                row=\"Threshold\", hue='site_id', data=prob_v_obs, kind='box', aspect=3, whis=[10,90], showfliers=False)\n",
    "g.set(yticks=range(0,90,10))\n",
    "g.savefig('output/' + sites[0] + '_prob_vs_gust.png' )"
   ]
  },
  {
   "cell_type": "code",
   "execution_count": null,
   "id": "dirty-utility",
   "metadata": {},
   "outputs": [],
   "source": []
  }
 ],
 "metadata": {
  "kernelspec": {
   "display_name": "Python 3",
   "language": "python",
   "name": "python3"
  },
  "language_info": {
   "codemirror_mode": {
    "name": "ipython",
    "version": 3
   },
   "file_extension": ".py",
   "mimetype": "text/x-python",
   "name": "python",
   "nbconvert_exporter": "python",
   "pygments_lexer": "ipython3",
   "version": "3.8.6"
  }
 },
 "nbformat": 4,
 "nbformat_minor": 5
}
