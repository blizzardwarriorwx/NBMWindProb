{
 "cells": [
  {
   "cell_type": "markdown",
   "id": "molecular-diagnosis",
   "metadata": {},
   "source": [
    "# Big Timber (6S0) ProbGust Reliablity\n",
    "\n",
    "Calculate the reliability of ProbGust, and previous guidance.\n",
    "\n",
    "## Import modules"
   ]
  },
  {
   "cell_type": "code",
   "execution_count": 1,
   "id": "rising-italian",
   "metadata": {},
   "outputs": [],
   "source": [
    "import xarray            as xr\n",
    "import pandas            as pd\n",
    "import numpy             as np\n",
    "import matplotlib.pyplot as plt\n",
    "import matplotlib.dates  as mdates\n",
    "import seaborn           as sns\n",
    "import scipy.stats       as stats\n",
    "import pint"
   ]
  },
  {
   "cell_type": "markdown",
   "id": "rapid-customs",
   "metadata": {},
   "source": [
    "## Set some contants"
   ]
  },
  {
   "cell_type": "code",
   "execution_count": 2,
   "id": "passive-custom",
   "metadata": {},
   "outputs": [],
   "source": [
    "sns.set_theme(color_codes=True)\n",
    "units = pint.UnitRegistry()\n",
    "hour = pd.to_timedelta('1H')\n",
    "normal_distribution = stats.norm()"
   ]
  },
  {
   "cell_type": "markdown",
   "id": "looking-likelihood",
   "metadata": {},
   "source": [
    "## Define utility functions"
   ]
  },
  {
   "cell_type": "markdown",
   "id": "acquired-burlington",
   "metadata": {},
   "source": [
    "### load_forecast_grid:\n",
    "Load time series from a gridded source converting units and filtering fields. Also creates the valid time field from reference time and time since reference. Can tranform column names if needed, ie for NBM 1 hour forecast."
   ]
  },
  {
   "cell_type": "code",
   "execution_count": 3,
   "id": "through-slovenia",
   "metadata": {},
   "outputs": [],
   "source": [
    "def load_forecast_grid(filename, filter_fields=None, transform_columns=None):\n",
    "    data = xr.open_dataset(filename).to_dataframe()\n",
    "    if transform_columns is not None:\n",
    "        data.columns = data.columns.to_series().apply(transform_columns)\n",
    "    data['valid_time'] = data.reference_time + data.time_since_reference * hour\n",
    "    data = data.set_index(['reference_time', 'valid_time']).sort_index()\n",
    "    if filter_fields is None:\n",
    "        filter_fields = data.columns\n",
    "    return data[filter_fields]"
   ]
  },
  {
   "cell_type": "markdown",
   "id": "rough-cedar",
   "metadata": {},
   "source": [
    "### convert_units\n",
    "Convert units of columns in a DataFrame"
   ]
  },
  {
   "cell_type": "code",
   "execution_count": 4,
   "id": "operating-russia",
   "metadata": {},
   "outputs": [],
   "source": [
    "def convert_units(data, columns):\n",
    "    for col in columns.keys():\n",
    "        data[col] = pint.Quantity(data[col].to_numpy(), units(columns[col][0])).to(units(columns[col][1])).magnitude"
   ]
  },
  {
   "cell_type": "markdown",
   "id": "confused-communications",
   "metadata": {},
   "source": [
    "### filter_missing_data\n",
    "Filter rows that are filled with NaNs, ignoring time fields by default"
   ]
  },
  {
   "cell_type": "code",
   "execution_count": 5,
   "id": "public-malaysia",
   "metadata": {},
   "outputs": [],
   "source": [
    "def filter_missing_data(data):\n",
    "    return data.dropna(how='all')"
   ]
  },
  {
   "cell_type": "markdown",
   "id": "quality-sweet",
   "metadata": {},
   "source": [
    "### load_observations\n",
    "Load time series from observation source, converting units and filtering fields."
   ]
  },
  {
   "cell_type": "code",
   "execution_count": 6,
   "id": "british-purse",
   "metadata": {},
   "outputs": [],
   "source": [
    "def load_observations(filename, filter_fields=None):\n",
    "    data = xr.open_dataset(filename).to_dataframe().set_index('time').sort_index()\n",
    "    if filter_fields is not None:\n",
    "        data = data.loc[:, filter_fields]\n",
    "    return data"
   ]
  },
  {
   "cell_type": "markdown",
   "id": "collective-score",
   "metadata": {},
   "source": [
    "### replace_missing_gust_with_wind\n",
    "Since that gusts for AWOS/ASOS are not reported unless the gusts is sufficiently higher than sustained wind, replace missing gust values with the sustained to compare to RTMA / NBM that always has a gust value."
   ]
  },
  {
   "cell_type": "code",
   "execution_count": 7,
   "id": "polish-stephen",
   "metadata": {},
   "outputs": [],
   "source": [
    "def replace_missing_gust_with_wind(data, wind_field, wind_gust_field):\n",
    "    index = np.isnan(data[wind_gust_field])\n",
    "    data.loc[index, wind_gust_field] = data[wind_field][index]"
   ]
  },
  {
   "cell_type": "markdown",
   "id": "identified-ridge",
   "metadata": {},
   "source": [
    "### get_period_maximum\n",
    "Find the maximum values when rounding the time fields to nearest time period"
   ]
  },
  {
   "cell_type": "code",
   "execution_count": 8,
   "id": "blank-pottery",
   "metadata": {},
   "outputs": [],
   "source": [
    "def get_period_maximum(data, period='1H'):\n",
    "    return data.groupby(data.index.round(period)).max()"
   ]
  },
  {
   "cell_type": "markdown",
   "id": "varying-anderson",
   "metadata": {},
   "source": [
    "### convert_units\n",
    "Convert units of columns in a DataFrame"
   ]
  },
  {
   "cell_type": "code",
   "execution_count": 9,
   "id": "eleven-facing",
   "metadata": {},
   "outputs": [],
   "source": [
    "def convert_units(data, columns):\n",
    "    for col in columns.keys():\n",
    "        data[col] = pint.Quantity(data[col].to_numpy(), units(columns[col][0])).to(units(columns[col][1])).magnitude"
   ]
  },
  {
   "cell_type": "markdown",
   "id": "democratic-messenger",
   "metadata": {},
   "source": [
    "### time_match_dataset\n",
    "Time-match dataset while prefixing the columns of each dataset"
   ]
  },
  {
   "cell_type": "code",
   "execution_count": 10,
   "id": "czech-strengthening",
   "metadata": {},
   "outputs": [],
   "source": [
    "def time_match_dataset(left, right, left_prefix='obs', right_prefix='grid', left_time='time', right_time='valid_time'):\n",
    "    left_data = left.copy(deep=True)\n",
    "    left_data.columns = ['{0:s}_{1:s}'.format(x, left_prefix) for x in left_data.columns]\n",
    "    right_data = right.copy(deep=True)\n",
    "    right_data.columns = ['{0:s}_{1:s}'.format(x, right_prefix) for x in right_data.columns]\n",
    "    return pd.merge(left_data, right_data, how='inner', left_on='{0:s}_{1:s}'.format(left_time, left_prefix), right_on='{0:s}_{1:s}'.format(right_time, right_prefix)).reset_index()"
   ]
  },
  {
   "cell_type": "markdown",
   "id": "olympic-aging",
   "metadata": {},
   "source": [
    "### filter_three_hourly\n",
    "Filter NBM data to 3 hourly forecast"
   ]
  },
  {
   "cell_type": "code",
   "execution_count": 11,
   "id": "subjective-development",
   "metadata": {},
   "outputs": [],
   "source": [
    "def filter_three_hourly(data, time_field='valid_time'):\n",
    "    return data[data.index.get_level_values(time_field).hour % 3 == 0]"
   ]
  },
  {
   "cell_type": "markdown",
   "id": "latin-elite",
   "metadata": {},
   "source": [
    "### generate_probability\n",
    "Calculate the Z-Score given the bias-corrected NBM mean wind gust and standard deviation"
   ]
  },
  {
   "cell_type": "code",
   "execution_count": 12,
   "id": "invalid-white",
   "metadata": {},
   "outputs": [],
   "source": [
    "def generate_prob_gust(data, threshold, unit='mph', tollerance = 0.6, mean='10_meter_wind_speed_of_gust_mean', standard_deviation='10_meter_wind_speed_of_gust_standard_deviation'):\n",
    "    threshold = pint.Quantity(threshold - tollerance, units(unit)).to(units('m s**-1')).magnitude\n",
    "    z_score = pd.Series((threshold - data[mean]) / data[standard_deviation], index=data.index)\n",
    "    return pd.Series(np.round((100 * normal_distribution.sf(z_score))), index=data.index)\n"
   ]
  },
  {
   "cell_type": "markdown",
   "id": "owned-multimedia",
   "metadata": {},
   "source": [
    "### standard_error_of_estimate\n",
    "calculate the standard error from a slope and intercept"
   ]
  },
  {
   "cell_type": "code",
   "execution_count": 13,
   "id": "juvenile-wings",
   "metadata": {},
   "outputs": [],
   "source": [
    "def standard_error_of_estimate(x, y, slope, intercept):\n",
    "    x = np.array(x)\n",
    "    y = np.array(y)\n",
    "    error = np.inf\n",
    "    if len(x) > 2:\n",
    "        error = np.sqrt(np.sum(((slope * x + intercept) - y)**2) / (len(x) - 2))\n",
    "    return error"
   ]
  },
  {
   "cell_type": "markdown",
   "id": "discrete-warning",
   "metadata": {},
   "source": [
    "### expand_timelag\n",
    "Duplicate a dataframe while adjusting a datetime field by an interval to create a time-lagged dataset"
   ]
  },
  {
   "cell_type": "code",
   "execution_count": 14,
   "id": "banner-routine",
   "metadata": {},
   "outputs": [],
   "source": [
    "def expand_timelag(df, interval, field='reference_time'):\n",
    "    df2 = df.copy(deep=True).reset_index()\n",
    "    df2[field] += pd.to_timedelta(interval)\n",
    "    return df2"
   ]
  },
  {
   "cell_type": "markdown",
   "id": "loaded-venezuela",
   "metadata": {},
   "source": [
    "### correction\n",
    "Apply operational correction to the time-lagged NAM proability for 6S0"
   ]
  },
  {
   "cell_type": "code",
   "execution_count": 15,
   "id": "three-complex",
   "metadata": {},
   "outputs": [],
   "source": [
    "def correction(criteria, value):\n",
    "    new_value = value\n",
    "    if criteria == 50:\n",
    "        if value < 6:\n",
    "            new_value = 0\n",
    "        elif (6 <= value) and (value < 10):\n",
    "            new_value = 15\n",
    "        elif (10 <= value) and (value < 20):\n",
    "            new_value = 25\n",
    "        elif (20 <= value) and (value < 40):\n",
    "            new_value = 60\n",
    "        else:\n",
    "            new_value = 90\n",
    "    elif criteria == 58:\n",
    "        if value < 10:\n",
    "            new_value = 0\n",
    "        elif (10 <= value) and (value < 20):\n",
    "            new_value = 5\n",
    "        elif (20 <= value) and (value < 40):\n",
    "            new_value = 25\n",
    "        else:\n",
    "            new_value = 55\n",
    "    elif criteria == 70:\n",
    "        if value < 10:\n",
    "            new_value = 0\n",
    "        elif (10 <= value) and (value < 20):\n",
    "            new_value = 0\n",
    "        elif (20 <= value) and (value < 40):\n",
    "            new_value = 2\n",
    "        else:\n",
    "            new_value = 10\n",
    "    return new_value"
   ]
  },
  {
   "cell_type": "markdown",
   "id": "limited-proceeding",
   "metadata": {},
   "source": [
    "### load_operational_probability\n",
    "Load the operational probability for the time-lagged wind guidance"
   ]
  },
  {
   "cell_type": "code",
   "execution_count": 16,
   "id": "acknowledged-penalty",
   "metadata": {},
   "outputs": [],
   "source": [
    "def load_operational_probability():\n",
    "    previous_data = xr.open_dataset('../data/database/K6S0model.nc').to_dataframe()\n",
    "    previous_data = previous_data.fillna(0)\n",
    "    previous_data = previous_data[(previous_data.model == 'NAM') & (previous_data.valid >= pd.to_datetime('2020-09-30T18:00:00Z').to_datetime64())][['run', 'valid', 'WrnProb']].sort_values(['valid', 'run']).reset_index(drop=True)\n",
    "    previous_data.columns = ['reference_time', 'valid_time', 'OriginalWarningProb_58']\n",
    "    previous_data = previous_data.set_index(['reference_time', 'valid_time'])\n",
    "    previous_data['TimeLaggedWarningProb_58'] = pd.concat([expand_timelag(previous_data, '{0:d}H'.format(i*6)) for i in range(12)]).groupby(['reference_time', 'valid_time']).mean()['OriginalWarningProb_58']\n",
    "\n",
    "    for threshold in [50, 58, 70]:\n",
    "        previous_data['Operational_{0:d}'.format(threshold)] = previous_data['TimeLaggedWarningProb_58'].apply(lambda a: correction(threshold, a))\n",
    "\n",
    "    return previous_data[[x for x in previous_data.columns if x.find('Operational_') > -1]]"
   ]
  },
  {
   "cell_type": "markdown",
   "id": "convinced-african",
   "metadata": {},
   "source": [
    "### load_nbm_prob_gust\n",
    "apply bias-correction and calculate ProbGust"
   ]
  },
  {
   "cell_type": "code",
   "execution_count": 17,
   "id": "oriented-noise",
   "metadata": {},
   "outputs": [],
   "source": [
    "def load_nbm_prob_gust(siteID, regression, thresholds, mean='10_meter_wind_speed_of_gust_mean', spread='10_meter_wind_speed_of_gust_standard_deviation'):\n",
    "    nbm_data = load_forecast_grid('../data/nbm/NBM_{0:s}.nc'.format(siteID), filter_fields=[mean, spread])\n",
    "    nbm_data = filter_missing_data(nbm_data)\n",
    "    nbm_data[mean] = regression.slope[siteID] * nbm_data[mean] + regression.intercept[siteID]\n",
    "    for threshold in thresholds:\n",
    "        nbm_data['ProbGust_{0:d}'.format(threshold)] = generate_prob_gust(nbm_data, threshold)\n",
    "    return nbm_data[[col for col in nbm_data.columns if col.find('ProbGust') > -1]]"
   ]
  },
  {
   "cell_type": "markdown",
   "id": "activated-enhancement",
   "metadata": {},
   "source": [
    "### load_wind_gust_observation\n",
    "load the wind gust, optionally filling with wind speed if gust is missing and applying a correction"
   ]
  },
  {
   "cell_type": "code",
   "execution_count": 18,
   "id": "rubber-marketing",
   "metadata": {},
   "outputs": [],
   "source": [
    "def load_wind_gust_observation(siteID, wind_speed='10_meter_wind_speed', wind_gust='10_meter_wind_speed_of_gust', correction=None):\n",
    "    obs_data = load_observations('../data/observations/{0:s}.nc'.format(siteID), \n",
    "                                 filter_fields=[x for x in [wind_speed, wind_gust] if x is not None])\n",
    "    if wind_speed is not None:\n",
    "        replace_missing_gust_with_wind(obs_data, wind_speed, wind_gust)\n",
    "    obs_data = obs_data[[wind_gust]].reset_index().set_index('time')\n",
    "    if correction is not None:\n",
    "        obs_data = correction(obs_data)\n",
    "    return filter_missing_data(obs_data)"
   ]
  },
  {
   "cell_type": "markdown",
   "id": "manual-recognition",
   "metadata": {},
   "source": [
    "## Read Bias-Correction parameters"
   ]
  },
  {
   "cell_type": "code",
   "execution_count": 19,
   "id": "driving-corporation",
   "metadata": {
    "tags": []
   },
   "outputs": [
    {
     "data": {
      "text/html": [
       "<div>\n",
       "<style scoped>\n",
       "    .dataframe tbody tr th:only-of-type {\n",
       "        vertical-align: middle;\n",
       "    }\n",
       "\n",
       "    .dataframe tbody tr th {\n",
       "        vertical-align: top;\n",
       "    }\n",
       "\n",
       "    .dataframe thead th {\n",
       "        text-align: right;\n",
       "    }\n",
       "</style>\n",
       "<table border=\"1\" class=\"dataframe\">\n",
       "  <thead>\n",
       "    <tr style=\"text-align: right;\">\n",
       "      <th></th>\n",
       "      <th>slope</th>\n",
       "      <th>intercept</th>\n",
       "      <th>rvalue</th>\n",
       "      <th>pvalue</th>\n",
       "      <th>stderr</th>\n",
       "    </tr>\n",
       "  </thead>\n",
       "  <tbody>\n",
       "    <tr>\n",
       "      <th>6S0</th>\n",
       "      <td>0.796994</td>\n",
       "      <td>8.129035</td>\n",
       "      <td>0.685876</td>\n",
       "      <td>3.758471e-201</td>\n",
       "      <td>0.022276</td>\n",
       "    </tr>\n",
       "  </tbody>\n",
       "</table>\n",
       "</div>"
      ],
      "text/plain": [
       "        slope  intercept    rvalue         pvalue    stderr\n",
       "6S0  0.796994   8.129035  0.685876  3.758471e-201  0.022276"
      ]
     },
     "execution_count": 19,
     "metadata": {},
     "output_type": "execute_result"
    }
   ],
   "source": [
    "regression = pd.read_json('../data/derived/regressions.json', orient='table')\n",
    "regression"
   ]
  },
  {
   "cell_type": "markdown",
   "id": "complicated-comedy",
   "metadata": {},
   "source": [
    "## Load Observations"
   ]
  },
  {
   "cell_type": "code",
   "execution_count": 20,
   "id": "nuclear-buffer",
   "metadata": {},
   "outputs": [
    {
     "data": {
      "text/html": [
       "<div>\n",
       "<style scoped>\n",
       "    .dataframe tbody tr th:only-of-type {\n",
       "        vertical-align: middle;\n",
       "    }\n",
       "\n",
       "    .dataframe tbody tr th {\n",
       "        vertical-align: top;\n",
       "    }\n",
       "\n",
       "    .dataframe thead th {\n",
       "        text-align: right;\n",
       "    }\n",
       "</style>\n",
       "<table border=\"1\" class=\"dataframe\">\n",
       "  <thead>\n",
       "    <tr style=\"text-align: right;\">\n",
       "      <th></th>\n",
       "      <th>10_meter_wind_speed_of_gust</th>\n",
       "    </tr>\n",
       "    <tr>\n",
       "      <th>time</th>\n",
       "      <th></th>\n",
       "    </tr>\n",
       "  </thead>\n",
       "  <tbody>\n",
       "    <tr>\n",
       "      <th>2018-11-06 14:15:00</th>\n",
       "      <td>3.086667</td>\n",
       "    </tr>\n",
       "    <tr>\n",
       "      <th>2018-11-06 14:35:00</th>\n",
       "      <td>2.057778</td>\n",
       "    </tr>\n",
       "    <tr>\n",
       "      <th>2018-11-06 14:55:00</th>\n",
       "      <td>4.115556</td>\n",
       "    </tr>\n",
       "    <tr>\n",
       "      <th>2018-11-06 15:15:00</th>\n",
       "      <td>3.601111</td>\n",
       "    </tr>\n",
       "    <tr>\n",
       "      <th>2018-11-06 15:35:00</th>\n",
       "      <td>3.601111</td>\n",
       "    </tr>\n",
       "    <tr>\n",
       "      <th>...</th>\n",
       "      <td>...</td>\n",
       "    </tr>\n",
       "    <tr>\n",
       "      <th>2021-03-02 23:15:00</th>\n",
       "      <td>12.346667</td>\n",
       "    </tr>\n",
       "    <tr>\n",
       "      <th>2021-03-02 23:25:00</th>\n",
       "      <td>12.861111</td>\n",
       "    </tr>\n",
       "    <tr>\n",
       "      <th>2021-03-02 23:35:00</th>\n",
       "      <td>12.861111</td>\n",
       "    </tr>\n",
       "    <tr>\n",
       "      <th>2021-03-02 23:40:00</th>\n",
       "      <td>10.803333</td>\n",
       "    </tr>\n",
       "    <tr>\n",
       "      <th>2021-03-02 23:55:00</th>\n",
       "      <td>12.346667</td>\n",
       "    </tr>\n",
       "  </tbody>\n",
       "</table>\n",
       "<p>82163 rows × 1 columns</p>\n",
       "</div>"
      ],
      "text/plain": [
       "                     10_meter_wind_speed_of_gust\n",
       "time                                            \n",
       "2018-11-06 14:15:00                     3.086667\n",
       "2018-11-06 14:35:00                     2.057778\n",
       "2018-11-06 14:55:00                     4.115556\n",
       "2018-11-06 15:15:00                     3.601111\n",
       "2018-11-06 15:35:00                     3.601111\n",
       "...                                          ...\n",
       "2021-03-02 23:15:00                    12.346667\n",
       "2021-03-02 23:25:00                    12.861111\n",
       "2021-03-02 23:35:00                    12.861111\n",
       "2021-03-02 23:40:00                    10.803333\n",
       "2021-03-02 23:55:00                    12.346667\n",
       "\n",
       "[82163 rows x 1 columns]"
      ]
     },
     "execution_count": 20,
     "metadata": {},
     "output_type": "execute_result"
    }
   ],
   "source": [
    "obs = pd.concat([ load_wind_gust_observation(x) for x in ['6S0']]).sort_values(['time']).groupby(['time']).max()\n",
    "obs"
   ]
  },
  {
   "cell_type": "markdown",
   "id": "meaning-address",
   "metadata": {},
   "source": [
    "## Load NBM Datasets\n",
    "also create subsets for short and long term and filter data to 3 hourly for full NBM"
   ]
  },
  {
   "cell_type": "code",
   "execution_count": 21,
   "id": "worse-wesley",
   "metadata": {},
   "outputs": [
    {
     "data": {
      "text/html": [
       "<div>\n",
       "<style scoped>\n",
       "    .dataframe tbody tr th:only-of-type {\n",
       "        vertical-align: middle;\n",
       "    }\n",
       "\n",
       "    .dataframe tbody tr th {\n",
       "        vertical-align: top;\n",
       "    }\n",
       "\n",
       "    .dataframe thead th {\n",
       "        text-align: right;\n",
       "    }\n",
       "</style>\n",
       "<table border=\"1\" class=\"dataframe\">\n",
       "  <thead>\n",
       "    <tr style=\"text-align: right;\">\n",
       "      <th></th>\n",
       "      <th></th>\n",
       "      <th>ProbGust_50</th>\n",
       "      <th>ProbGust_58</th>\n",
       "      <th>ProbGust_70</th>\n",
       "    </tr>\n",
       "    <tr>\n",
       "      <th>reference_time</th>\n",
       "      <th>valid_time</th>\n",
       "      <th></th>\n",
       "      <th></th>\n",
       "      <th></th>\n",
       "    </tr>\n",
       "  </thead>\n",
       "  <tbody>\n",
       "    <tr>\n",
       "      <th rowspan=\"5\" valign=\"top\">2020-10-01 09:00:00</th>\n",
       "      <th>2020-10-01 12:00:00</th>\n",
       "      <td>0.0</td>\n",
       "      <td>0.0</td>\n",
       "      <td>0.0</td>\n",
       "    </tr>\n",
       "    <tr>\n",
       "      <th>2020-10-01 15:00:00</th>\n",
       "      <td>0.0</td>\n",
       "      <td>0.0</td>\n",
       "      <td>0.0</td>\n",
       "    </tr>\n",
       "    <tr>\n",
       "      <th>2020-10-01 18:00:00</th>\n",
       "      <td>0.0</td>\n",
       "      <td>0.0</td>\n",
       "      <td>0.0</td>\n",
       "    </tr>\n",
       "    <tr>\n",
       "      <th>2020-10-01 21:00:00</th>\n",
       "      <td>0.0</td>\n",
       "      <td>0.0</td>\n",
       "      <td>0.0</td>\n",
       "    </tr>\n",
       "    <tr>\n",
       "      <th>2020-10-02 00:00:00</th>\n",
       "      <td>0.0</td>\n",
       "      <td>0.0</td>\n",
       "      <td>0.0</td>\n",
       "    </tr>\n",
       "    <tr>\n",
       "      <th>...</th>\n",
       "      <th>...</th>\n",
       "      <td>...</td>\n",
       "      <td>...</td>\n",
       "      <td>...</td>\n",
       "    </tr>\n",
       "    <tr>\n",
       "      <th rowspan=\"5\" valign=\"top\">2021-02-28 21:00:00</th>\n",
       "      <th>2021-03-07 09:00:00</th>\n",
       "      <td>0.0</td>\n",
       "      <td>0.0</td>\n",
       "      <td>0.0</td>\n",
       "    </tr>\n",
       "    <tr>\n",
       "      <th>2021-03-07 12:00:00</th>\n",
       "      <td>0.0</td>\n",
       "      <td>0.0</td>\n",
       "      <td>0.0</td>\n",
       "    </tr>\n",
       "    <tr>\n",
       "      <th>2021-03-07 15:00:00</th>\n",
       "      <td>0.0</td>\n",
       "      <td>0.0</td>\n",
       "      <td>0.0</td>\n",
       "    </tr>\n",
       "    <tr>\n",
       "      <th>2021-03-07 18:00:00</th>\n",
       "      <td>1.0</td>\n",
       "      <td>0.0</td>\n",
       "      <td>0.0</td>\n",
       "    </tr>\n",
       "    <tr>\n",
       "      <th>2021-03-07 21:00:00</th>\n",
       "      <td>1.0</td>\n",
       "      <td>0.0</td>\n",
       "      <td>0.0</td>\n",
       "    </tr>\n",
       "  </tbody>\n",
       "</table>\n",
       "<p>16294 rows × 3 columns</p>\n",
       "</div>"
      ],
      "text/plain": [
       "                                         ProbGust_50  ProbGust_58  ProbGust_70\n",
       "reference_time      valid_time                                                \n",
       "2020-10-01 09:00:00 2020-10-01 12:00:00          0.0          0.0          0.0\n",
       "                    2020-10-01 15:00:00          0.0          0.0          0.0\n",
       "                    2020-10-01 18:00:00          0.0          0.0          0.0\n",
       "                    2020-10-01 21:00:00          0.0          0.0          0.0\n",
       "                    2020-10-02 00:00:00          0.0          0.0          0.0\n",
       "...                                              ...          ...          ...\n",
       "2021-02-28 21:00:00 2021-03-07 09:00:00          0.0          0.0          0.0\n",
       "                    2021-03-07 12:00:00          0.0          0.0          0.0\n",
       "                    2021-03-07 15:00:00          0.0          0.0          0.0\n",
       "                    2021-03-07 18:00:00          1.0          0.0          0.0\n",
       "                    2021-03-07 21:00:00          1.0          0.0          0.0\n",
       "\n",
       "[16294 rows x 3 columns]"
      ]
     },
     "execution_count": 21,
     "metadata": {},
     "output_type": "execute_result"
    }
   ],
   "source": [
    "nbm = pd.concat([load_nbm_prob_gust(x, regression, [50, 58, 70]).reset_index() for x in ['6S0']]).groupby(['reference_time', 'valid_time']).max()\n",
    "nbm_short = nbm[(nbm.index.get_level_values(1) - nbm.index.get_level_values(0)).total_seconds()/3600 <= 36].copy(deep=True)\n",
    "nbm_short.columns = [x.replace('ProbGust', 'ShortProbGust') for x in nbm_short.columns]\n",
    "nbm_long = nbm[(nbm.index.get_level_values(1) - nbm.index.get_level_values(0)).total_seconds()/3600 >= 36].copy(deep=True)\n",
    "nbm_long.columns = [x.replace('ProbGust', 'LongProbGust') for x in nbm_long.columns]\n",
    "nbm = filter_three_hourly(nbm)\n",
    "nbm"
   ]
  },
  {
   "cell_type": "markdown",
   "id": "distinct-turning",
   "metadata": {},
   "source": [
    "## Load Operation Probability Guidance"
   ]
  },
  {
   "cell_type": "code",
   "execution_count": 22,
   "id": "loaded-front",
   "metadata": {},
   "outputs": [
    {
     "data": {
      "text/html": [
       "<div>\n",
       "<style scoped>\n",
       "    .dataframe tbody tr th:only-of-type {\n",
       "        vertical-align: middle;\n",
       "    }\n",
       "\n",
       "    .dataframe tbody tr th {\n",
       "        vertical-align: top;\n",
       "    }\n",
       "\n",
       "    .dataframe thead th {\n",
       "        text-align: right;\n",
       "    }\n",
       "</style>\n",
       "<table border=\"1\" class=\"dataframe\">\n",
       "  <thead>\n",
       "    <tr style=\"text-align: right;\">\n",
       "      <th></th>\n",
       "      <th></th>\n",
       "      <th>Operational_50</th>\n",
       "      <th>Operational_58</th>\n",
       "      <th>Operational_70</th>\n",
       "    </tr>\n",
       "    <tr>\n",
       "      <th>reference_time</th>\n",
       "      <th>valid_time</th>\n",
       "      <th></th>\n",
       "      <th></th>\n",
       "      <th></th>\n",
       "    </tr>\n",
       "  </thead>\n",
       "  <tbody>\n",
       "    <tr>\n",
       "      <th>2020-09-27 06:00:00</th>\n",
       "      <th>2020-09-30 18:00:00</th>\n",
       "      <td>0</td>\n",
       "      <td>0</td>\n",
       "      <td>0</td>\n",
       "    </tr>\n",
       "    <tr>\n",
       "      <th>2020-09-27 12:00:00</th>\n",
       "      <th>2020-09-30 18:00:00</th>\n",
       "      <td>0</td>\n",
       "      <td>0</td>\n",
       "      <td>0</td>\n",
       "    </tr>\n",
       "    <tr>\n",
       "      <th>2020-09-27 18:00:00</th>\n",
       "      <th>2020-09-30 18:00:00</th>\n",
       "      <td>0</td>\n",
       "      <td>0</td>\n",
       "      <td>0</td>\n",
       "    </tr>\n",
       "    <tr>\n",
       "      <th>2020-09-28 00:00:00</th>\n",
       "      <th>2020-09-30 18:00:00</th>\n",
       "      <td>0</td>\n",
       "      <td>0</td>\n",
       "      <td>0</td>\n",
       "    </tr>\n",
       "    <tr>\n",
       "      <th>2020-09-28 18:00:00</th>\n",
       "      <th>2020-09-30 18:00:00</th>\n",
       "      <td>0</td>\n",
       "      <td>0</td>\n",
       "      <td>0</td>\n",
       "    </tr>\n",
       "    <tr>\n",
       "      <th>...</th>\n",
       "      <th>...</th>\n",
       "      <td>...</td>\n",
       "      <td>...</td>\n",
       "      <td>...</td>\n",
       "    </tr>\n",
       "    <tr>\n",
       "      <th>2021-03-22 18:00:00</th>\n",
       "      <th>2021-03-25 21:00:00</th>\n",
       "      <td>0</td>\n",
       "      <td>0</td>\n",
       "      <td>0</td>\n",
       "    </tr>\n",
       "    <tr>\n",
       "      <th>2021-03-22 12:00:00</th>\n",
       "      <th>2021-03-26 00:00:00</th>\n",
       "      <td>0</td>\n",
       "      <td>0</td>\n",
       "      <td>0</td>\n",
       "    </tr>\n",
       "    <tr>\n",
       "      <th rowspan=\"3\" valign=\"top\">2021-03-22 18:00:00</th>\n",
       "      <th>2021-03-26 00:00:00</th>\n",
       "      <td>0</td>\n",
       "      <td>0</td>\n",
       "      <td>0</td>\n",
       "    </tr>\n",
       "    <tr>\n",
       "      <th>2021-03-26 03:00:00</th>\n",
       "      <td>0</td>\n",
       "      <td>0</td>\n",
       "      <td>0</td>\n",
       "    </tr>\n",
       "    <tr>\n",
       "      <th>2021-03-26 06:00:00</th>\n",
       "      <td>0</td>\n",
       "      <td>0</td>\n",
       "      <td>0</td>\n",
       "    </tr>\n",
       "  </tbody>\n",
       "</table>\n",
       "<p>19369 rows × 3 columns</p>\n",
       "</div>"
      ],
      "text/plain": [
       "                                         Operational_50  Operational_58  \\\n",
       "reference_time      valid_time                                            \n",
       "2020-09-27 06:00:00 2020-09-30 18:00:00               0               0   \n",
       "2020-09-27 12:00:00 2020-09-30 18:00:00               0               0   \n",
       "2020-09-27 18:00:00 2020-09-30 18:00:00               0               0   \n",
       "2020-09-28 00:00:00 2020-09-30 18:00:00               0               0   \n",
       "2020-09-28 18:00:00 2020-09-30 18:00:00               0               0   \n",
       "...                                                 ...             ...   \n",
       "2021-03-22 18:00:00 2021-03-25 21:00:00               0               0   \n",
       "2021-03-22 12:00:00 2021-03-26 00:00:00               0               0   \n",
       "2021-03-22 18:00:00 2021-03-26 00:00:00               0               0   \n",
       "                    2021-03-26 03:00:00               0               0   \n",
       "                    2021-03-26 06:00:00               0               0   \n",
       "\n",
       "                                         Operational_70  \n",
       "reference_time      valid_time                           \n",
       "2020-09-27 06:00:00 2020-09-30 18:00:00               0  \n",
       "2020-09-27 12:00:00 2020-09-30 18:00:00               0  \n",
       "2020-09-27 18:00:00 2020-09-30 18:00:00               0  \n",
       "2020-09-28 00:00:00 2020-09-30 18:00:00               0  \n",
       "2020-09-28 18:00:00 2020-09-30 18:00:00               0  \n",
       "...                                                 ...  \n",
       "2021-03-22 18:00:00 2021-03-25 21:00:00               0  \n",
       "2021-03-22 12:00:00 2021-03-26 00:00:00               0  \n",
       "2021-03-22 18:00:00 2021-03-26 00:00:00               0  \n",
       "                    2021-03-26 03:00:00               0  \n",
       "                    2021-03-26 06:00:00               0  \n",
       "\n",
       "[19369 rows x 3 columns]"
      ]
     },
     "execution_count": 22,
     "metadata": {},
     "output_type": "execute_result"
    }
   ],
   "source": [
    "previous = load_operational_probability()\n",
    "previous"
   ]
  },
  {
   "cell_type": "markdown",
   "id": "significant-breakdown",
   "metadata": {},
   "source": [
    "## Time-match Observations, NBM, and Operational Guidance"
   ]
  },
  {
   "cell_type": "code",
   "execution_count": 23,
   "id": "solved-violence",
   "metadata": {},
   "outputs": [
    {
     "data": {
      "text/html": [
       "<div>\n",
       "<style scoped>\n",
       "    .dataframe tbody tr th:only-of-type {\n",
       "        vertical-align: middle;\n",
       "    }\n",
       "\n",
       "    .dataframe tbody tr th {\n",
       "        vertical-align: top;\n",
       "    }\n",
       "\n",
       "    .dataframe thead th {\n",
       "        text-align: right;\n",
       "    }\n",
       "</style>\n",
       "<table border=\"1\" class=\"dataframe\">\n",
       "  <thead>\n",
       "    <tr style=\"text-align: right;\">\n",
       "      <th></th>\n",
       "      <th>Dataset</th>\n",
       "      <th>Value</th>\n",
       "      <th>Hit</th>\n",
       "    </tr>\n",
       "  </thead>\n",
       "  <tbody>\n",
       "    <tr>\n",
       "      <th>0</th>\n",
       "      <td>LongProbGust_50</td>\n",
       "      <td>0.0</td>\n",
       "      <td>5.479181</td>\n",
       "    </tr>\n",
       "    <tr>\n",
       "      <th>1</th>\n",
       "      <td>LongProbGust_50</td>\n",
       "      <td>5.0</td>\n",
       "      <td>18.077803</td>\n",
       "    </tr>\n",
       "    <tr>\n",
       "      <th>2</th>\n",
       "      <td>LongProbGust_50</td>\n",
       "      <td>10.0</td>\n",
       "      <td>29.166667</td>\n",
       "    </tr>\n",
       "    <tr>\n",
       "      <th>3</th>\n",
       "      <td>LongProbGust_50</td>\n",
       "      <td>15.0</td>\n",
       "      <td>25.287356</td>\n",
       "    </tr>\n",
       "    <tr>\n",
       "      <th>4</th>\n",
       "      <td>LongProbGust_50</td>\n",
       "      <td>20.0</td>\n",
       "      <td>29.906542</td>\n",
       "    </tr>\n",
       "    <tr>\n",
       "      <th>...</th>\n",
       "      <td>...</td>\n",
       "      <td>...</td>\n",
       "      <td>...</td>\n",
       "    </tr>\n",
       "    <tr>\n",
       "      <th>149</th>\n",
       "      <td>ShortProbGust_70</td>\n",
       "      <td>25.0</td>\n",
       "      <td>20.000000</td>\n",
       "    </tr>\n",
       "    <tr>\n",
       "      <th>150</th>\n",
       "      <td>ShortProbGust_70</td>\n",
       "      <td>30.0</td>\n",
       "      <td>33.333333</td>\n",
       "    </tr>\n",
       "    <tr>\n",
       "      <th>151</th>\n",
       "      <td>ShortProbGust_70</td>\n",
       "      <td>35.0</td>\n",
       "      <td>100.000000</td>\n",
       "    </tr>\n",
       "    <tr>\n",
       "      <th>152</th>\n",
       "      <td>ShortProbGust_70</td>\n",
       "      <td>45.0</td>\n",
       "      <td>100.000000</td>\n",
       "    </tr>\n",
       "    <tr>\n",
       "      <th>153</th>\n",
       "      <td>ShortProbGust_70</td>\n",
       "      <td>50.0</td>\n",
       "      <td>100.000000</td>\n",
       "    </tr>\n",
       "  </tbody>\n",
       "</table>\n",
       "<p>154 rows × 3 columns</p>\n",
       "</div>"
      ],
      "text/plain": [
       "              Dataset  Value         Hit\n",
       "0     LongProbGust_50    0.0    5.479181\n",
       "1     LongProbGust_50    5.0   18.077803\n",
       "2     LongProbGust_50   10.0   29.166667\n",
       "3     LongProbGust_50   15.0   25.287356\n",
       "4     LongProbGust_50   20.0   29.906542\n",
       "..                ...    ...         ...\n",
       "149  ShortProbGust_70   25.0   20.000000\n",
       "150  ShortProbGust_70   30.0   33.333333\n",
       "151  ShortProbGust_70   35.0  100.000000\n",
       "152  ShortProbGust_70   45.0  100.000000\n",
       "153  ShortProbGust_70   50.0  100.000000\n",
       "\n",
       "[154 rows x 3 columns]"
      ]
     },
     "execution_count": 23,
     "metadata": {},
     "output_type": "execute_result"
    }
   ],
   "source": [
    "data = pd.merge(left=pd.concat([previous.reset_index().melt(id_vars=['reference_time', 'valid_time'], var_name='Dataset', value_name='Value'),\n",
    "                                     nbm.reset_index().melt(id_vars=['reference_time', 'valid_time'], var_name='Dataset', value_name='Value'),\n",
    "                                nbm_long.reset_index().melt(id_vars=['reference_time', 'valid_time'], var_name='Dataset', value_name='Value'),]).set_index(['reference_time', 'valid_time']).sort_index(),\n",
    "               right=get_period_maximum(obs, period='3H')[['10_meter_wind_speed_of_gust']].rename_axis('valid_time'), right_index=True, left_index=True, how='inner')\n",
    "data_short = pd.merge(left=pd.concat([nbm_short.reset_index().melt(id_vars=['reference_time', 'valid_time'], var_name='Dataset', value_name='Value')]).set_index(['reference_time', 'valid_time']).sort_index(), \n",
    "                right=get_period_maximum(obs, period='1H')[['10_meter_wind_speed_of_gust']].rename_axis('valid_time'), right_index=True, left_index=True, how='inner')\n",
    "data = pd.concat([data.reset_index(), data_short.reset_index()]).set_index(['reference_time', 'valid_time'])\n",
    "\n",
    "data.Value = (data.Value / 5).round() * 5\n",
    "\n",
    "data['Criteria'] = pint.Quantity(data.Dataset.str.split('_', expand=True)[[1]].astype('uint8'), units('mph')).to(units('m s**-1')).magnitude\n",
    "data['Hit'] = data.apply(lambda row: row['10_meter_wind_speed_of_gust'] >= row['Criteria'], axis=1)\n",
    "\n",
    "reliability = data[['Dataset', 'Value', 'Hit']].groupby(['Dataset', 'Value']).Hit.apply(lambda a: (a.sum()/a.count() * 100)).reset_index()\n",
    "reliability"
   ]
  },
  {
   "cell_type": "markdown",
   "id": "mexican-trial",
   "metadata": {},
   "source": [
    "## Generate Reliability Regressions"
   ]
  },
  {
   "cell_type": "code",
   "execution_count": 24,
   "id": "restricted-binding",
   "metadata": {},
   "outputs": [
    {
     "data": {
      "text/html": [
       "<div>\n",
       "<style scoped>\n",
       "    .dataframe tbody tr th:only-of-type {\n",
       "        vertical-align: middle;\n",
       "    }\n",
       "\n",
       "    .dataframe tbody tr th {\n",
       "        vertical-align: top;\n",
       "    }\n",
       "\n",
       "    .dataframe thead th {\n",
       "        text-align: right;\n",
       "    }\n",
       "</style>\n",
       "<table border=\"1\" class=\"dataframe\">\n",
       "  <thead>\n",
       "    <tr style=\"text-align: right;\">\n",
       "      <th></th>\n",
       "      <th>slope</th>\n",
       "      <th>intercept</th>\n",
       "      <th>rvalue</th>\n",
       "      <th>pvalue</th>\n",
       "      <th>stderr</th>\n",
       "      <th>stderr_perfect</th>\n",
       "    </tr>\n",
       "  </thead>\n",
       "  <tbody>\n",
       "    <tr>\n",
       "      <th>LongProbGust_50</th>\n",
       "      <td>0.746480</td>\n",
       "      <td>14.322210</td>\n",
       "      <td>0.955879</td>\n",
       "      <td>1.466791e-11</td>\n",
       "      <td>7.302074</td>\n",
       "      <td>11.019687</td>\n",
       "    </tr>\n",
       "    <tr>\n",
       "      <th>LongProbGust_58</th>\n",
       "      <td>0.790097</td>\n",
       "      <td>20.621740</td>\n",
       "      <td>0.732261</td>\n",
       "      <td>8.306292e-04</td>\n",
       "      <td>19.161600</td>\n",
       "      <td>23.801713</td>\n",
       "    </tr>\n",
       "    <tr>\n",
       "      <th>LongProbGust_70</th>\n",
       "      <td>1.150398</td>\n",
       "      <td>5.350738</td>\n",
       "      <td>0.436304</td>\n",
       "      <td>2.798206e-01</td>\n",
       "      <td>31.385125</td>\n",
       "      <td>32.771162</td>\n",
       "    </tr>\n",
       "    <tr>\n",
       "      <th>Operational_50</th>\n",
       "      <td>0.676032</td>\n",
       "      <td>2.933239</td>\n",
       "      <td>0.993216</td>\n",
       "      <td>6.701271e-04</td>\n",
       "      <td>3.336252</td>\n",
       "      <td>18.551706</td>\n",
       "    </tr>\n",
       "    <tr>\n",
       "      <th>Operational_58</th>\n",
       "      <td>0.664251</td>\n",
       "      <td>0.872111</td>\n",
       "      <td>0.993149</td>\n",
       "      <td>6.850951e-03</td>\n",
       "      <td>2.389042</td>\n",
       "      <td>13.765037</td>\n",
       "    </tr>\n",
       "    <tr>\n",
       "      <th>Operational_70</th>\n",
       "      <td>1.935448</td>\n",
       "      <td>0.218477</td>\n",
       "      <td>1.000000</td>\n",
       "      <td>0.000000e+00</td>\n",
       "      <td>inf</td>\n",
       "      <td>inf</td>\n",
       "    </tr>\n",
       "    <tr>\n",
       "      <th>ProbGust_50</th>\n",
       "      <td>0.767995</td>\n",
       "      <td>13.118622</td>\n",
       "      <td>0.959071</td>\n",
       "      <td>7.278313e-12</td>\n",
       "      <td>7.217542</td>\n",
       "      <td>10.448714</td>\n",
       "    </tr>\n",
       "    <tr>\n",
       "      <th>ProbGust_58</th>\n",
       "      <td>0.654840</td>\n",
       "      <td>22.887286</td>\n",
       "      <td>0.742062</td>\n",
       "      <td>4.219669e-04</td>\n",
       "      <td>16.574427</td>\n",
       "      <td>21.034638</td>\n",
       "    </tr>\n",
       "    <tr>\n",
       "      <th>ProbGust_70</th>\n",
       "      <td>1.866650</td>\n",
       "      <td>1.239091</td>\n",
       "      <td>0.764634</td>\n",
       "      <td>2.711323e-02</td>\n",
       "      <td>20.812647</td>\n",
       "      <td>30.388461</td>\n",
       "    </tr>\n",
       "    <tr>\n",
       "      <th>ShortProbGust_50</th>\n",
       "      <td>0.691341</td>\n",
       "      <td>1.445052</td>\n",
       "      <td>0.967596</td>\n",
       "      <td>8.180426e-13</td>\n",
       "      <td>5.742498</td>\n",
       "      <td>18.594537</td>\n",
       "    </tr>\n",
       "    <tr>\n",
       "      <th>ShortProbGust_58</th>\n",
       "      <td>0.875132</td>\n",
       "      <td>1.742134</td>\n",
       "      <td>0.920943</td>\n",
       "      <td>2.261850e-08</td>\n",
       "      <td>10.721408</td>\n",
       "      <td>12.034000</td>\n",
       "    </tr>\n",
       "    <tr>\n",
       "      <th>ShortProbGust_70</th>\n",
       "      <td>2.177346</td>\n",
       "      <td>-7.965687</td>\n",
       "      <td>0.904033</td>\n",
       "      <td>3.300330e-04</td>\n",
       "      <td>18.208909</td>\n",
       "      <td>35.360646</td>\n",
       "    </tr>\n",
       "  </tbody>\n",
       "</table>\n",
       "</div>"
      ],
      "text/plain": [
       "                     slope  intercept    rvalue        pvalue     stderr  \\\n",
       "LongProbGust_50   0.746480  14.322210  0.955879  1.466791e-11   7.302074   \n",
       "LongProbGust_58   0.790097  20.621740  0.732261  8.306292e-04  19.161600   \n",
       "LongProbGust_70   1.150398   5.350738  0.436304  2.798206e-01  31.385125   \n",
       "Operational_50    0.676032   2.933239  0.993216  6.701271e-04   3.336252   \n",
       "Operational_58    0.664251   0.872111  0.993149  6.850951e-03   2.389042   \n",
       "Operational_70    1.935448   0.218477  1.000000  0.000000e+00        inf   \n",
       "ProbGust_50       0.767995  13.118622  0.959071  7.278313e-12   7.217542   \n",
       "ProbGust_58       0.654840  22.887286  0.742062  4.219669e-04  16.574427   \n",
       "ProbGust_70       1.866650   1.239091  0.764634  2.711323e-02  20.812647   \n",
       "ShortProbGust_50  0.691341   1.445052  0.967596  8.180426e-13   5.742498   \n",
       "ShortProbGust_58  0.875132   1.742134  0.920943  2.261850e-08  10.721408   \n",
       "ShortProbGust_70  2.177346  -7.965687  0.904033  3.300330e-04  18.208909   \n",
       "\n",
       "                  stderr_perfect  \n",
       "LongProbGust_50        11.019687  \n",
       "LongProbGust_58        23.801713  \n",
       "LongProbGust_70        32.771162  \n",
       "Operational_50         18.551706  \n",
       "Operational_58         13.765037  \n",
       "Operational_70               inf  \n",
       "ProbGust_50            10.448714  \n",
       "ProbGust_58            21.034638  \n",
       "ProbGust_70            30.388461  \n",
       "ShortProbGust_50       18.594537  \n",
       "ShortProbGust_58       12.034000  \n",
       "ShortProbGust_70       35.360646  "
      ]
     },
     "execution_count": 24,
     "metadata": {},
     "output_type": "execute_result"
    }
   ],
   "source": [
    "reliability_regressions = None\n",
    "for dataset in reliability.Dataset.unique():\n",
    "    dataset_data = reliability[reliability.Dataset == dataset]\n",
    "    dataset_regression = pd.DataFrame(dict(zip(['slope', 'intercept', 'rvalue', 'pvalue', 'stderr', 'stderr_perfect'], list(stats.linregress(dataset_data.Value, dataset_data.Hit)) + [0])), index=[dataset])\n",
    "    dataset_regression.loc[dataset, 'stderr'] = standard_error_of_estimate(dataset_data.Value, dataset_data.Hit, dataset_regression['slope'][dataset], dataset_regression['intercept'][dataset])\n",
    "    dataset_regression.loc[dataset, 'stderr_perfect'] = standard_error_of_estimate(dataset_data.Value, dataset_data.Hit, 1.0, 0.0)\n",
    "    if reliability_regressions is None:\n",
    "        reliability_regressions = dataset_regression\n",
    "    else:\n",
    "        reliability_regressions = pd.concat([reliability_regressions, dataset_regression])\n",
    "reliability_regressions"
   ]
  },
  {
   "cell_type": "markdown",
   "id": "flying-contrast",
   "metadata": {},
   "source": [
    "## Generate Reliability Plots"
   ]
  },
  {
   "cell_type": "code",
   "execution_count": 25,
   "id": "surprised-wyoming",
   "metadata": {},
   "outputs": [
    {
     "data": {
      "image/png": "[encoded data removed]",
      "text/plain": [
       "<Figure size 1080x1080 with 9 Axes>"
      ]
     },
     "metadata": {},
     "output_type": "display_data"
    }
   ],
   "source": [
    "plot_data = reliability.copy(deep=True)\n",
    "plot_data['Criteria'] = plot_data.Dataset.str.split('_', expand=True)[[1]]\n",
    "plot_data.Dataset = plot_data.Dataset.str.split('_', expand=True)[[0]]\n",
    "\n",
    "\n",
    "dataset_order = ['Operational', 'ShortProbGust', 'LongProbGust']\n",
    "dataset_order += [col for col in plot_data.columns if col not in dataset_order and col not in ['Dataset', 'Value', 'Hit', 'Criteria']]\n",
    "\n",
    "plot_data = plot_data[plot_data.Dataset.apply(lambda a:a in dataset_order)]\n",
    "g = sns.relplot(data=plot_data, x='Value', y='Hit', col='Criteria', row='Dataset', row_order=dataset_order, facet_kws=dict(ylim=(0,100), xlim=(0,100), sharex=False, sharey=False))\n",
    "for plot_vars, ax in g.axes_dict.items():\n",
    "    method = '_'.join(plot_vars)\n",
    "    if method in reliability_regressions.index:\n",
    "        curve_data = pd.DataFrame({'Probability': np.array([0,100]),\n",
    "               'Regression (stderr={0:f})'.format(reliability_regressions['stderr'][method]): reliability_regressions['slope'][method] * np.array([0,100]) + reliability_regressions['intercept'][method],\n",
    "               'Prefect (stderr={0:f})'.format(reliability_regressions['stderr_perfect'][method]): np.array([0,100])}).melt(id_vars=['Probability'], var_name='Line', value_name='Hit')\n",
    "        sns.lineplot(data=curve_data, x='Probability', y='Hit', hue='Line', ax=ax)\n",
    "g.savefig('output/BigTimber_reliablity.png')"
   ]
  },
  {
   "cell_type": "code",
   "execution_count": null,
   "id": "tropical-consultation",
   "metadata": {},
   "outputs": [],
   "source": []
  }
 ],
 "metadata": {
  "kernelspec": {
   "display_name": "Python 3",
   "language": "python",
   "name": "python3"
  },
  "language_info": {
   "codemirror_mode": {
    "name": "ipython",
    "version": 3
   },
   "file_extension": ".py",
   "mimetype": "text/x-python",
   "name": "python",
   "nbconvert_exporter": "python",
   "pygments_lexer": "ipython3",
   "version": "3.8.6"
  }
 },
 "nbformat": 4,
 "nbformat_minor": 5
}
