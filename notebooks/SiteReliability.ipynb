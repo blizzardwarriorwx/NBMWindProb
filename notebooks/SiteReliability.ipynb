{
 "cells": [
  {
   "cell_type": "markdown",
   "id": "packed-block",
   "metadata": {},
   "source": [
    "# ProbGust Vs Wind Gust Speed\n",
    "\n",
    "Plot ProbGust Values against the Observed Wind Speed\n",
    "\n",
    "## Import modules"
   ]
  },
  {
   "cell_type": "code",
   "execution_count": 1,
   "id": "infinite-lincoln",
   "metadata": {},
   "outputs": [],
   "source": [
    "import xarray            as xr\n",
    "import pandas            as pd\n",
    "import numpy             as np\n",
    "import matplotlib.pyplot as plt\n",
    "import matplotlib.dates  as mdates\n",
    "import seaborn           as sns\n",
    "import scipy.stats       as stats\n",
    "import pint"
   ]
  },
  {
   "cell_type": "markdown",
   "id": "ordered-nicholas",
   "metadata": {},
   "source": [
    "## Set some contants"
   ]
  },
  {
   "cell_type": "code",
   "execution_count": 2,
   "id": "supreme-fundamental",
   "metadata": {},
   "outputs": [],
   "source": [
    "sns.set_theme(color_codes=True)\n",
    "units = pint.UnitRegistry()\n",
    "hour = pd.to_timedelta('1H')\n",
    "normal_distribution = stats.norm()\n",
    "start_direction = 0\n",
    "end_direction = 360\n",
    "city_sites = {'Harlowton':  ['UMHM', '1KM'],\n",
    "              'Big Timber': ['6S0'],\n",
    "              'Livingston':  ['LVM', 'MTLWM', 'MTELV']}\n",
    "site_observation_options = {\n",
    "    \"UMHM\": {'wind_speed': None, 'correction': lambda a:a + pint.Quantity(9, units('mph')).to(units('m/s')).magnitude}\n",
    "}\n",
    "city = 'Livingston'\n",
    "city_thresholds = {\n",
    "    'Livingston': [\n",
    "        50.0,\n",
    "        58.0,\n",
    "        75.0\n",
    "    ],\n",
    "    'Big Timber': [\n",
    "        50.0,\n",
    "        58.0,\n",
    "        70.0\n",
    "    ],\n",
    "    'Harlowton': [\n",
    "        50.0,\n",
    "        58.0,\n",
    "        70.0\n",
    "    ]\n",
    "}\n",
    "dot_prob_values = {\n",
    "    'Livingston': {\n",
    "        \"Prob50\": \"ProbGust_50\",\n",
    "        \"Prob60\": \"ProbGust_58\",\n",
    "        \"Prob70\": \"ProbGust_75\"\n",
    "    },\n",
    "    'Big Timber': {\n",
    "        \"Prob50\": \"ProbGust_50\",\n",
    "        \"Prob60\": \"ProbGust_58\",\n",
    "        \"Prob70\": \"ProbGust_70\"\n",
    "    },\n",
    "    'Harlowton': {\n",
    "        \"Prob50\": \"ProbGust_50\",\n",
    "        \"Prob60\": \"ProbGust_58\",\n",
    "        \"Prob70\": \"ProbGust_70\"\n",
    "    }\n",
    "}\n",
    "sites = city_sites[city]\n",
    "round_probs = 10"
   ]
  },
  {
   "cell_type": "markdown",
   "id": "noble-hopkins",
   "metadata": {},
   "source": [
    "## Define utility functions"
   ]
  },
  {
   "cell_type": "markdown",
   "id": "elect-immune",
   "metadata": {},
   "source": [
    "### load_forecast_grid:\n",
    "Load time series from a gridded source converting units and filtering fields. Also creates the valid time field from reference time and time since reference. Can tranform column names if needed, ie for NBM 1 hour forecast."
   ]
  },
  {
   "cell_type": "code",
   "execution_count": 3,
   "id": "amino-clearance",
   "metadata": {},
   "outputs": [],
   "source": [
    "def load_forecast_grid(filename, filter_fields=None, transform_columns=None):\n",
    "    data = xr.open_dataset(filename).to_dataframe()\n",
    "    if transform_columns is not None:\n",
    "        data.columns = data.columns.to_series().apply(transform_columns)\n",
    "    data['valid_time'] = data.reference_time + data.time_since_reference * hour\n",
    "    data = data.set_index(['reference_time', 'valid_time']).sort_index()\n",
    "    if filter_fields is None:\n",
    "        filter_fields = data.columns\n",
    "    return data[filter_fields]"
   ]
  },
  {
   "cell_type": "markdown",
   "id": "intelligent-number",
   "metadata": {},
   "source": [
    "### convert_units\n",
    "Convert units of columns in a DataFrame"
   ]
  },
  {
   "cell_type": "code",
   "execution_count": 4,
   "id": "capable-receptor",
   "metadata": {},
   "outputs": [],
   "source": [
    "def convert_units(data, columns):\n",
    "    for col in columns.keys():\n",
    "        data[col] = pint.Quantity(data[col].to_numpy(), units(columns[col][0])).to(units(columns[col][1])).magnitude"
   ]
  },
  {
   "cell_type": "markdown",
   "id": "ordered-external",
   "metadata": {},
   "source": [
    "### filter_missing_data\n",
    "Filter rows that are filled with NaNs, ignoring time fields by default"
   ]
  },
  {
   "cell_type": "code",
   "execution_count": 5,
   "id": "completed-fundamental",
   "metadata": {},
   "outputs": [],
   "source": [
    "def filter_missing_data(data):\n",
    "    return data.dropna(how='all')"
   ]
  },
  {
   "cell_type": "markdown",
   "id": "chief-aberdeen",
   "metadata": {},
   "source": [
    "### load_observations\n",
    "Load time series from observation source, converting units and filtering fields."
   ]
  },
  {
   "cell_type": "code",
   "execution_count": 6,
   "id": "prospective-stereo",
   "metadata": {},
   "outputs": [],
   "source": [
    "def load_observations(filename, filter_fields=None):\n",
    "    data = xr.open_dataset(filename).to_dataframe().set_index('time').sort_index()\n",
    "    if filter_fields is not None:\n",
    "        data = data.loc[:, filter_fields]\n",
    "    return data"
   ]
  },
  {
   "cell_type": "markdown",
   "id": "emerging-assessment",
   "metadata": {},
   "source": [
    "### replace_missing_gust_with_wind\n",
    "Since that gusts for AWOS/ASOS are not reported unless the gusts is sufficiently higher than sustained wind, replace missing gust values with the sustained to compare to RTMA / NBM that always has a gust value."
   ]
  },
  {
   "cell_type": "code",
   "execution_count": 7,
   "id": "prerequisite-respect",
   "metadata": {},
   "outputs": [],
   "source": [
    "def replace_missing_gust_with_wind(data, wind_field, wind_gust_field):\n",
    "    index = np.isnan(data[wind_gust_field])\n",
    "    data.loc[index, wind_gust_field] = data[wind_field][index]"
   ]
  },
  {
   "cell_type": "markdown",
   "id": "constant-minutes",
   "metadata": {},
   "source": [
    "### get_period_maximum\n",
    "Find the maximum values when rounding the time fields to nearest time period"
   ]
  },
  {
   "cell_type": "code",
   "execution_count": 8,
   "id": "normal-following",
   "metadata": {},
   "outputs": [],
   "source": [
    "def get_period_maximum(data, period='1H'):\n",
    "    return data.groupby(data.index.floor(period)).max()"
   ]
  },
  {
   "cell_type": "markdown",
   "id": "republican-columbia",
   "metadata": {},
   "source": [
    "### convert_units\n",
    "Convert units of columns in a DataFrame"
   ]
  },
  {
   "cell_type": "code",
   "execution_count": 9,
   "id": "processed-austin",
   "metadata": {},
   "outputs": [],
   "source": [
    "def convert_units(data, columns):\n",
    "    for col in columns.keys():\n",
    "        data[col] = pint.Quantity(data[col].to_numpy(), units(columns[col][0])).to(units(columns[col][1])).magnitude"
   ]
  },
  {
   "cell_type": "markdown",
   "id": "present-infection",
   "metadata": {},
   "source": [
    "### time_match_dataset\n",
    "Time-match dataset while prefixing the columns of each dataset"
   ]
  },
  {
   "cell_type": "code",
   "execution_count": 10,
   "id": "difficult-player",
   "metadata": {},
   "outputs": [],
   "source": [
    "def time_match_dataset(left, right, left_prefix='obs', right_prefix='grid', left_time='time', right_time='valid_time'):\n",
    "    left_data = left.copy(deep=True)\n",
    "    left_data.columns = ['{0:s}_{1:s}'.format(x, left_prefix) for x in left_data.columns]\n",
    "    right_data = right.copy(deep=True)\n",
    "    right_data.columns = ['{0:s}_{1:s}'.format(x, right_prefix) for x in right_data.columns]\n",
    "    return pd.merge(left_data, right_data, how='inner', left_on='{0:s}_{1:s}'.format(left_time, left_prefix), right_on='{0:s}_{1:s}'.format(right_time, right_prefix)).reset_index()"
   ]
  },
  {
   "cell_type": "markdown",
   "id": "surgical-twelve",
   "metadata": {},
   "source": [
    "### filter_three_hourly\n",
    "Filter NBM data to 3 hourly forecast"
   ]
  },
  {
   "cell_type": "code",
   "execution_count": 11,
   "id": "everyday-ontario",
   "metadata": {},
   "outputs": [],
   "source": [
    "def filter_three_hourly(data, time_field='valid_time'):\n",
    "    return data[data.index.get_level_values(time_field).hour % 3 == 0]"
   ]
  },
  {
   "cell_type": "markdown",
   "id": "traditional-gospel",
   "metadata": {},
   "source": [
    "### generate_probability\n",
    "Calculate the Z-Score given the bias-corrected NBM mean wind gust and standard deviation"
   ]
  },
  {
   "cell_type": "code",
   "execution_count": 12,
   "id": "premier-december",
   "metadata": {},
   "outputs": [],
   "source": [
    "def generate_prob_gust(data, threshold, unit='mph', tollerance = 0.6, mean='10_meter_wind_speed_of_gust_mean', standard_deviation='10_meter_wind_speed_of_gust_standard_deviation'):\n",
    "    threshold = pint.Quantity(threshold - tollerance, units(unit)).to(units('m s**-1')).magnitude\n",
    "    z_score = pd.Series((threshold - data[mean]) / data[standard_deviation], index=data.index)\n",
    "    return pd.Series(np.round((100 * normal_distribution.sf(z_score))), index=data.index)\n"
   ]
  },
  {
   "cell_type": "markdown",
   "id": "freelance-event",
   "metadata": {},
   "source": [
    "### standard_error_of_estimate\n",
    "calculate the standard error from a slope and intercept"
   ]
  },
  {
   "cell_type": "code",
   "execution_count": 13,
   "id": "daily-marks",
   "metadata": {},
   "outputs": [],
   "source": [
    "def standard_error_of_estimate(x, y, slope, intercept):\n",
    "    x = np.array(x)\n",
    "    y = np.array(y)\n",
    "    error = np.inf\n",
    "    if len(x) > 2:\n",
    "        error = np.sqrt(np.sum(((slope * x + intercept) - y)**2) / (len(x) - 2))\n",
    "    return error"
   ]
  },
  {
   "cell_type": "markdown",
   "id": "enhanced-aruba",
   "metadata": {},
   "source": [
    "### expand_timelag\n",
    "Duplicate a dataframe while adjusting a datetime field by an interval to create a time-lagged dataset"
   ]
  },
  {
   "cell_type": "code",
   "execution_count": 14,
   "id": "juvenile-cheese",
   "metadata": {},
   "outputs": [],
   "source": [
    "def expand_timelag(df, interval, field='reference_time'):\n",
    "    df2 = df.copy(deep=True).reset_index()\n",
    "    df2[field] += pd.to_timedelta(interval)\n",
    "    return df2"
   ]
  },
  {
   "cell_type": "markdown",
   "id": "coupled-transport",
   "metadata": {},
   "source": [
    "### reliability_correction\n",
    "apply a bias-correction to the ProbGust value to improve reliability"
   ]
  },
  {
   "cell_type": "code",
   "execution_count": 15,
   "id": "brief-stamp",
   "metadata": {},
   "outputs": [],
   "source": [
    "def reliability_correction(location, threshold, direction, prob_gust):\n",
    "    slope = 1\n",
    "    intercept = 0\n",
    "    r = 1\n",
    "    \n",
    "    if location in ['MTLWM', 'MTELV', 'LVM'] and threshold == 50 and 170 <= direction and direction <= 230:\n",
    "        slope = 0.938000\n",
    "        intercept = 18.523352\n",
    "    elif location in ['MTLWM', 'MTELV', 'LVM'] and threshold == 58 and 170 <= direction and direction <= 230:\n",
    "        slope = 0.987953\n",
    "        intercept = 18.602726\n",
    "    elif location in ['MTLWM', 'MTELV', 'LVM'] and threshold == 50 and 230 <= direction and direction <= 250:\n",
    "        slope = 0.923174\n",
    "        intercept = 5.761035\n",
    "    elif location in ['MTLWM', 'MTELV', 'LVM'] and threshold == 58 and 230 <= direction and direction <= 250:\n",
    "        slope = 1.019796\n",
    "        intercept = 4.567449\n",
    "    elif location in ['MTLWM', 'MTELV', 'LVM'] and threshold == 50 and 250 <= direction and direction <= 280:\n",
    "        slope = 0.648766\n",
    "        intercept = -4.546409\n",
    "    elif location in ['MTLWM', 'MTELV', 'LVM'] and threshold == 58 and 250 <= direction and direction <= 280:\n",
    "        slope = 0.910771\n",
    "        intercept = -16.622423\n",
    "    \n",
    "    if intercept > 0:\n",
    "        r = min(prob_gust / intercept, 1)\n",
    "    \n",
    "    if prob_gust > 1.01:\n",
    "        prob_gust = max(min((1 - ((1 - slope) * r)) * prob_gust + (intercept * r), 100), 0)\n",
    "    \n",
    "    return prob_gust\n",
    "        "
   ]
  },
  {
   "cell_type": "markdown",
   "id": "auburn-madness",
   "metadata": {},
   "source": [
    "### load_nbm_prob_gust\n",
    "apply bias-correction and calculate ProbGust"
   ]
  },
  {
   "cell_type": "code",
   "execution_count": 16,
   "id": "collected-examination",
   "metadata": {},
   "outputs": [],
   "source": [
    "def load_nbm_prob_gust(siteID, regression, thresholds, mean='10_meter_wind_speed_of_gust_mean', spread='10_meter_wind_speed_of_gust_standard_deviation', direction='10_meter_wind_from_direction_mean'):\n",
    "    nbm_data = load_forecast_grid('../data/nbm_update/NBM_{0:s}.nc'.format(siteID), filter_fields=[mean, spread, direction])\n",
    "    nbm_data = nbm_data[(nbm_data[direction] >= start_direction) & (nbm_data[direction] <= end_direction)][[mean, spread, direction]]\n",
    "    nbm_data = filter_missing_data(nbm_data)\n",
    "    nbm_data[mean] = regression.slope[siteID] * nbm_data[mean] + regression.intercept[siteID]\n",
    "    for threshold in thresholds:\n",
    "        nbm_data['ProbGust_{0:d}'.format(threshold)] = generate_prob_gust(nbm_data, threshold)\n",
    "        nbm_data['ProbGust_{0:d}'.format(threshold)] = nbm_data[['ProbGust_{0:d}'.format(threshold), direction]].apply(lambda a: reliability_correction(siteID, threshold, a[direction], a['ProbGust_{0:d}'.format(threshold)]), axis=1)\n",
    "    return nbm_data[[col for col in nbm_data.columns if col.find('ProbGust') > -1]]"
   ]
  },
  {
   "cell_type": "markdown",
   "id": "younger-helping",
   "metadata": {},
   "source": [
    "### load_wind_gust_observation\n",
    "load the wind gust, optionally filling with wind speed if gust is missing and applying a correction"
   ]
  },
  {
   "cell_type": "code",
   "execution_count": 17,
   "id": "naughty-reference",
   "metadata": {},
   "outputs": [],
   "source": [
    "def load_wind_gust_observation(siteID, wind_speed='10_meter_wind_speed', wind_gust='10_meter_wind_speed_of_gust', correction=None):\n",
    "    obs_data = load_observations('../data/observations/{0:s}.nc'.format(siteID), \n",
    "                                 filter_fields=[x for x in [wind_speed, wind_gust] if x is not None])\n",
    "    if wind_speed is not None:\n",
    "        replace_missing_gust_with_wind(obs_data, wind_speed, wind_gust)\n",
    "    obs_data = obs_data[[wind_gust]].reset_index().set_index('time')\n",
    "    if correction is not None:\n",
    "        obs_data = correction(obs_data)\n",
    "    obs_data['site_id'] = siteID\n",
    "    return filter_missing_data(obs_data)"
   ]
  },
  {
   "cell_type": "markdown",
   "id": "indirect-excess",
   "metadata": {},
   "source": [
    "## Read Bias-Correction parameters"
   ]
  },
  {
   "cell_type": "code",
   "execution_count": 18,
   "id": "solved-adult",
   "metadata": {
    "tags": []
   },
   "outputs": [
    {
     "data": {
      "text/html": [
       "<div>\n",
       "<style scoped>\n",
       "    .dataframe tbody tr th:only-of-type {\n",
       "        vertical-align: middle;\n",
       "    }\n",
       "\n",
       "    .dataframe tbody tr th {\n",
       "        vertical-align: top;\n",
       "    }\n",
       "\n",
       "    .dataframe thead th {\n",
       "        text-align: right;\n",
       "    }\n",
       "</style>\n",
       "<table border=\"1\" class=\"dataframe\">\n",
       "  <thead>\n",
       "    <tr style=\"text-align: right;\">\n",
       "      <th></th>\n",
       "      <th>slope</th>\n",
       "      <th>intercept</th>\n",
       "      <th>rvalue</th>\n",
       "      <th>pvalue</th>\n",
       "      <th>stderr</th>\n",
       "    </tr>\n",
       "  </thead>\n",
       "  <tbody>\n",
       "    <tr>\n",
       "      <th>MTELV</th>\n",
       "      <td>0.893859</td>\n",
       "      <td>6.923222</td>\n",
       "      <td>0.703279</td>\n",
       "      <td>1.471382e-186</td>\n",
       "      <td>0.025618</td>\n",
       "    </tr>\n",
       "    <tr>\n",
       "      <th>LVM</th>\n",
       "      <td>1.022861</td>\n",
       "      <td>4.676071</td>\n",
       "      <td>0.796859</td>\n",
       "      <td>0.000000e+00</td>\n",
       "      <td>0.018798</td>\n",
       "    </tr>\n",
       "    <tr>\n",
       "      <th>MTLWM</th>\n",
       "      <td>0.894840</td>\n",
       "      <td>7.826072</td>\n",
       "      <td>0.683627</td>\n",
       "      <td>2.977567e-138</td>\n",
       "      <td>0.030286</td>\n",
       "    </tr>\n",
       "    <tr>\n",
       "      <th>6S0</th>\n",
       "      <td>0.796994</td>\n",
       "      <td>8.129035</td>\n",
       "      <td>0.685876</td>\n",
       "      <td>3.758471e-201</td>\n",
       "      <td>0.022276</td>\n",
       "    </tr>\n",
       "    <tr>\n",
       "      <th>1KM</th>\n",
       "      <td>0.715568</td>\n",
       "      <td>8.136230</td>\n",
       "      <td>0.735165</td>\n",
       "      <td>1.881445e-130</td>\n",
       "      <td>0.023934</td>\n",
       "    </tr>\n",
       "    <tr>\n",
       "      <th>UMHM</th>\n",
       "      <td>0.695138</td>\n",
       "      <td>9.328585</td>\n",
       "      <td>0.715288</td>\n",
       "      <td>1.233256e-229</td>\n",
       "      <td>0.017768</td>\n",
       "    </tr>\n",
       "  </tbody>\n",
       "</table>\n",
       "</div>"
      ],
      "text/plain": [
       "          slope  intercept    rvalue         pvalue    stderr\n",
       "MTELV  0.893859   6.923222  0.703279  1.471382e-186  0.025618\n",
       "LVM    1.022861   4.676071  0.796859   0.000000e+00  0.018798\n",
       "MTLWM  0.894840   7.826072  0.683627  2.977567e-138  0.030286\n",
       "6S0    0.796994   8.129035  0.685876  3.758471e-201  0.022276\n",
       "1KM    0.715568   8.136230  0.735165  1.881445e-130  0.023934\n",
       "UMHM   0.695138   9.328585  0.715288  1.233256e-229  0.017768"
      ]
     },
     "execution_count": 18,
     "metadata": {},
     "output_type": "execute_result"
    }
   ],
   "source": [
    "regression = pd.read_json('../data/derived/regressions.json', orient='table')\n",
    "regression"
   ]
  },
  {
   "cell_type": "markdown",
   "id": "assigned-navigator",
   "metadata": {},
   "source": [
    "## Load Observations\n",
    "take the 6 hour max value"
   ]
  },
  {
   "cell_type": "code",
   "execution_count": 19,
   "id": "active-satin",
   "metadata": {},
   "outputs": [
    {
     "data": {
      "text/html": [
       "<div>\n",
       "<style scoped>\n",
       "    .dataframe tbody tr th:only-of-type {\n",
       "        vertical-align: middle;\n",
       "    }\n",
       "\n",
       "    .dataframe tbody tr th {\n",
       "        vertical-align: top;\n",
       "    }\n",
       "\n",
       "    .dataframe thead th {\n",
       "        text-align: right;\n",
       "    }\n",
       "</style>\n",
       "<table border=\"1\" class=\"dataframe\">\n",
       "  <thead>\n",
       "    <tr style=\"text-align: right;\">\n",
       "      <th></th>\n",
       "      <th>10_meter_wind_speed_of_gust</th>\n",
       "    </tr>\n",
       "    <tr>\n",
       "      <th>time</th>\n",
       "      <th></th>\n",
       "    </tr>\n",
       "  </thead>\n",
       "  <tbody>\n",
       "    <tr>\n",
       "      <th>2014-12-31 18:00:00</th>\n",
       "      <td>29.920266</td>\n",
       "    </tr>\n",
       "    <tr>\n",
       "      <th>2015-01-01 00:00:00</th>\n",
       "      <td>24.166368</td>\n",
       "    </tr>\n",
       "    <tr>\n",
       "      <th>2015-01-01 06:00:00</th>\n",
       "      <td>24.166368</td>\n",
       "    </tr>\n",
       "    <tr>\n",
       "      <th>2015-01-01 12:00:00</th>\n",
       "      <td>18.412471</td>\n",
       "    </tr>\n",
       "    <tr>\n",
       "      <th>2015-01-01 18:00:00</th>\n",
       "      <td>18.412471</td>\n",
       "    </tr>\n",
       "    <tr>\n",
       "      <th>...</th>\n",
       "      <td>...</td>\n",
       "    </tr>\n",
       "    <tr>\n",
       "      <th>2022-01-07 06:00:00</th>\n",
       "      <td>58.384037</td>\n",
       "    </tr>\n",
       "    <tr>\n",
       "      <th>2022-01-07 12:00:00</th>\n",
       "      <td>62.142090</td>\n",
       "    </tr>\n",
       "    <tr>\n",
       "      <th>2022-01-07 18:00:00</th>\n",
       "      <td>59.840531</td>\n",
       "    </tr>\n",
       "    <tr>\n",
       "      <th>2022-01-08 00:00:00</th>\n",
       "      <td>51.002147</td>\n",
       "    </tr>\n",
       "    <tr>\n",
       "      <th>2022-01-08 06:00:00</th>\n",
       "      <td>46.595383</td>\n",
       "    </tr>\n",
       "  </tbody>\n",
       "</table>\n",
       "<p>10251 rows × 1 columns</p>\n",
       "</div>"
      ],
      "text/plain": [
       "                     10_meter_wind_speed_of_gust\n",
       "time                                            \n",
       "2014-12-31 18:00:00                    29.920266\n",
       "2015-01-01 00:00:00                    24.166368\n",
       "2015-01-01 06:00:00                    24.166368\n",
       "2015-01-01 12:00:00                    18.412471\n",
       "2015-01-01 18:00:00                    18.412471\n",
       "...                                          ...\n",
       "2022-01-07 06:00:00                    58.384037\n",
       "2022-01-07 12:00:00                    62.142090\n",
       "2022-01-07 18:00:00                    59.840531\n",
       "2022-01-08 00:00:00                    51.002147\n",
       "2022-01-08 06:00:00                    46.595383\n",
       "\n",
       "[10251 rows x 1 columns]"
      ]
     },
     "execution_count": 19,
     "metadata": {},
     "output_type": "execute_result"
    }
   ],
   "source": [
    "obs = pd.concat([ load_wind_gust_observation(x, **site_observation_options.get(x, {})) for x in sites])\n",
    "obs = obs[[x for x in obs.columns if x != 'site_id']].reset_index().set_index('time')\n",
    "obs = get_period_maximum(obs, period='6H')\n",
    "convert_units(obs, {'10_meter_wind_speed_of_gust': ['m s**-1', 'mph']})\n",
    "obs"
   ]
  },
  {
   "cell_type": "markdown",
   "id": "nervous-trunk",
   "metadata": {},
   "source": [
    "## Load NBM Datasets\n",
    "load and filter only the first 36 hours of the forecast. Then take only the 6 hourly max value"
   ]
  },
  {
   "cell_type": "code",
   "execution_count": 20,
   "id": "fitting-egyptian",
   "metadata": {},
   "outputs": [
    {
     "data": {
      "text/html": [
       "<div>\n",
       "<style scoped>\n",
       "    .dataframe tbody tr th:only-of-type {\n",
       "        vertical-align: middle;\n",
       "    }\n",
       "\n",
       "    .dataframe tbody tr th {\n",
       "        vertical-align: top;\n",
       "    }\n",
       "\n",
       "    .dataframe thead th {\n",
       "        text-align: right;\n",
       "    }\n",
       "</style>\n",
       "<table border=\"1\" class=\"dataframe\">\n",
       "  <thead>\n",
       "    <tr style=\"text-align: right;\">\n",
       "      <th></th>\n",
       "      <th></th>\n",
       "      <th>Threshold</th>\n",
       "      <th>Probability</th>\n",
       "      <th>Dataset</th>\n",
       "    </tr>\n",
       "    <tr>\n",
       "      <th>reference_time</th>\n",
       "      <th>valid_time</th>\n",
       "      <th></th>\n",
       "      <th></th>\n",
       "      <th></th>\n",
       "    </tr>\n",
       "  </thead>\n",
       "  <tbody>\n",
       "    <tr>\n",
       "      <th rowspan=\"5\" valign=\"top\">2021-11-05 00:00:00</th>\n",
       "      <th>2021-11-05 00:00:00</th>\n",
       "      <td>ProbGust_50</td>\n",
       "      <td>30.0</td>\n",
       "      <td>NBM</td>\n",
       "    </tr>\n",
       "    <tr>\n",
       "      <th>2021-11-05 00:00:00</th>\n",
       "      <td>ProbGust_58</td>\n",
       "      <td>10.0</td>\n",
       "      <td>NBM</td>\n",
       "    </tr>\n",
       "    <tr>\n",
       "      <th>2021-11-05 00:00:00</th>\n",
       "      <td>ProbGust_75</td>\n",
       "      <td>0.0</td>\n",
       "      <td>NBM</td>\n",
       "    </tr>\n",
       "    <tr>\n",
       "      <th>2021-11-05 06:00:00</th>\n",
       "      <td>ProbGust_50</td>\n",
       "      <td>20.0</td>\n",
       "      <td>NBM</td>\n",
       "    </tr>\n",
       "    <tr>\n",
       "      <th>2021-11-05 06:00:00</th>\n",
       "      <td>ProbGust_58</td>\n",
       "      <td>0.0</td>\n",
       "      <td>NBM</td>\n",
       "    </tr>\n",
       "    <tr>\n",
       "      <th>...</th>\n",
       "      <th>...</th>\n",
       "      <td>...</td>\n",
       "      <td>...</td>\n",
       "      <td>...</td>\n",
       "    </tr>\n",
       "    <tr>\n",
       "      <th rowspan=\"5\" valign=\"top\">2022-01-08 12:00:00</th>\n",
       "      <th>2022-01-09 12:00:00</th>\n",
       "      <td>ProbGust_58</td>\n",
       "      <td>30.0</td>\n",
       "      <td>NBM</td>\n",
       "    </tr>\n",
       "    <tr>\n",
       "      <th>2022-01-09 12:00:00</th>\n",
       "      <td>ProbGust_75</td>\n",
       "      <td>0.0</td>\n",
       "      <td>NBM</td>\n",
       "    </tr>\n",
       "    <tr>\n",
       "      <th>2022-01-09 18:00:00</th>\n",
       "      <td>ProbGust_50</td>\n",
       "      <td>50.0</td>\n",
       "      <td>NBM</td>\n",
       "    </tr>\n",
       "    <tr>\n",
       "      <th>2022-01-09 18:00:00</th>\n",
       "      <td>ProbGust_58</td>\n",
       "      <td>0.0</td>\n",
       "      <td>NBM</td>\n",
       "    </tr>\n",
       "    <tr>\n",
       "      <th>2022-01-09 18:00:00</th>\n",
       "      <td>ProbGust_75</td>\n",
       "      <td>0.0</td>\n",
       "      <td>NBM</td>\n",
       "    </tr>\n",
       "  </tbody>\n",
       "</table>\n",
       "<p>2340 rows × 3 columns</p>\n",
       "</div>"
      ],
      "text/plain": [
       "                                           Threshold  Probability Dataset\n",
       "reference_time      valid_time                                           \n",
       "2021-11-05 00:00:00 2021-11-05 00:00:00  ProbGust_50         30.0     NBM\n",
       "                    2021-11-05 00:00:00  ProbGust_58         10.0     NBM\n",
       "                    2021-11-05 00:00:00  ProbGust_75          0.0     NBM\n",
       "                    2021-11-05 06:00:00  ProbGust_50         20.0     NBM\n",
       "                    2021-11-05 06:00:00  ProbGust_58          0.0     NBM\n",
       "...                                              ...          ...     ...\n",
       "2022-01-08 12:00:00 2022-01-09 12:00:00  ProbGust_58         30.0     NBM\n",
       "                    2022-01-09 12:00:00  ProbGust_75          0.0     NBM\n",
       "                    2022-01-09 18:00:00  ProbGust_50         50.0     NBM\n",
       "                    2022-01-09 18:00:00  ProbGust_58          0.0     NBM\n",
       "                    2022-01-09 18:00:00  ProbGust_75          0.0     NBM\n",
       "\n",
       "[2340 rows x 3 columns]"
      ]
     },
     "execution_count": 20,
     "metadata": {},
     "output_type": "execute_result"
    }
   ],
   "source": [
    "nbm = pd.concat([load_nbm_prob_gust(x, regression, [int(y) for y in city_thresholds[city]]).reset_index() for x in sites]).groupby(['reference_time', 'valid_time']).max()\n",
    "nbm = nbm[nbm.index.get_level_values(0) >= pd.to_datetime('2021-11-05T00:00:00')]\n",
    "nbm = nbm[(nbm.index.get_level_values(1) - nbm.index.get_level_values(0)).total_seconds()/3600 <= 36].copy(deep=True)\n",
    "nbm = nbm.reset_index()\n",
    "nbm.valid_time = nbm.valid_time.dt.floor('6h')\n",
    "nbm = nbm.groupby(['reference_time', 'valid_time']).max()\n",
    "\n",
    "nbm = nbm.melt(value_vars=[x for x in nbm.columns if x.find('ProbGust_') > -1], var_name='Threshold', value_name='Probability', ignore_index=False).sort_index()\n",
    "# nbm.Threshold = nbm.Threshold.apply(lambda a: float(a.replace('ProbGust_', '')))\n",
    "nbm.Probability = np.round(nbm.Probability / round_probs, 0) * round_probs\n",
    "# nbm['Dataset'] = 'NBM'\n",
    "# nbm = nbm.reset_index().pivot(index=['reference_time', 'valid_time'], columns='Threshold', values=\"Probability\")\n",
    "nbm['Dataset'] = 'NBM'\n",
    "nbm"
   ]
  },
  {
   "cell_type": "markdown",
   "id": "automotive-wrong",
   "metadata": {},
   "source": [
    "## Load WFO\n",
    "load and filter the first 36 hours. Data is already a 6 hour value, no grouping"
   ]
  },
  {
   "cell_type": "code",
   "execution_count": 21,
   "id": "passing-northeast",
   "metadata": {},
   "outputs": [
    {
     "data": {
      "text/html": [
       "<div>\n",
       "<style scoped>\n",
       "    .dataframe tbody tr th:only-of-type {\n",
       "        vertical-align: middle;\n",
       "    }\n",
       "\n",
       "    .dataframe tbody tr th {\n",
       "        vertical-align: top;\n",
       "    }\n",
       "\n",
       "    .dataframe thead th {\n",
       "        text-align: right;\n",
       "    }\n",
       "</style>\n",
       "<table border=\"1\" class=\"dataframe\">\n",
       "  <thead>\n",
       "    <tr style=\"text-align: right;\">\n",
       "      <th></th>\n",
       "      <th></th>\n",
       "      <th>Threshold</th>\n",
       "      <th>Probability</th>\n",
       "      <th>Dataset</th>\n",
       "    </tr>\n",
       "    <tr>\n",
       "      <th>reference_time</th>\n",
       "      <th>valid_time</th>\n",
       "      <th></th>\n",
       "      <th></th>\n",
       "      <th></th>\n",
       "    </tr>\n",
       "  </thead>\n",
       "  <tbody>\n",
       "    <tr>\n",
       "      <th rowspan=\"5\" valign=\"top\">2021-10-13 12:00:00</th>\n",
       "      <th>2021-10-14 18:00:00</th>\n",
       "      <td>ProbGust_50</td>\n",
       "      <td>0.0</td>\n",
       "      <td>Operations</td>\n",
       "    </tr>\n",
       "    <tr>\n",
       "      <th>2021-10-14 18:00:00</th>\n",
       "      <td>ProbGust_58</td>\n",
       "      <td>0.0</td>\n",
       "      <td>Operations</td>\n",
       "    </tr>\n",
       "    <tr>\n",
       "      <th>2021-10-14 18:00:00</th>\n",
       "      <td>ProbGust_75</td>\n",
       "      <td>0.0</td>\n",
       "      <td>Operations</td>\n",
       "    </tr>\n",
       "    <tr>\n",
       "      <th>2021-10-15 00:00:00</th>\n",
       "      <td>ProbGust_50</td>\n",
       "      <td>0.0</td>\n",
       "      <td>Operations</td>\n",
       "    </tr>\n",
       "    <tr>\n",
       "      <th>2021-10-15 00:00:00</th>\n",
       "      <td>ProbGust_58</td>\n",
       "      <td>0.0</td>\n",
       "      <td>Operations</td>\n",
       "    </tr>\n",
       "    <tr>\n",
       "      <th>...</th>\n",
       "      <th>...</th>\n",
       "      <td>...</td>\n",
       "      <td>...</td>\n",
       "      <td>...</td>\n",
       "    </tr>\n",
       "    <tr>\n",
       "      <th rowspan=\"5\" valign=\"top\">2022-01-19 00:00:00</th>\n",
       "      <th>2022-01-20 12:00:00</th>\n",
       "      <td>ProbGust_58</td>\n",
       "      <td>10.0</td>\n",
       "      <td>Operations</td>\n",
       "    </tr>\n",
       "    <tr>\n",
       "      <th>2022-01-20 12:00:00</th>\n",
       "      <td>ProbGust_75</td>\n",
       "      <td>0.0</td>\n",
       "      <td>Operations</td>\n",
       "    </tr>\n",
       "    <tr>\n",
       "      <th>2022-01-20 18:00:00</th>\n",
       "      <td>ProbGust_50</td>\n",
       "      <td>80.0</td>\n",
       "      <td>Operations</td>\n",
       "    </tr>\n",
       "    <tr>\n",
       "      <th>2022-01-20 18:00:00</th>\n",
       "      <td>ProbGust_58</td>\n",
       "      <td>40.0</td>\n",
       "      <td>Operations</td>\n",
       "    </tr>\n",
       "    <tr>\n",
       "      <th>2022-01-20 18:00:00</th>\n",
       "      <td>ProbGust_75</td>\n",
       "      <td>0.0</td>\n",
       "      <td>Operations</td>\n",
       "    </tr>\n",
       "  </tbody>\n",
       "</table>\n",
       "<p>2145 rows × 3 columns</p>\n",
       "</div>"
      ],
      "text/plain": [
       "                                           Threshold  Probability     Dataset\n",
       "reference_time      valid_time                                               \n",
       "2021-10-13 12:00:00 2021-10-14 18:00:00  ProbGust_50          0.0  Operations\n",
       "                    2021-10-14 18:00:00  ProbGust_58          0.0  Operations\n",
       "                    2021-10-14 18:00:00  ProbGust_75          0.0  Operations\n",
       "                    2021-10-15 00:00:00  ProbGust_50          0.0  Operations\n",
       "                    2021-10-15 00:00:00  ProbGust_58          0.0  Operations\n",
       "...                                              ...          ...         ...\n",
       "2022-01-19 00:00:00 2022-01-20 12:00:00  ProbGust_58         10.0  Operations\n",
       "                    2022-01-20 12:00:00  ProbGust_75          0.0  Operations\n",
       "                    2022-01-20 18:00:00  ProbGust_50         80.0  Operations\n",
       "                    2022-01-20 18:00:00  ProbGust_58         40.0  Operations\n",
       "                    2022-01-20 18:00:00  ProbGust_75          0.0  Operations\n",
       "\n",
       "[2145 rows x 3 columns]"
      ]
     },
     "execution_count": 21,
     "metadata": {},
     "output_type": "execute_result"
    }
   ],
   "source": [
    "wfo_data = pd.read_csv('../data/byz/dot_archive.csv')\n",
    "wfo_data.Issued = pd.to_datetime(wfo_data.Issued)\n",
    "wfo_data.Valid = pd.to_datetime(wfo_data.Valid)\n",
    "wfo_data = wfo_data[wfo_data.Issued > pd.to_datetime('2000-01-01T00:00:00')]\n",
    "wfo_data = wfo_data[wfo_data.Location == city][[x for x in wfo_data.columns if x != 'Location']]\n",
    "wfo_data.columns = [{\"Issued\": 'issued_time', \"Valid\": \"valid_time\"}.get(x,x) for x in wfo_data.columns]\n",
    "wfo_data = wfo_data.set_index(['issued_time', 'valid_time', 'Filename'])\n",
    "wfo_data.columns = [dot_prob_values[city].get(x) for x in wfo_data.columns]\n",
    "wfo_data = wfo_data[(wfo_data.index.get_level_values(1) - wfo_data.index.get_level_values(0)).total_seconds()/3600 <= 36].copy(deep=True)\n",
    "wfo_data = wfo_data.melt(value_vars=[x for x in wfo_data.columns if x.find('Prob') > -1], var_name='Threshold', value_name='Probability', ignore_index=False).sort_index()\n",
    "# # wfo_data.Threshold = wfo_data.Threshold.apply(dot_prob_values[city].get)\n",
    "wfo_data.Probability = np.round(wfo_data.Probability / round_probs, 0) * round_probs\n",
    "# # wfo_data[\"Dataset\"] = \"Operations\"\n",
    "\n",
    "wfo_data = wfo_data.reset_index()\n",
    "wfo_data['reference_time'] = wfo_data.issued_time.dt.ceil('12h') - pd.to_timedelta('12h')\n",
    "# valid_verify_times = wfo_data.groupby(['reference_time']).issued_time.max().values\n",
    "valid_verify_times = wfo_data.groupby(['reference_time'])[['issued_time','Filename']].max()\n",
    "wfo_data = pd.merge(left=valid_verify_times, right=wfo_data, left_on=['Filename', 'reference_time', 'issued_time'], right_on=['Filename', 'reference_time', 'issued_time'], how='left')\n",
    "wfo_data = wfo_data[[x for x in wfo_data.columns if x not in ['issued_time', 'Filename'] ]].set_index(['reference_time', 'valid_time'])\n",
    "# wfo_data = wfo_data.reset_index().pivot(index=['reference_time', 'valid_time'], columns='Threshold', values=\"Probability\")\n",
    "# # wfo_data = wfo_data.reset_index().groupby(['reference_time']).valid_time.apply(lambda a: a.count() - a.nunique())\n",
    "wfo_data[\"Dataset\"] = \"Operations\"\n",
    "wfo_data\n"
   ]
  },
  {
   "cell_type": "code",
   "execution_count": 22,
   "id": "apparent-investing",
   "metadata": {},
   "outputs": [
    {
     "data": {
      "text/html": [
       "<div>\n",
       "<style scoped>\n",
       "    .dataframe tbody tr th:only-of-type {\n",
       "        vertical-align: middle;\n",
       "    }\n",
       "\n",
       "    .dataframe tbody tr th {\n",
       "        vertical-align: top;\n",
       "    }\n",
       "\n",
       "    .dataframe thead th {\n",
       "        text-align: right;\n",
       "    }\n",
       "</style>\n",
       "<table border=\"1\" class=\"dataframe\">\n",
       "  <thead>\n",
       "    <tr style=\"text-align: right;\">\n",
       "      <th></th>\n",
       "      <th>Threshold</th>\n",
       "      <th>Probability</th>\n",
       "      <th>Dataset</th>\n",
       "      <th>Hit</th>\n",
       "    </tr>\n",
       "  </thead>\n",
       "  <tbody>\n",
       "    <tr>\n",
       "      <th>0</th>\n",
       "      <td>50</td>\n",
       "      <td>0.0</td>\n",
       "      <td>NBM</td>\n",
       "      <td>2.857143</td>\n",
       "    </tr>\n",
       "    <tr>\n",
       "      <th>1</th>\n",
       "      <td>50</td>\n",
       "      <td>0.0</td>\n",
       "      <td>Operations</td>\n",
       "      <td>4.958678</td>\n",
       "    </tr>\n",
       "    <tr>\n",
       "      <th>0</th>\n",
       "      <td>50</td>\n",
       "      <td>0.0</td>\n",
       "      <td>Perfect</td>\n",
       "      <td>0.000000</td>\n",
       "    </tr>\n",
       "    <tr>\n",
       "      <th>2</th>\n",
       "      <td>50</td>\n",
       "      <td>10.0</td>\n",
       "      <td>NBM</td>\n",
       "      <td>14.062500</td>\n",
       "    </tr>\n",
       "    <tr>\n",
       "      <th>3</th>\n",
       "      <td>50</td>\n",
       "      <td>10.0</td>\n",
       "      <td>Operations</td>\n",
       "      <td>28.571429</td>\n",
       "    </tr>\n",
       "    <tr>\n",
       "      <th>...</th>\n",
       "      <td>...</td>\n",
       "      <td>...</td>\n",
       "      <td>...</td>\n",
       "      <td>...</td>\n",
       "    </tr>\n",
       "    <tr>\n",
       "      <th>29</th>\n",
       "      <td>75</td>\n",
       "      <td>70.0</td>\n",
       "      <td>Perfect</td>\n",
       "      <td>70.000000</td>\n",
       "    </tr>\n",
       "    <tr>\n",
       "      <th>57</th>\n",
       "      <td>75</td>\n",
       "      <td>80.0</td>\n",
       "      <td>Operations</td>\n",
       "      <td>50.000000</td>\n",
       "    </tr>\n",
       "    <tr>\n",
       "      <th>30</th>\n",
       "      <td>75</td>\n",
       "      <td>80.0</td>\n",
       "      <td>Perfect</td>\n",
       "      <td>80.000000</td>\n",
       "    </tr>\n",
       "    <tr>\n",
       "      <th>31</th>\n",
       "      <td>75</td>\n",
       "      <td>90.0</td>\n",
       "      <td>Perfect</td>\n",
       "      <td>90.000000</td>\n",
       "    </tr>\n",
       "    <tr>\n",
       "      <th>32</th>\n",
       "      <td>75</td>\n",
       "      <td>100.0</td>\n",
       "      <td>Perfect</td>\n",
       "      <td>100.000000</td>\n",
       "    </tr>\n",
       "  </tbody>\n",
       "</table>\n",
       "<p>91 rows × 4 columns</p>\n",
       "</div>"
      ],
      "text/plain": [
       "    Threshold  Probability     Dataset         Hit\n",
       "0          50          0.0         NBM    2.857143\n",
       "1          50          0.0  Operations    4.958678\n",
       "0          50          0.0     Perfect    0.000000\n",
       "2          50         10.0         NBM   14.062500\n",
       "3          50         10.0  Operations   28.571429\n",
       "..        ...          ...         ...         ...\n",
       "29         75         70.0     Perfect   70.000000\n",
       "57         75         80.0  Operations   50.000000\n",
       "30         75         80.0     Perfect   80.000000\n",
       "31         75         90.0     Perfect   90.000000\n",
       "32         75        100.0     Perfect  100.000000\n",
       "\n",
       "[91 rows x 4 columns]"
      ]
     },
     "execution_count": 22,
     "metadata": {},
     "output_type": "execute_result"
    }
   ],
   "source": [
    "# nbm.apply(lambda row: row if row.name != 'Threshold' else row.apply(lambda a:'{0}_NBM'.format(a)))\n",
    "\n",
    "merged = pd.merge(left=pd.concat([nbm.reset_index(), wfo_data.reset_index()]),\n",
    "                 right=obs.reset_index(), left_on='valid_time', right_on='time')[['reference_time', 'valid_time', 'Threshold', 'Probability', '10_meter_wind_speed_of_gust', 'Dataset']]\n",
    "merged.Threshold = merged.Threshold.apply(lambda a: int(a.replace('ProbGust_', '')))\n",
    "merged['Hit'] = merged.apply(lambda row: 1 if row['10_meter_wind_speed_of_gust'] >= row['Threshold'] else 0, axis=1)\n",
    "merged\n",
    "# print(merged.max())\n",
    "reliability = merged.groupby(['Threshold', 'Probability', 'Dataset']).Hit.apply(lambda a: a.sum()/a.count() * 100).reset_index()\n",
    "reliability = pd.concat([reliability, pd.DataFrame([{'Threshold': thresh, 'Probability': prob, 'Dataset': 'Perfect', 'Hit': prob} for thresh in reliability.Threshold.unique() for prob in reliability.Probability.unique()])]).sort_values(['Threshold', 'Probability', 'Dataset'])\n",
    "reliability\n"
   ]
  },
  {
   "cell_type": "code",
   "execution_count": 23,
   "id": "every-occupation",
   "metadata": {},
   "outputs": [
    {
     "data": {
      "image/png": "[encoded data removed]",
      "text/plain": [
       "<Figure size 1173.48x360 with 3 Axes>"
      ]
     },
     "metadata": {},
     "output_type": "display_data"
    }
   ],
   "source": [
    "reliability.columns = [{'Probability': 'Forecast Probability', 'Hit': 'Hit Percentage'}.get(x, x) for x in reliability.columns]\n",
    "g = sns.relplot(data=reliability, x='Forecast Probability', y='Hit Percentage', col='Threshold', hue=\"Dataset\", kind='line', markers=True, style='Dataset')\n",
    "g.fig.subplots_adjust(top=.88)\n",
    "g.fig.suptitle('{0:s} Reliability'.format(city))\n",
    "for _, ax in g.axes_dict.items():\n",
    "    ax.text(.65, .05, \"Prob Too High\", transform=ax.transAxes, fontweight=\"bold\", fontsize=\"large\")\n",
    "    ax.text(.05, .90, \"Prob Too Low\", transform=ax.transAxes, fontweight=\"bold\", fontsize=\"large\")\n",
    "g.savefig('output/{0}_DOT_performance.png'.format(city.replace(' ', '')))"
   ]
  },
  {
   "cell_type": "code",
   "execution_count": null,
   "id": "chronic-simon",
   "metadata": {},
   "outputs": [],
   "source": []
  }
 ],
 "metadata": {
  "kernelspec": {
   "display_name": "Python 3",
   "language": "python",
   "name": "python3"
  },
  "language_info": {
   "codemirror_mode": {
    "name": "ipython",
    "version": 3
   },
   "file_extension": ".py",
   "mimetype": "text/x-python",
   "name": "python",
   "nbconvert_exporter": "python",
   "pygments_lexer": "ipython3",
   "version": "3.8.6"
  }
 },
 "nbformat": 4,
 "nbformat_minor": 5
}
