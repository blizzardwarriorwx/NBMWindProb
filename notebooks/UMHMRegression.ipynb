{
 "cells": [
  {
   "cell_type": "markdown",
   "id": "liked-library",
   "metadata": {},
   "source": [
    "# Harlowton (UMHM) Regression\n",
    "\n",
    "Compare the observations from the Harlowton, MT AWOS AgriMet (UMHM) \n",
    "with the RTMA or NBM 1hr forecast and comute a regression\n",
    "\n",
    "## Import modules"
   ]
  },
  {
   "cell_type": "code",
   "execution_count": 1,
   "id": "exact-simulation",
   "metadata": {},
   "outputs": [],
   "source": [
    "import xarray            as xr\n",
    "import pandas            as pd\n",
    "import numpy             as np\n",
    "import matplotlib.pyplot as plt\n",
    "import seaborn           as sns\n",
    "import scipy.stats       as stats\n",
    "import os.path \n",
    "import pint"
   ]
  },
  {
   "cell_type": "markdown",
   "id": "supported-drawing",
   "metadata": {},
   "source": [
    "## Set some contants"
   ]
  },
  {
   "cell_type": "code",
   "execution_count": 2,
   "id": "cordless-campbell",
   "metadata": {},
   "outputs": [],
   "source": [
    "sns.set_theme(color_codes=True)\n",
    "units = pint.UnitRegistry()\n",
    "hour = pd.to_timedelta('1H')\n",
    "normal_distribution = stats.norm()"
   ]
  },
  {
   "cell_type": "markdown",
   "id": "north-limitation",
   "metadata": {},
   "source": [
    "## Define utility functions"
   ]
  },
  {
   "cell_type": "markdown",
   "id": "designed-indiana",
   "metadata": {},
   "source": [
    "### load_analysis_grid:\n",
    "Load time series from a gridded source converting units and filtering fields. Also creates the valid time field from reference time and time since reference. Can tranform column names if needed, ie for NBM 1 hour forecast."
   ]
  },
  {
   "cell_type": "code",
   "execution_count": 3,
   "id": "confirmed-recipient",
   "metadata": {},
   "outputs": [],
   "source": [
    "def load_analysis_grid(filename, filter_fields=None, transform_columns=None):\n",
    "    data = xr.open_dataset(filename).to_dataframe()\n",
    "    if transform_columns is not None:\n",
    "        data.columns = data.columns.to_series().apply(transform_columns)\n",
    "    data = data.set_index(data.pop('reference_time') + data.pop('time_since_reference') * hour).sort_index()\n",
    "    if filter_fields is None:\n",
    "        filter_fields = data.columns\n",
    "    return data[filter_fields]"
   ]
  },
  {
   "cell_type": "markdown",
   "id": "radio-setting",
   "metadata": {},
   "source": [
    "### load_forecast_grid:\n",
    "Load time series from a gridded source converting units and filtering fields. Also creates the valid time field from reference time and time since reference. Can tranform column names if needed, ie for NBM 1 hour forecast."
   ]
  },
  {
   "cell_type": "code",
   "execution_count": 4,
   "id": "impossible-corps",
   "metadata": {},
   "outputs": [],
   "source": [
    "def load_forecast_grid(filename, filter_fields=None, transform_columns=None):\n",
    "    data = xr.open_dataset(filename).to_dataframe()\n",
    "    if transform_columns is not None:\n",
    "        data.columns = data.columns.to_series().apply(transform_columns)\n",
    "    data['valid_time'] = data.reference_time + data.time_since_reference * hour\n",
    "    data = data.set_index(['reference_time', 'valid_time']).sort_index()\n",
    "    if filter_fields is None:\n",
    "        filter_fields = data.columns\n",
    "    return data[filter_fields]"
   ]
  },
  {
   "cell_type": "markdown",
   "id": "suspended-grass",
   "metadata": {},
   "source": [
    "### filter_missing_data\n",
    "Filter rows that are filled with NaNs, ignoring time fields by default"
   ]
  },
  {
   "cell_type": "code",
   "execution_count": 5,
   "id": "stuffed-lindsay",
   "metadata": {},
   "outputs": [],
   "source": [
    "def filter_missing_data(data):\n",
    "    return data.dropna(how='all')"
   ]
  },
  {
   "cell_type": "markdown",
   "id": "entire-majority",
   "metadata": {},
   "source": [
    "### load_observations\n",
    "Load time series from observation source, converting units and filtering fields."
   ]
  },
  {
   "cell_type": "code",
   "execution_count": 6,
   "id": "published-knight",
   "metadata": {},
   "outputs": [],
   "source": [
    "def load_observations(filename, filter_fields=None):\n",
    "    data = xr.open_dataset(filename).to_dataframe().set_index('time').sort_index()\n",
    "    if filter_fields is not None:\n",
    "        data = data.loc[:, filter_fields]\n",
    "    return data"
   ]
  },
  {
   "cell_type": "markdown",
   "id": "dutch-april",
   "metadata": {},
   "source": [
    "### replace_missing_gust_with_wind\n",
    "Since that gusts for AWOS/ASOS are not reported unless the gusts is sufficiently higher than sustained wind, replace missing gust values with the sustained to compare to RTMA / NBM that always has a gust value."
   ]
  },
  {
   "cell_type": "code",
   "execution_count": 7,
   "id": "phantom-bathroom",
   "metadata": {},
   "outputs": [],
   "source": [
    "def replace_missing_gust_with_wind(data, wind_field, wind_gust_field):\n",
    "    index = np.isnan(data[wind_gust_field])\n",
    "    data.loc[index, wind_gust_field] = data[wind_field][index]"
   ]
  },
  {
   "cell_type": "markdown",
   "id": "informational-mumbai",
   "metadata": {},
   "source": [
    "### get_period_maximum\n",
    "Find the maximum values when rounding the time fields to nearest hour"
   ]
  },
  {
   "cell_type": "code",
   "execution_count": 8,
   "id": "needed-threshold",
   "metadata": {},
   "outputs": [],
   "source": [
    "def get_period_maximum(data, period='1H'):\n",
    "    return data.groupby(data.index.round(period)).max()"
   ]
  },
  {
   "cell_type": "markdown",
   "id": "front-absence",
   "metadata": {},
   "source": [
    "### time_match_dataset\n",
    "Time-match dataset while prefixing the columns of each dataset"
   ]
  },
  {
   "cell_type": "code",
   "execution_count": 9,
   "id": "robust-holly",
   "metadata": {},
   "outputs": [],
   "source": [
    "def time_match_dataset(left, right, left_prefix='obs', right_prefix='grid', left_time='time', right_time='valid_time'):\n",
    "    if left_prefix is None:\n",
    "        left_prefix = ''\n",
    "    else:\n",
    "        left_prefix = '_{0:s}'.format(left_prefix)\n",
    "    if right_prefix is None:\n",
    "        right_prefix = ''\n",
    "    else:\n",
    "        right_prefix = '_{0:s}'.format(right_prefix)\n",
    "    return pd.merge(left.add_suffix(left_prefix), right.add_suffix(right_prefix), how='inner', left_index=True, right_index=True).sort_index()"
   ]
  },
  {
   "cell_type": "markdown",
   "id": "necessary-semester",
   "metadata": {},
   "source": [
    "### convert_units\n",
    "Convert units of columns in a DataFrame"
   ]
  },
  {
   "cell_type": "code",
   "execution_count": 10,
   "id": "about-breast",
   "metadata": {},
   "outputs": [],
   "source": [
    "def convert_units(data, columns):\n",
    "    for col in columns.keys():\n",
    "        data[col] = pint.Quantity(data[col].to_numpy(), units(columns[col][0])).to(units(columns[col][1])).magnitude"
   ]
  },
  {
   "cell_type": "markdown",
   "id": "powered-filing",
   "metadata": {},
   "source": [
    "### calculate_lower_threshold_speed\n",
    "\n",
    "Calculate the lower end speed threshold for winds that are relevent to analysis given a criteria threshold and minimum probability"
   ]
  },
  {
   "cell_type": "code",
   "execution_count": 11,
   "id": "twenty-spoke",
   "metadata": {},
   "outputs": [],
   "source": [
    "def calculate_lower_threshold_speed(sigma_data, criteria, criteria_units='mph', min_probability=0.005, sigma_threshold=0.95):\n",
    "    return pint.Quantity(criteria, units(criteria_units)).to(units('m/s')).magnitude - normal_distribution.ppf(1-min_probability) * sigma_data.quantile(sigma_threshold)"
   ]
  },
  {
   "cell_type": "markdown",
   "id": "efficient-button",
   "metadata": {},
   "source": [
    "## Set Site ID"
   ]
  },
  {
   "cell_type": "code",
   "execution_count": 12,
   "id": "asian-summit",
   "metadata": {},
   "outputs": [],
   "source": [
    "siteID = 'UMHM'"
   ]
  },
  {
   "cell_type": "markdown",
   "id": "constant-christmas",
   "metadata": {},
   "source": [
    "## Load RTMA / NBM 1-Hour Forecast Data"
   ]
  },
  {
   "cell_type": "code",
   "execution_count": 13,
   "id": "disciplinary-carol",
   "metadata": {},
   "outputs": [
    {
     "data": {
      "text/html": [
       "<div>\n",
       "<style scoped>\n",
       "    .dataframe tbody tr th:only-of-type {\n",
       "        vertical-align: middle;\n",
       "    }\n",
       "\n",
       "    .dataframe tbody tr th {\n",
       "        vertical-align: top;\n",
       "    }\n",
       "\n",
       "    .dataframe thead th {\n",
       "        text-align: right;\n",
       "    }\n",
       "</style>\n",
       "<table border=\"1\" class=\"dataframe\">\n",
       "  <thead>\n",
       "    <tr style=\"text-align: right;\">\n",
       "      <th></th>\n",
       "      <th>10_meter_wind_speed</th>\n",
       "      <th>10_meter_wind_speed_of_gust</th>\n",
       "      <th>10_meter_wind_from_direction</th>\n",
       "    </tr>\n",
       "  </thead>\n",
       "  <tbody>\n",
       "    <tr>\n",
       "      <th>2020-10-01 00:00:00</th>\n",
       "      <td>6.200000</td>\n",
       "      <td>9.200000</td>\n",
       "      <td>30.0</td>\n",
       "    </tr>\n",
       "    <tr>\n",
       "      <th>2020-10-01 01:00:00</th>\n",
       "      <td>4.600000</td>\n",
       "      <td>7.900000</td>\n",
       "      <td>40.0</td>\n",
       "    </tr>\n",
       "    <tr>\n",
       "      <th>2020-10-01 02:00:00</th>\n",
       "      <td>3.900000</td>\n",
       "      <td>7.000000</td>\n",
       "      <td>90.0</td>\n",
       "    </tr>\n",
       "    <tr>\n",
       "      <th>2020-10-01 03:00:00</th>\n",
       "      <td>3.100000</td>\n",
       "      <td>5.400000</td>\n",
       "      <td>110.0</td>\n",
       "    </tr>\n",
       "    <tr>\n",
       "      <th>2020-10-01 04:00:00</th>\n",
       "      <td>3.100000</td>\n",
       "      <td>4.100000</td>\n",
       "      <td>150.0</td>\n",
       "    </tr>\n",
       "    <tr>\n",
       "      <th>...</th>\n",
       "      <td>...</td>\n",
       "      <td>...</td>\n",
       "      <td>...</td>\n",
       "    </tr>\n",
       "    <tr>\n",
       "      <th>2021-02-28 19:00:00</th>\n",
       "      <td>12.800000</td>\n",
       "      <td>19.100000</td>\n",
       "      <td>270.0</td>\n",
       "    </tr>\n",
       "    <tr>\n",
       "      <th>2021-02-28 20:00:00</th>\n",
       "      <td>12.800000</td>\n",
       "      <td>19.100000</td>\n",
       "      <td>270.0</td>\n",
       "    </tr>\n",
       "    <tr>\n",
       "      <th>2021-02-28 21:00:00</th>\n",
       "      <td>12.800000</td>\n",
       "      <td>18.800001</td>\n",
       "      <td>270.0</td>\n",
       "    </tr>\n",
       "    <tr>\n",
       "      <th>2021-02-28 22:00:00</th>\n",
       "      <td>12.400001</td>\n",
       "      <td>18.400000</td>\n",
       "      <td>280.0</td>\n",
       "    </tr>\n",
       "    <tr>\n",
       "      <th>2021-02-28 23:00:00</th>\n",
       "      <td>11.200000</td>\n",
       "      <td>18.000000</td>\n",
       "      <td>280.0</td>\n",
       "    </tr>\n",
       "  </tbody>\n",
       "</table>\n",
       "<p>3494 rows × 3 columns</p>\n",
       "</div>"
      ],
      "text/plain": [
       "                     10_meter_wind_speed  10_meter_wind_speed_of_gust  \\\n",
       "2020-10-01 00:00:00             6.200000                     9.200000   \n",
       "2020-10-01 01:00:00             4.600000                     7.900000   \n",
       "2020-10-01 02:00:00             3.900000                     7.000000   \n",
       "2020-10-01 03:00:00             3.100000                     5.400000   \n",
       "2020-10-01 04:00:00             3.100000                     4.100000   \n",
       "...                                  ...                          ...   \n",
       "2021-02-28 19:00:00            12.800000                    19.100000   \n",
       "2021-02-28 20:00:00            12.800000                    19.100000   \n",
       "2021-02-28 21:00:00            12.800000                    18.800001   \n",
       "2021-02-28 22:00:00            12.400001                    18.400000   \n",
       "2021-02-28 23:00:00            11.200000                    18.000000   \n",
       "\n",
       "                     10_meter_wind_from_direction  \n",
       "2020-10-01 00:00:00                          30.0  \n",
       "2020-10-01 01:00:00                          40.0  \n",
       "2020-10-01 02:00:00                          90.0  \n",
       "2020-10-01 03:00:00                         110.0  \n",
       "2020-10-01 04:00:00                         150.0  \n",
       "...                                           ...  \n",
       "2021-02-28 19:00:00                         270.0  \n",
       "2021-02-28 20:00:00                         270.0  \n",
       "2021-02-28 21:00:00                         270.0  \n",
       "2021-02-28 22:00:00                         280.0  \n",
       "2021-02-28 23:00:00                         280.0  \n",
       "\n",
       "[3494 rows x 3 columns]"
      ]
     },
     "execution_count": 13,
     "metadata": {},
     "output_type": "execute_result"
    }
   ],
   "source": [
    "analysis = filter_missing_data(load_analysis_grid('../data/nbm_analysis/NBM_{0:s}.nc'.format(siteID), \n",
    "                                                  filter_fields=['10_meter_wind_speed', '10_meter_wind_speed_of_gust', '10_meter_wind_from_direction'], \n",
    "                                                  transform_columns=lambda a: a.replace('_mean', '')))\n",
    "analysis = filter_missing_data(analysis)\n",
    "analysis"
   ]
  },
  {
   "cell_type": "markdown",
   "id": "veterinary-probe",
   "metadata": {},
   "source": [
    "## Load Observation Data"
   ]
  },
  {
   "cell_type": "code",
   "execution_count": 15,
   "id": "union-shannon",
   "metadata": {},
   "outputs": [
    {
     "data": {
      "text/html": [
       "<div>\n",
       "<style scoped>\n",
       "    .dataframe tbody tr th:only-of-type {\n",
       "        vertical-align: middle;\n",
       "    }\n",
       "\n",
       "    .dataframe tbody tr th {\n",
       "        vertical-align: top;\n",
       "    }\n",
       "\n",
       "    .dataframe thead th {\n",
       "        text-align: right;\n",
       "    }\n",
       "</style>\n",
       "<table border=\"1\" class=\"dataframe\">\n",
       "  <thead>\n",
       "    <tr style=\"text-align: right;\">\n",
       "      <th></th>\n",
       "      <th>10_meter_wind_speed_of_gust</th>\n",
       "      <th>10_meter_wind_from_direction</th>\n",
       "    </tr>\n",
       "    <tr>\n",
       "      <th>time</th>\n",
       "      <th></th>\n",
       "      <th></th>\n",
       "    </tr>\n",
       "  </thead>\n",
       "  <tbody>\n",
       "    <tr>\n",
       "      <th>2020-05-18 06:00:00</th>\n",
       "      <td>6.08336</td>\n",
       "      <td>289.3</td>\n",
       "    </tr>\n",
       "    <tr>\n",
       "      <th>2020-05-18 07:00:00</th>\n",
       "      <td>8.48336</td>\n",
       "      <td>323.7</td>\n",
       "    </tr>\n",
       "    <tr>\n",
       "      <th>2020-05-18 08:00:00</th>\n",
       "      <td>7.50336</td>\n",
       "      <td>304.8</td>\n",
       "    </tr>\n",
       "    <tr>\n",
       "      <th>2020-05-18 09:00:00</th>\n",
       "      <td>7.01336</td>\n",
       "      <td>352.4</td>\n",
       "    </tr>\n",
       "    <tr>\n",
       "      <th>2020-05-18 10:00:00</th>\n",
       "      <td>8.53336</td>\n",
       "      <td>333.2</td>\n",
       "    </tr>\n",
       "    <tr>\n",
       "      <th>...</th>\n",
       "      <td>...</td>\n",
       "      <td>...</td>\n",
       "    </tr>\n",
       "    <tr>\n",
       "      <th>2021-05-02 02:00:00</th>\n",
       "      <td>10.01336</td>\n",
       "      <td>358.5</td>\n",
       "    </tr>\n",
       "    <tr>\n",
       "      <th>2021-05-02 03:00:00</th>\n",
       "      <td>12.29336</td>\n",
       "      <td>301.5</td>\n",
       "    </tr>\n",
       "    <tr>\n",
       "      <th>2021-05-02 04:00:00</th>\n",
       "      <td>15.15336</td>\n",
       "      <td>276.4</td>\n",
       "    </tr>\n",
       "    <tr>\n",
       "      <th>2021-05-02 05:00:00</th>\n",
       "      <td>11.30336</td>\n",
       "      <td>344.4</td>\n",
       "    </tr>\n",
       "    <tr>\n",
       "      <th>2021-05-02 06:00:00</th>\n",
       "      <td>6.66336</td>\n",
       "      <td>171.6</td>\n",
       "    </tr>\n",
       "  </tbody>\n",
       "</table>\n",
       "<p>8373 rows × 2 columns</p>\n",
       "</div>"
      ],
      "text/plain": [
       "                     10_meter_wind_speed_of_gust  10_meter_wind_from_direction\n",
       "time                                                                          \n",
       "2020-05-18 06:00:00                      6.08336                         289.3\n",
       "2020-05-18 07:00:00                      8.48336                         323.7\n",
       "2020-05-18 08:00:00                      7.50336                         304.8\n",
       "2020-05-18 09:00:00                      7.01336                         352.4\n",
       "2020-05-18 10:00:00                      8.53336                         333.2\n",
       "...                                          ...                           ...\n",
       "2021-05-02 02:00:00                     10.01336                         358.5\n",
       "2021-05-02 03:00:00                     12.29336                         301.5\n",
       "2021-05-02 04:00:00                     15.15336                         276.4\n",
       "2021-05-02 05:00:00                     11.30336                         344.4\n",
       "2021-05-02 06:00:00                      6.66336                         171.6\n",
       "\n",
       "[8373 rows x 2 columns]"
      ]
     },
     "execution_count": 15,
     "metadata": {},
     "output_type": "execute_result"
    }
   ],
   "source": [
    "obs =  load_observations('../data/observations/{0:s}.nc'.format(siteID), \n",
    "                         filter_fields=['10_meter_wind_speed_of_gust', '10_meter_wind_from_direction'])\n",
    "obs['10_meter_wind_speed_of_gust'] += pint.Quantity(9, units('mph')).to(units('m/s')).magnitude\n",
    "# replace_missing_gust_with_wind(obs, '10_meter_wind_speed_of_gust')\n",
    "obs = filter_missing_data(obs)\n",
    "# obs = obs[obs['10_meter_wind_speed_of_gust'] > (pint.Quantity(20, units('mph')).to(units('m s**-1')).magnitude)]\n",
    "obs = get_period_maximum(obs, period='1H')\n",
    "obs"
   ]
  },
  {
   "cell_type": "markdown",
   "id": "instant-harvest",
   "metadata": {},
   "source": [
    "## Load forecast data to calculate analysis threshold"
   ]
  },
  {
   "cell_type": "code",
   "execution_count": 16,
   "id": "binding-personality",
   "metadata": {},
   "outputs": [],
   "source": [
    "forecast = load_forecast_grid('../data/nbm/NBM_{0:s}.nc'.format(siteID), filter_fields=['10_meter_wind_speed_of_gust_standard_deviation'])\n",
    "forecast = filter_missing_data(forecast)"
   ]
  },
  {
   "cell_type": "markdown",
   "id": "differential-arrow",
   "metadata": {},
   "source": [
    "## Time-match Observations to RTMA / NBM Analysis\n",
    "filter using probability threshold"
   ]
  },
  {
   "cell_type": "code",
   "execution_count": 17,
   "id": "smoking-question",
   "metadata": {},
   "outputs": [
    {
     "name": "stdout",
     "output_type": "stream",
     "text": [
      "30.985512305640977 mile_per_hour\n"
     ]
    },
    {
     "data": {
      "text/html": [
       "<div>\n",
       "<style scoped>\n",
       "    .dataframe tbody tr th:only-of-type {\n",
       "        vertical-align: middle;\n",
       "    }\n",
       "\n",
       "    .dataframe tbody tr th {\n",
       "        vertical-align: top;\n",
       "    }\n",
       "\n",
       "    .dataframe thead th {\n",
       "        text-align: right;\n",
       "    }\n",
       "</style>\n",
       "<table border=\"1\" class=\"dataframe\">\n",
       "  <thead>\n",
       "    <tr style=\"text-align: right;\">\n",
       "      <th></th>\n",
       "      <th>10_meter_wind_speed_of_gust_obs</th>\n",
       "      <th>10_meter_wind_from_direction_obs</th>\n",
       "      <th>10_meter_wind_speed_analysis</th>\n",
       "      <th>10_meter_wind_speed_of_gust_analysis</th>\n",
       "      <th>10_meter_wind_from_direction_analysis</th>\n",
       "    </tr>\n",
       "  </thead>\n",
       "  <tbody>\n",
       "    <tr>\n",
       "      <th>2020-10-01 22:00:00</th>\n",
       "      <td>14.44336</td>\n",
       "      <td>303.40</td>\n",
       "      <td>5.200000</td>\n",
       "      <td>8.600000</td>\n",
       "      <td>280.0</td>\n",
       "    </tr>\n",
       "    <tr>\n",
       "      <th>2020-10-02 18:00:00</th>\n",
       "      <td>15.06336</td>\n",
       "      <td>17.96</td>\n",
       "      <td>6.300000</td>\n",
       "      <td>9.400001</td>\n",
       "      <td>360.0</td>\n",
       "    </tr>\n",
       "    <tr>\n",
       "      <th>2020-10-02 19:00:00</th>\n",
       "      <td>14.75336</td>\n",
       "      <td>14.88</td>\n",
       "      <td>7.400000</td>\n",
       "      <td>10.200000</td>\n",
       "      <td>0.0</td>\n",
       "    </tr>\n",
       "    <tr>\n",
       "      <th>2020-10-02 20:00:00</th>\n",
       "      <td>14.08336</td>\n",
       "      <td>20.57</td>\n",
       "      <td>7.400000</td>\n",
       "      <td>10.400001</td>\n",
       "      <td>10.0</td>\n",
       "    </tr>\n",
       "    <tr>\n",
       "      <th>2020-10-02 21:00:00</th>\n",
       "      <td>14.93336</td>\n",
       "      <td>20.99</td>\n",
       "      <td>7.000000</td>\n",
       "      <td>10.600000</td>\n",
       "      <td>20.0</td>\n",
       "    </tr>\n",
       "    <tr>\n",
       "      <th>...</th>\n",
       "      <td>...</td>\n",
       "      <td>...</td>\n",
       "      <td>...</td>\n",
       "      <td>...</td>\n",
       "      <td>...</td>\n",
       "    </tr>\n",
       "    <tr>\n",
       "      <th>2021-02-28 19:00:00</th>\n",
       "      <td>21.23336</td>\n",
       "      <td>272.10</td>\n",
       "      <td>12.800000</td>\n",
       "      <td>19.100000</td>\n",
       "      <td>270.0</td>\n",
       "    </tr>\n",
       "    <tr>\n",
       "      <th>2021-02-28 20:00:00</th>\n",
       "      <td>23.55336</td>\n",
       "      <td>272.60</td>\n",
       "      <td>12.800000</td>\n",
       "      <td>19.100000</td>\n",
       "      <td>270.0</td>\n",
       "    </tr>\n",
       "    <tr>\n",
       "      <th>2021-02-28 21:00:00</th>\n",
       "      <td>23.87336</td>\n",
       "      <td>265.80</td>\n",
       "      <td>12.800000</td>\n",
       "      <td>18.800001</td>\n",
       "      <td>270.0</td>\n",
       "    </tr>\n",
       "    <tr>\n",
       "      <th>2021-02-28 22:00:00</th>\n",
       "      <td>22.30336</td>\n",
       "      <td>272.50</td>\n",
       "      <td>12.400001</td>\n",
       "      <td>18.400000</td>\n",
       "      <td>280.0</td>\n",
       "    </tr>\n",
       "    <tr>\n",
       "      <th>2021-02-28 23:00:00</th>\n",
       "      <td>19.26336</td>\n",
       "      <td>273.10</td>\n",
       "      <td>11.200000</td>\n",
       "      <td>18.000000</td>\n",
       "      <td>280.0</td>\n",
       "    </tr>\n",
       "  </tbody>\n",
       "</table>\n",
       "<p>1544 rows × 5 columns</p>\n",
       "</div>"
      ],
      "text/plain": [
       "                     10_meter_wind_speed_of_gust_obs  \\\n",
       "2020-10-01 22:00:00                         14.44336   \n",
       "2020-10-02 18:00:00                         15.06336   \n",
       "2020-10-02 19:00:00                         14.75336   \n",
       "2020-10-02 20:00:00                         14.08336   \n",
       "2020-10-02 21:00:00                         14.93336   \n",
       "...                                              ...   \n",
       "2021-02-28 19:00:00                         21.23336   \n",
       "2021-02-28 20:00:00                         23.55336   \n",
       "2021-02-28 21:00:00                         23.87336   \n",
       "2021-02-28 22:00:00                         22.30336   \n",
       "2021-02-28 23:00:00                         19.26336   \n",
       "\n",
       "                     10_meter_wind_from_direction_obs  \\\n",
       "2020-10-01 22:00:00                            303.40   \n",
       "2020-10-02 18:00:00                             17.96   \n",
       "2020-10-02 19:00:00                             14.88   \n",
       "2020-10-02 20:00:00                             20.57   \n",
       "2020-10-02 21:00:00                             20.99   \n",
       "...                                               ...   \n",
       "2021-02-28 19:00:00                            272.10   \n",
       "2021-02-28 20:00:00                            272.60   \n",
       "2021-02-28 21:00:00                            265.80   \n",
       "2021-02-28 22:00:00                            272.50   \n",
       "2021-02-28 23:00:00                            273.10   \n",
       "\n",
       "                     10_meter_wind_speed_analysis  \\\n",
       "2020-10-01 22:00:00                      5.200000   \n",
       "2020-10-02 18:00:00                      6.300000   \n",
       "2020-10-02 19:00:00                      7.400000   \n",
       "2020-10-02 20:00:00                      7.400000   \n",
       "2020-10-02 21:00:00                      7.000000   \n",
       "...                                           ...   \n",
       "2021-02-28 19:00:00                     12.800000   \n",
       "2021-02-28 20:00:00                     12.800000   \n",
       "2021-02-28 21:00:00                     12.800000   \n",
       "2021-02-28 22:00:00                     12.400001   \n",
       "2021-02-28 23:00:00                     11.200000   \n",
       "\n",
       "                     10_meter_wind_speed_of_gust_analysis  \\\n",
       "2020-10-01 22:00:00                              8.600000   \n",
       "2020-10-02 18:00:00                              9.400001   \n",
       "2020-10-02 19:00:00                             10.200000   \n",
       "2020-10-02 20:00:00                             10.400001   \n",
       "2020-10-02 21:00:00                             10.600000   \n",
       "...                                                   ...   \n",
       "2021-02-28 19:00:00                             19.100000   \n",
       "2021-02-28 20:00:00                             19.100000   \n",
       "2021-02-28 21:00:00                             18.800001   \n",
       "2021-02-28 22:00:00                             18.400000   \n",
       "2021-02-28 23:00:00                             18.000000   \n",
       "\n",
       "                     10_meter_wind_from_direction_analysis  \n",
       "2020-10-01 22:00:00                                  280.0  \n",
       "2020-10-02 18:00:00                                  360.0  \n",
       "2020-10-02 19:00:00                                    0.0  \n",
       "2020-10-02 20:00:00                                   10.0  \n",
       "2020-10-02 21:00:00                                   20.0  \n",
       "...                                                    ...  \n",
       "2021-02-28 19:00:00                                  270.0  \n",
       "2021-02-28 20:00:00                                  270.0  \n",
       "2021-02-28 21:00:00                                  270.0  \n",
       "2021-02-28 22:00:00                                  280.0  \n",
       "2021-02-28 23:00:00                                  280.0  \n",
       "\n",
       "[1544 rows x 5 columns]"
      ]
     },
     "execution_count": 17,
     "metadata": {},
     "output_type": "execute_result"
    }
   ],
   "source": [
    "data = time_match_dataset(obs, analysis, right_prefix='analysis')\n",
    "\n",
    "lower_threshold = calculate_lower_threshold_speed(forecast['10_meter_wind_speed_of_gust_standard_deviation'], 50, criteria_units='mph')\n",
    "print(pint.Quantity(lower_threshold, units('m s**-1')).to(units('mph')))\n",
    "data = data[data['10_meter_wind_speed_of_gust_obs'] >= lower_threshold]\n",
    "data"
   ]
  },
  {
   "cell_type": "markdown",
   "id": "static-cabin",
   "metadata": {},
   "source": [
    "## Break the data down by the ratio of observations to analysis"
   ]
  },
  {
   "cell_type": "code",
   "execution_count": 18,
   "id": "accessory-travel",
   "metadata": {},
   "outputs": [
    {
     "name": "stdout",
     "output_type": "stream",
     "text": [
      "analysis_ratio\n",
      "Analysis Over Estimates     0.052461\n",
      "Analysis Under Estimates    0.947539\n",
      "Name: analysis_ratio, dtype: float64\n"
     ]
    },
    {
     "data": {
      "image/png": "[encoded data removed]",
      "text/plain": [
       "<Figure size 432x288 with 1 Axes>"
      ]
     },
     "metadata": {},
     "output_type": "display_data"
    }
   ],
   "source": [
    "data['analysis_ratio'] = 'Equal'\n",
    "ratio = data['10_meter_wind_speed_of_gust_obs'] / data['10_meter_wind_speed_of_gust_analysis']\n",
    "data.loc[ratio > 1, 'analysis_ratio'] = 'Analysis Under Estimates'\n",
    "data.loc[ratio < 1, 'analysis_ratio'] = 'Analysis Over Estimates'\n",
    "del ratio\n",
    "plot = sns.scatterplot(data=data, y='10_meter_wind_speed_of_gust_obs', x='10_meter_wind_speed_of_gust_analysis', hue='analysis_ratio')\n",
    "print(data.groupby(['analysis_ratio']).analysis_ratio.count()/data.analysis_ratio.count())"
   ]
  },
  {
   "cell_type": "markdown",
   "id": "quiet-honolulu",
   "metadata": {},
   "source": [
    "### Filter data where analysis under estimates\n",
    "Given that the analysis overwelmingly under-estimates the wind gust, only look those instances to produce as better regression"
   ]
  },
  {
   "cell_type": "code",
   "execution_count": 19,
   "id": "manual-marketplace",
   "metadata": {},
   "outputs": [
    {
     "data": {
      "text/html": [
       "<div>\n",
       "<style scoped>\n",
       "    .dataframe tbody tr th:only-of-type {\n",
       "        vertical-align: middle;\n",
       "    }\n",
       "\n",
       "    .dataframe tbody tr th {\n",
       "        vertical-align: top;\n",
       "    }\n",
       "\n",
       "    .dataframe thead th {\n",
       "        text-align: right;\n",
       "    }\n",
       "</style>\n",
       "<table border=\"1\" class=\"dataframe\">\n",
       "  <thead>\n",
       "    <tr style=\"text-align: right;\">\n",
       "      <th></th>\n",
       "      <th>slope</th>\n",
       "      <th>intercept</th>\n",
       "      <th>rvalue</th>\n",
       "      <th>pvalue</th>\n",
       "      <th>stderr</th>\n",
       "    </tr>\n",
       "  </thead>\n",
       "  <tbody>\n",
       "    <tr>\n",
       "      <th>MTELV</th>\n",
       "      <td>0.893859</td>\n",
       "      <td>6.923222</td>\n",
       "      <td>0.703279</td>\n",
       "      <td>1.471382e-186</td>\n",
       "      <td>0.025618</td>\n",
       "    </tr>\n",
       "    <tr>\n",
       "      <th>LVM</th>\n",
       "      <td>1.022861</td>\n",
       "      <td>4.676071</td>\n",
       "      <td>0.796859</td>\n",
       "      <td>0.000000e+00</td>\n",
       "      <td>0.018798</td>\n",
       "    </tr>\n",
       "    <tr>\n",
       "      <th>MTLWM</th>\n",
       "      <td>0.894840</td>\n",
       "      <td>7.826072</td>\n",
       "      <td>0.683627</td>\n",
       "      <td>2.977567e-138</td>\n",
       "      <td>0.030286</td>\n",
       "    </tr>\n",
       "    <tr>\n",
       "      <th>6S0</th>\n",
       "      <td>0.796994</td>\n",
       "      <td>8.129035</td>\n",
       "      <td>0.685876</td>\n",
       "      <td>3.758471e-201</td>\n",
       "      <td>0.022276</td>\n",
       "    </tr>\n",
       "    <tr>\n",
       "      <th>1KM</th>\n",
       "      <td>0.715568</td>\n",
       "      <td>8.136230</td>\n",
       "      <td>0.735165</td>\n",
       "      <td>1.881445e-130</td>\n",
       "      <td>0.023934</td>\n",
       "    </tr>\n",
       "    <tr>\n",
       "      <th>UMHM</th>\n",
       "      <td>0.695138</td>\n",
       "      <td>9.328585</td>\n",
       "      <td>0.715288</td>\n",
       "      <td>1.233256e-229</td>\n",
       "      <td>0.017768</td>\n",
       "    </tr>\n",
       "  </tbody>\n",
       "</table>\n",
       "</div>"
      ],
      "text/plain": [
       "          slope  intercept    rvalue         pvalue    stderr\n",
       "MTELV  0.893859   6.923222  0.703279  1.471382e-186  0.025618\n",
       "LVM    1.022861   4.676071  0.796859   0.000000e+00  0.018798\n",
       "MTLWM  0.894840   7.826072  0.683627  2.977567e-138  0.030286\n",
       "6S0    0.796994   8.129035  0.685876  3.758471e-201  0.022276\n",
       "1KM    0.715568   8.136230  0.735165  1.881445e-130  0.023934\n",
       "UMHM   0.695138   9.328585  0.715288  1.233256e-229  0.017768"
      ]
     },
     "execution_count": 19,
     "metadata": {},
     "output_type": "execute_result"
    }
   ],
   "source": [
    "under_estimate = data[data.analysis_ratio == 'Analysis Under Estimates']\n",
    "if os.path.exists('../data/derived/regressions.json'):\n",
    "    regression = pd.read_json('../data/derived/regressions.json', orient='table')\n",
    "    regression = pd.concat([regression, pd.DataFrame(dict(zip(['slope', 'intercept', 'rvalue', 'pvalue', 'stderr'], list(stats.linregress(under_estimate['10_meter_wind_speed_of_gust_analysis'], under_estimate['10_meter_wind_speed_of_gust_obs'])))), index=[siteID])]).reset_index().drop_duplicates(subset=['index'], keep='last').set_index('index')\n",
    "    regression.index.name = None\n",
    "else:\n",
    "    regression = pd.DataFrame(dict(zip(['slope', 'intercept', 'rvalue', 'pvalue', 'stderr'], list(stats.linregress(under_estimate['10_meter_wind_speed_of_gust_analysis'], under_estimate['10_meter_wind_speed_of_gust_obs'])))), index=[siteID])\n",
    "regression.to_json('../data/derived/regressions.json', orient='table')\n",
    "regression"
   ]
  },
  {
   "cell_type": "markdown",
   "id": "female-biography",
   "metadata": {},
   "source": [
    "### Plot Regression with data"
   ]
  },
  {
   "cell_type": "code",
   "execution_count": 20,
   "id": "blocked-faculty",
   "metadata": {},
   "outputs": [
    {
     "data": {
      "image/png": "[encoded data removed]",
      "text/plain": [
       "<Figure size 432x288 with 1 Axes>"
      ]
     },
     "metadata": {},
     "output_type": "display_data"
    }
   ],
   "source": [
    "plot = sns.regplot(data=under_estimate, y='10_meter_wind_speed_of_gust_obs', x='10_meter_wind_speed_of_gust_analysis',marker='+', line_kws={'label':'y={0:.3f}x+{1:.3f} ({2:.4f})'.format(regression.slope[siteID], regression.intercept[siteID], regression.rvalue[0])})\n",
    "legend = plot.legend()"
   ]
  }
 ],
 "metadata": {
  "kernelspec": {
   "display_name": "Python 3",
   "language": "python",
   "name": "python3"
  },
  "language_info": {
   "codemirror_mode": {
    "name": "ipython",
    "version": 3
   },
   "file_extension": ".py",
   "mimetype": "text/x-python",
   "name": "python",
   "nbconvert_exporter": "python",
   "pygments_lexer": "ipython3",
   "version": "3.8.6"
  }
 },
 "nbformat": 4,
 "nbformat_minor": 5
}
