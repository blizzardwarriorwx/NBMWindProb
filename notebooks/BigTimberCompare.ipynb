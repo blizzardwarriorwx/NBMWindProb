{
 "cells": [
  {
   "cell_type": "markdown",
   "id": "meaningful-monitoring",
   "metadata": {},
   "source": [
    "# Big Timber (6S0) ProbGust Comparision\n",
    "\n",
    "Compare ProbGust and previous guidance.\n",
    "\n",
    "## Import modules"
   ]
  },
  {
   "cell_type": "code",
   "execution_count": 1,
   "id": "fossil-hypothetical",
   "metadata": {},
   "outputs": [],
   "source": [
    "import xarray            as xr\n",
    "import pandas            as pd\n",
    "import numpy             as np\n",
    "import matplotlib.pyplot as plt\n",
    "import matplotlib.dates  as mdates\n",
    "import seaborn           as sns\n",
    "import scipy.stats       as stats\n",
    "import pint"
   ]
  },
  {
   "cell_type": "markdown",
   "id": "portable-yorkshire",
   "metadata": {},
   "source": [
    "## Set some contants"
   ]
  },
  {
   "cell_type": "code",
   "execution_count": 2,
   "id": "clinical-astrology",
   "metadata": {},
   "outputs": [],
   "source": [
    "sns.set_theme(color_codes=True, style=\"darkgrid\")\n",
    "palette = ['yellow', 'orange', 'red', 'black']\n",
    "units = pint.UnitRegistry()\n",
    "hour = pd.to_timedelta('1H')\n",
    "normal_distribution = stats.norm()"
   ]
  },
  {
   "cell_type": "markdown",
   "id": "linear-bunny",
   "metadata": {},
   "source": [
    "## Define utility functions"
   ]
  },
  {
   "cell_type": "markdown",
   "id": "pointed-african",
   "metadata": {},
   "source": [
    "### load_forecast_grid:\n",
    "Load time series from a gridded source converting units and filtering fields. Also creates the valid time field from reference time and time since reference. Can tranform column names if needed, ie for NBM 1 hour forecast."
   ]
  },
  {
   "cell_type": "code",
   "execution_count": 3,
   "id": "successful-easter",
   "metadata": {},
   "outputs": [],
   "source": [
    "def load_forecast_grid(filename, filter_fields=None, transform_columns=None):\n",
    "    data = xr.open_dataset(filename).to_dataframe()\n",
    "    if transform_columns is not None:\n",
    "        data.columns = data.columns.to_series().apply(transform_columns)\n",
    "    data['valid_time'] = data.reference_time + data.time_since_reference * hour\n",
    "    data = data.set_index(['reference_time', 'valid_time']).sort_index()\n",
    "    if filter_fields is None:\n",
    "        filter_fields = data.columns\n",
    "    return data[filter_fields]"
   ]
  },
  {
   "cell_type": "markdown",
   "id": "veterinary-malaysia",
   "metadata": {},
   "source": [
    "### convert_units\n",
    "Convert units of columns in a DataFrame"
   ]
  },
  {
   "cell_type": "code",
   "execution_count": 4,
   "id": "medium-leonard",
   "metadata": {},
   "outputs": [],
   "source": [
    "def convert_units(data, columns):\n",
    "    for col in columns.keys():\n",
    "        data[col] = pint.Quantity(data[col].to_numpy(), units(columns[col][0])).to(units(columns[col][1])).magnitude"
   ]
  },
  {
   "cell_type": "markdown",
   "id": "congressional-arnold",
   "metadata": {},
   "source": [
    "### filter_missing_data\n",
    "Filter rows that are filled with NaNs, ignoring time fields by default"
   ]
  },
  {
   "cell_type": "code",
   "execution_count": 5,
   "id": "matched-anchor",
   "metadata": {},
   "outputs": [],
   "source": [
    "def filter_missing_data(data):\n",
    "    return data.dropna(how='all')"
   ]
  },
  {
   "cell_type": "markdown",
   "id": "hundred-stress",
   "metadata": {},
   "source": [
    "### load_observations\n",
    "Load time series from observation source, converting units and filtering fields."
   ]
  },
  {
   "cell_type": "code",
   "execution_count": 6,
   "id": "neutral-background",
   "metadata": {},
   "outputs": [],
   "source": [
    "def load_observations(filename, filter_fields=None):\n",
    "    data = xr.open_dataset(filename).to_dataframe().set_index('time').sort_index()\n",
    "    if filter_fields is not None:\n",
    "        data = data.loc[:, filter_fields]\n",
    "    return data"
   ]
  },
  {
   "cell_type": "markdown",
   "id": "loving-knight",
   "metadata": {},
   "source": [
    "### replace_missing_gust_with_wind\n",
    "Since that gusts for AWOS/ASOS are not reported unless the gusts is sufficiently higher than sustained wind, replace missing gust values with the sustained to compare to RTMA / NBM that always has a gust value."
   ]
  },
  {
   "cell_type": "code",
   "execution_count": 7,
   "id": "upset-display",
   "metadata": {},
   "outputs": [],
   "source": [
    "def replace_missing_gust_with_wind(data, wind_field, wind_gust_field):\n",
    "    index = np.isnan(data[wind_gust_field])\n",
    "    data.loc[index, wind_gust_field] = data[wind_field][index]"
   ]
  },
  {
   "cell_type": "markdown",
   "id": "editorial-journal",
   "metadata": {},
   "source": [
    "### get_period_maximum\n",
    "Find the maximum values when rounding the time fields to nearest time period"
   ]
  },
  {
   "cell_type": "code",
   "execution_count": 8,
   "id": "perfect-scope",
   "metadata": {},
   "outputs": [],
   "source": [
    "def get_period_maximum(data, period='1H'):\n",
    "    return data.groupby(data.index.round(period)).max()"
   ]
  },
  {
   "cell_type": "markdown",
   "id": "flush-hampshire",
   "metadata": {},
   "source": [
    "### generate_prob_gust\n",
    "Calculate the Z-Score given the bias-corrected NBM mean wind gust and standard deviation"
   ]
  },
  {
   "cell_type": "code",
   "execution_count": 9,
   "id": "respected-attendance",
   "metadata": {},
   "outputs": [],
   "source": [
    "def generate_prob_gust(data, threshold, unit='mph', tollerance = 0.6, mean='10_meter_wind_speed_of_gust_mean', standard_deviation='10_meter_wind_speed_of_gust_standard_deviation'):\n",
    "    threshold = pint.Quantity(threshold - tollerance, units(unit)).to(units('m s**-1')).magnitude\n",
    "    z_score = pd.Series((threshold - data[mean]) / data[standard_deviation], index=data.index)\n",
    "    return pd.Series(np.round((100 * normal_distribution.sf(z_score))), index=data.index)\n"
   ]
  },
  {
   "cell_type": "markdown",
   "id": "unavailable-trust",
   "metadata": {},
   "source": [
    "### expand_timelag\n",
    "Duplicate a dataframe while adjusting a datetime field by an interval to create a time-lagged dataset"
   ]
  },
  {
   "cell_type": "code",
   "execution_count": 10,
   "id": "developmental-touch",
   "metadata": {},
   "outputs": [],
   "source": [
    "def expand_timelag(df, interval, field='reference_time'):\n",
    "    df2 = df.copy(deep=True).reset_index()\n",
    "    df2[field] += pd.to_timedelta(interval)\n",
    "    return df2"
   ]
  },
  {
   "cell_type": "markdown",
   "id": "collective-burden",
   "metadata": {},
   "source": [
    "### correction\n",
    "Apply operational correction to the time-lagged NAM proability for 6S0"
   ]
  },
  {
   "cell_type": "code",
   "execution_count": 11,
   "id": "rubber-progress",
   "metadata": {},
   "outputs": [],
   "source": [
    "def correction(criteria, value):\n",
    "    new_value = value\n",
    "    if criteria == 50:\n",
    "        if value < 6:\n",
    "            new_value = 0\n",
    "        elif (6 <= value) and (value < 10):\n",
    "            new_value = 15\n",
    "        elif (10 <= value) and (value < 20):\n",
    "            new_value = 25\n",
    "        elif (20 <= value) and (value < 40):\n",
    "            new_value = 60\n",
    "        else:\n",
    "            new_value = 90\n",
    "    elif criteria == 58:\n",
    "        if value < 10:\n",
    "            new_value = 0\n",
    "        elif (10 <= value) and (value < 20):\n",
    "            new_value = 5\n",
    "        elif (20 <= value) and (value < 40):\n",
    "            new_value = 25\n",
    "        else:\n",
    "            new_value = 55\n",
    "    elif criteria == 70:\n",
    "        if value < 10:\n",
    "            new_value = 0\n",
    "        elif (10 <= value) and (value < 20):\n",
    "            new_value = 0\n",
    "        elif (20 <= value) and (value < 40):\n",
    "            new_value = 2\n",
    "        else:\n",
    "            new_value = 10\n",
    "    return new_value"
   ]
  },
  {
   "cell_type": "markdown",
   "id": "split-equation",
   "metadata": {},
   "source": [
    "### load_operational_probability\n",
    "Load the operational probability for the time-lagged wind guidance"
   ]
  },
  {
   "cell_type": "code",
   "execution_count": 12,
   "id": "small-playlist",
   "metadata": {},
   "outputs": [],
   "source": [
    "def load_operational_probability():\n",
    "    previous_data = xr.open_dataset('../data/database/K6S0model.nc').to_dataframe()\n",
    "    previous_data = previous_data.fillna(0)\n",
    "    previous_data = previous_data[(previous_data.model == 'NAM') & (previous_data.valid >= pd.to_datetime('2020-09-30T18:00:00Z').to_datetime64())][['run', 'valid', 'WrnProb']].sort_values(['valid', 'run']).reset_index(drop=True)\n",
    "    previous_data.columns = ['reference_time', 'valid_time', 'OriginalWarningProb_58']\n",
    "    previous_data = previous_data.set_index(['reference_time', 'valid_time'])\n",
    "    previous_data['TimeLaggedWarningProb_58'] = pd.concat([expand_timelag(previous_data, '{0:d}H'.format(i*6)) for i in range(12)]).groupby(['reference_time', 'valid_time']).mean()['OriginalWarningProb_58']\n",
    "\n",
    "    for threshold in [50, 58, 70]:\n",
    "        previous_data['Operational_{0:d}'.format(threshold)] = previous_data['TimeLaggedWarningProb_58'].apply(lambda a: correction(threshold, a))\n",
    "\n",
    "    return previous_data[[x for x in previous_data.columns if x.find('Operational_') > -1]]"
   ]
  },
  {
   "cell_type": "markdown",
   "id": "following-poker",
   "metadata": {},
   "source": [
    "### load_nbm_prob_gust\n",
    "apply bias-correction and calculate ProbGust"
   ]
  },
  {
   "cell_type": "code",
   "execution_count": 13,
   "id": "recovered-royal",
   "metadata": {},
   "outputs": [],
   "source": [
    "def load_nbm_prob_gust(siteID, regression, thresholds, mean='10_meter_wind_speed_of_gust_mean', spread='10_meter_wind_speed_of_gust_standard_deviation'):\n",
    "    nbm_data = load_forecast_grid('../data/nbm/NBM_{0:s}.nc'.format(siteID), filter_fields=[mean, spread])\n",
    "    nbm_data = filter_missing_data(nbm_data)\n",
    "    nbm_data[mean] = regression.slope[siteID] * nbm_data[mean] + regression.intercept[siteID]\n",
    "    for threshold in thresholds:\n",
    "        nbm_data['ProbGust_{0:d}'.format(threshold)] = generate_prob_gust(nbm_data, threshold)\n",
    "    return nbm_data[[col for col in nbm_data.columns if col.find('ProbGust') > -1]]"
   ]
  },
  {
   "cell_type": "markdown",
   "id": "wooden-bloom",
   "metadata": {},
   "source": [
    "### load_wind_gust_observation\n",
    "load the wind gust, optionally filling with wind speed if gust is missing and applying a correction"
   ]
  },
  {
   "cell_type": "code",
   "execution_count": 14,
   "id": "impossible-anxiety",
   "metadata": {},
   "outputs": [],
   "source": [
    "def load_wind_gust_observation(siteID, wind_speed='10_meter_wind_speed', wind_gust='10_meter_wind_speed_of_gust', correction=None):\n",
    "    obs_data = load_observations('../data/observations/{0:s}.nc'.format(siteID), \n",
    "                                 filter_fields=[x for x in [wind_speed, wind_gust] if x is not None])\n",
    "    if wind_speed is not None:\n",
    "        replace_missing_gust_with_wind(obs_data, wind_speed, wind_gust)\n",
    "    obs_data = obs_data[[wind_gust]].reset_index().set_index('time')\n",
    "    if correction is not None:\n",
    "        obs_data = correction(obs_data)\n",
    "    return filter_missing_data(obs_data)"
   ]
  },
  {
   "cell_type": "markdown",
   "id": "minor-rally",
   "metadata": {},
   "source": [
    "## Read Bias-Correction parameters"
   ]
  },
  {
   "cell_type": "code",
   "execution_count": 15,
   "id": "israeli-sunday",
   "metadata": {
    "tags": []
   },
   "outputs": [
    {
     "data": {
      "text/html": [
       "<div>\n",
       "<style scoped>\n",
       "    .dataframe tbody tr th:only-of-type {\n",
       "        vertical-align: middle;\n",
       "    }\n",
       "\n",
       "    .dataframe tbody tr th {\n",
       "        vertical-align: top;\n",
       "    }\n",
       "\n",
       "    .dataframe thead th {\n",
       "        text-align: right;\n",
       "    }\n",
       "</style>\n",
       "<table border=\"1\" class=\"dataframe\">\n",
       "  <thead>\n",
       "    <tr style=\"text-align: right;\">\n",
       "      <th></th>\n",
       "      <th>slope</th>\n",
       "      <th>intercept</th>\n",
       "      <th>rvalue</th>\n",
       "      <th>pvalue</th>\n",
       "      <th>stderr</th>\n",
       "    </tr>\n",
       "  </thead>\n",
       "  <tbody>\n",
       "    <tr>\n",
       "      <th>MTELV</th>\n",
       "      <td>0.893859</td>\n",
       "      <td>6.923222</td>\n",
       "      <td>0.703279</td>\n",
       "      <td>1.471382e-186</td>\n",
       "      <td>0.025618</td>\n",
       "    </tr>\n",
       "    <tr>\n",
       "      <th>LVM</th>\n",
       "      <td>1.022861</td>\n",
       "      <td>4.676071</td>\n",
       "      <td>0.796859</td>\n",
       "      <td>0.000000e+00</td>\n",
       "      <td>0.018798</td>\n",
       "    </tr>\n",
       "    <tr>\n",
       "      <th>MTLWM</th>\n",
       "      <td>0.894840</td>\n",
       "      <td>7.826072</td>\n",
       "      <td>0.683627</td>\n",
       "      <td>2.977567e-138</td>\n",
       "      <td>0.030286</td>\n",
       "    </tr>\n",
       "    <tr>\n",
       "      <th>6S0</th>\n",
       "      <td>0.796994</td>\n",
       "      <td>8.129035</td>\n",
       "      <td>0.685876</td>\n",
       "      <td>3.758471e-201</td>\n",
       "      <td>0.022276</td>\n",
       "    </tr>\n",
       "    <tr>\n",
       "      <th>1KM</th>\n",
       "      <td>0.715568</td>\n",
       "      <td>8.136230</td>\n",
       "      <td>0.735165</td>\n",
       "      <td>1.881445e-130</td>\n",
       "      <td>0.023934</td>\n",
       "    </tr>\n",
       "    <tr>\n",
       "      <th>UMHM</th>\n",
       "      <td>0.695138</td>\n",
       "      <td>9.328585</td>\n",
       "      <td>0.715288</td>\n",
       "      <td>1.233256e-229</td>\n",
       "      <td>0.017768</td>\n",
       "    </tr>\n",
       "  </tbody>\n",
       "</table>\n",
       "</div>"
      ],
      "text/plain": [
       "          slope  intercept    rvalue         pvalue    stderr\n",
       "MTELV  0.893859   6.923222  0.703279  1.471382e-186  0.025618\n",
       "LVM    1.022861   4.676071  0.796859   0.000000e+00  0.018798\n",
       "MTLWM  0.894840   7.826072  0.683627  2.977567e-138  0.030286\n",
       "6S0    0.796994   8.129035  0.685876  3.758471e-201  0.022276\n",
       "1KM    0.715568   8.136230  0.735165  1.881445e-130  0.023934\n",
       "UMHM   0.695138   9.328585  0.715288  1.233256e-229  0.017768"
      ]
     },
     "execution_count": 15,
     "metadata": {},
     "output_type": "execute_result"
    }
   ],
   "source": [
    "regression = pd.read_json('../data/derived/regressions.json', orient='table')\n",
    "regression"
   ]
  },
  {
   "cell_type": "markdown",
   "id": "legitimate-jersey",
   "metadata": {},
   "source": [
    "## Load Observaions\n",
    "Load hourly max wind gust from 6S0"
   ]
  },
  {
   "cell_type": "code",
   "execution_count": 16,
   "id": "stupid-melbourne",
   "metadata": {},
   "outputs": [
    {
     "data": {
      "text/html": [
       "<div>\n",
       "<style scoped>\n",
       "    .dataframe tbody tr th:only-of-type {\n",
       "        vertical-align: middle;\n",
       "    }\n",
       "\n",
       "    .dataframe tbody tr th {\n",
       "        vertical-align: top;\n",
       "    }\n",
       "\n",
       "    .dataframe thead th {\n",
       "        text-align: right;\n",
       "    }\n",
       "</style>\n",
       "<table border=\"1\" class=\"dataframe\">\n",
       "  <thead>\n",
       "    <tr style=\"text-align: right;\">\n",
       "      <th></th>\n",
       "      <th>Verification_Gust</th>\n",
       "    </tr>\n",
       "    <tr>\n",
       "      <th>valid_time</th>\n",
       "      <th></th>\n",
       "    </tr>\n",
       "  </thead>\n",
       "  <tbody>\n",
       "    <tr>\n",
       "      <th>2018-11-06 14:00:00</th>\n",
       "      <td>6.904677</td>\n",
       "    </tr>\n",
       "    <tr>\n",
       "      <th>2018-11-06 15:00:00</th>\n",
       "      <td>9.206236</td>\n",
       "    </tr>\n",
       "    <tr>\n",
       "      <th>2018-11-06 16:00:00</th>\n",
       "      <td>9.206236</td>\n",
       "    </tr>\n",
       "    <tr>\n",
       "      <th>2018-11-06 17:00:00</th>\n",
       "      <td>8.055456</td>\n",
       "    </tr>\n",
       "    <tr>\n",
       "      <th>2018-11-06 18:00:00</th>\n",
       "      <td>8.055456</td>\n",
       "    </tr>\n",
       "    <tr>\n",
       "      <th>...</th>\n",
       "      <td>...</td>\n",
       "    </tr>\n",
       "    <tr>\n",
       "      <th>2021-03-02 20:00:00</th>\n",
       "      <td>36.824942</td>\n",
       "    </tr>\n",
       "    <tr>\n",
       "      <th>2021-03-02 21:00:00</th>\n",
       "      <td>31.071045</td>\n",
       "    </tr>\n",
       "    <tr>\n",
       "      <th>2021-03-02 22:00:00</th>\n",
       "      <td>32.221825</td>\n",
       "    </tr>\n",
       "    <tr>\n",
       "      <th>2021-03-02 23:00:00</th>\n",
       "      <td>31.071045</td>\n",
       "    </tr>\n",
       "    <tr>\n",
       "      <th>2021-03-03 00:00:00</th>\n",
       "      <td>28.769486</td>\n",
       "    </tr>\n",
       "  </tbody>\n",
       "</table>\n",
       "<p>20195 rows × 1 columns</p>\n",
       "</div>"
      ],
      "text/plain": [
       "                     Verification_Gust\n",
       "valid_time                            \n",
       "2018-11-06 14:00:00           6.904677\n",
       "2018-11-06 15:00:00           9.206236\n",
       "2018-11-06 16:00:00           9.206236\n",
       "2018-11-06 17:00:00           8.055456\n",
       "2018-11-06 18:00:00           8.055456\n",
       "...                                ...\n",
       "2021-03-02 20:00:00          36.824942\n",
       "2021-03-02 21:00:00          31.071045\n",
       "2021-03-02 22:00:00          32.221825\n",
       "2021-03-02 23:00:00          31.071045\n",
       "2021-03-03 00:00:00          28.769486\n",
       "\n",
       "[20195 rows x 1 columns]"
      ]
     },
     "execution_count": 16,
     "metadata": {},
     "output_type": "execute_result"
    }
   ],
   "source": [
    "obs = get_period_maximum(pd.concat([ load_wind_gust_observation(x) for x in ['6S0']]).sort_values(['time']).groupby(['time']).max(), period='1H').reset_index()\n",
    "obs.columns = ['valid_time', 'Verification_Gust']\n",
    "obs = obs.set_index('valid_time')\n",
    "convert_units(obs, dict([(x, ('m/s','mph')) for x in obs.columns]))\n",
    "obs"
   ]
  },
  {
   "cell_type": "markdown",
   "id": "renewable-advisory",
   "metadata": {},
   "source": [
    "# Load NBM forecast\n",
    "Calculate the hourly maximum ProbGust for each threshold from 6S0"
   ]
  },
  {
   "cell_type": "code",
   "execution_count": 17,
   "id": "regulation-freeze",
   "metadata": {},
   "outputs": [
    {
     "data": {
      "text/html": [
       "<div>\n",
       "<style scoped>\n",
       "    .dataframe tbody tr th:only-of-type {\n",
       "        vertical-align: middle;\n",
       "    }\n",
       "\n",
       "    .dataframe tbody tr th {\n",
       "        vertical-align: top;\n",
       "    }\n",
       "\n",
       "    .dataframe thead th {\n",
       "        text-align: right;\n",
       "    }\n",
       "</style>\n",
       "<table border=\"1\" class=\"dataframe\">\n",
       "  <thead>\n",
       "    <tr style=\"text-align: right;\">\n",
       "      <th></th>\n",
       "      <th></th>\n",
       "      <th>ProbGust_50</th>\n",
       "      <th>ProbGust_58</th>\n",
       "      <th>ProbGust_70</th>\n",
       "    </tr>\n",
       "    <tr>\n",
       "      <th>reference_time</th>\n",
       "      <th>valid_time</th>\n",
       "      <th></th>\n",
       "      <th></th>\n",
       "      <th></th>\n",
       "    </tr>\n",
       "  </thead>\n",
       "  <tbody>\n",
       "    <tr>\n",
       "      <th rowspan=\"5\" valign=\"top\">2020-10-01 00:00:00</th>\n",
       "      <th>2020-10-01 10:00:00</th>\n",
       "      <td>0.0</td>\n",
       "      <td>0.0</td>\n",
       "      <td>0.0</td>\n",
       "    </tr>\n",
       "    <tr>\n",
       "      <th>2020-10-01 11:00:00</th>\n",
       "      <td>0.0</td>\n",
       "      <td>0.0</td>\n",
       "      <td>0.0</td>\n",
       "    </tr>\n",
       "    <tr>\n",
       "      <th>2020-10-01 12:00:00</th>\n",
       "      <td>0.0</td>\n",
       "      <td>0.0</td>\n",
       "      <td>0.0</td>\n",
       "    </tr>\n",
       "    <tr>\n",
       "      <th>2020-10-01 13:00:00</th>\n",
       "      <td>0.0</td>\n",
       "      <td>0.0</td>\n",
       "      <td>0.0</td>\n",
       "    </tr>\n",
       "    <tr>\n",
       "      <th>2020-10-01 14:00:00</th>\n",
       "      <td>0.0</td>\n",
       "      <td>0.0</td>\n",
       "      <td>0.0</td>\n",
       "    </tr>\n",
       "    <tr>\n",
       "      <th>...</th>\n",
       "      <th>...</th>\n",
       "      <td>...</td>\n",
       "      <td>...</td>\n",
       "      <td>...</td>\n",
       "    </tr>\n",
       "    <tr>\n",
       "      <th rowspan=\"5\" valign=\"top\">2021-02-28 12:00:00</th>\n",
       "      <th>2021-03-07 09:00:00</th>\n",
       "      <td>0.0</td>\n",
       "      <td>0.0</td>\n",
       "      <td>0.0</td>\n",
       "    </tr>\n",
       "    <tr>\n",
       "      <th>2021-03-07 12:00:00</th>\n",
       "      <td>0.0</td>\n",
       "      <td>0.0</td>\n",
       "      <td>0.0</td>\n",
       "    </tr>\n",
       "    <tr>\n",
       "      <th>2021-03-07 15:00:00</th>\n",
       "      <td>0.0</td>\n",
       "      <td>0.0</td>\n",
       "      <td>0.0</td>\n",
       "    </tr>\n",
       "    <tr>\n",
       "      <th>2021-03-07 18:00:00</th>\n",
       "      <td>1.0</td>\n",
       "      <td>0.0</td>\n",
       "      <td>0.0</td>\n",
       "    </tr>\n",
       "    <tr>\n",
       "      <th>2021-03-07 21:00:00</th>\n",
       "      <td>1.0</td>\n",
       "      <td>0.0</td>\n",
       "      <td>0.0</td>\n",
       "    </tr>\n",
       "  </tbody>\n",
       "</table>\n",
       "<p>23277 rows × 3 columns</p>\n",
       "</div>"
      ],
      "text/plain": [
       "                                         ProbGust_50  ProbGust_58  ProbGust_70\n",
       "reference_time      valid_time                                                \n",
       "2020-10-01 00:00:00 2020-10-01 10:00:00          0.0          0.0          0.0\n",
       "                    2020-10-01 11:00:00          0.0          0.0          0.0\n",
       "                    2020-10-01 12:00:00          0.0          0.0          0.0\n",
       "                    2020-10-01 13:00:00          0.0          0.0          0.0\n",
       "                    2020-10-01 14:00:00          0.0          0.0          0.0\n",
       "...                                              ...          ...          ...\n",
       "2021-02-28 12:00:00 2021-03-07 09:00:00          0.0          0.0          0.0\n",
       "                    2021-03-07 12:00:00          0.0          0.0          0.0\n",
       "                    2021-03-07 15:00:00          0.0          0.0          0.0\n",
       "                    2021-03-07 18:00:00          1.0          0.0          0.0\n",
       "                    2021-03-07 21:00:00          1.0          0.0          0.0\n",
       "\n",
       "[23277 rows x 3 columns]"
      ]
     },
     "execution_count": 17,
     "metadata": {},
     "output_type": "execute_result"
    }
   ],
   "source": [
    "nbm = pd.concat([load_nbm_prob_gust(x, regression, [50, 58, 70]).reset_index() for x in ['6S0']]).groupby(['reference_time', 'valid_time']).max().reset_index()\n",
    "nbm.reference_time -= 9*hour\n",
    "nbm = nbm.set_index(['reference_time', 'valid_time']).sort_index()\n",
    "\n",
    "nbm"
   ]
  },
  {
   "cell_type": "markdown",
   "id": "fantastic-collectible",
   "metadata": {},
   "source": [
    "## Time-match and Pivot Observations, NBM, and Operational Guidance"
   ]
  },
  {
   "cell_type": "code",
   "execution_count": 18,
   "id": "coated-deadline",
   "metadata": {},
   "outputs": [
    {
     "data": {
      "text/html": [
       "<div>\n",
       "<style scoped>\n",
       "    .dataframe tbody tr th:only-of-type {\n",
       "        vertical-align: middle;\n",
       "    }\n",
       "\n",
       "    .dataframe tbody tr th {\n",
       "        vertical-align: top;\n",
       "    }\n",
       "\n",
       "    .dataframe thead th {\n",
       "        text-align: right;\n",
       "    }\n",
       "</style>\n",
       "<table border=\"1\" class=\"dataframe\">\n",
       "  <thead>\n",
       "    <tr style=\"text-align: right;\">\n",
       "      <th></th>\n",
       "      <th></th>\n",
       "      <th>Model</th>\n",
       "      <th>Probability</th>\n",
       "    </tr>\n",
       "    <tr>\n",
       "      <th>reference_time</th>\n",
       "      <th>valid_time</th>\n",
       "      <th></th>\n",
       "      <th></th>\n",
       "    </tr>\n",
       "  </thead>\n",
       "  <tbody>\n",
       "    <tr>\n",
       "      <th rowspan=\"5\" valign=\"top\">2020-10-01 00:00:00</th>\n",
       "      <th>2020-10-01 10:00:00</th>\n",
       "      <td>ProbGust_50</td>\n",
       "      <td>0.0</td>\n",
       "    </tr>\n",
       "    <tr>\n",
       "      <th>2020-10-01 11:00:00</th>\n",
       "      <td>ProbGust_50</td>\n",
       "      <td>0.0</td>\n",
       "    </tr>\n",
       "    <tr>\n",
       "      <th>2020-10-01 12:00:00</th>\n",
       "      <td>ProbGust_50</td>\n",
       "      <td>0.0</td>\n",
       "    </tr>\n",
       "    <tr>\n",
       "      <th>2020-10-01 13:00:00</th>\n",
       "      <td>ProbGust_50</td>\n",
       "      <td>0.0</td>\n",
       "    </tr>\n",
       "    <tr>\n",
       "      <th>2020-10-01 14:00:00</th>\n",
       "      <td>ProbGust_50</td>\n",
       "      <td>0.0</td>\n",
       "    </tr>\n",
       "    <tr>\n",
       "      <th>...</th>\n",
       "      <th>...</th>\n",
       "      <td>...</td>\n",
       "      <td>...</td>\n",
       "    </tr>\n",
       "    <tr>\n",
       "      <th rowspan=\"5\" valign=\"top\">2021-02-28 12:00:00</th>\n",
       "      <th>2021-03-07 09:00:00</th>\n",
       "      <td>Verification_70</td>\n",
       "      <td>70.0</td>\n",
       "    </tr>\n",
       "    <tr>\n",
       "      <th>2021-03-07 12:00:00</th>\n",
       "      <td>Verification_70</td>\n",
       "      <td>70.0</td>\n",
       "    </tr>\n",
       "    <tr>\n",
       "      <th>2021-03-07 15:00:00</th>\n",
       "      <td>Verification_70</td>\n",
       "      <td>70.0</td>\n",
       "    </tr>\n",
       "    <tr>\n",
       "      <th>2021-03-07 18:00:00</th>\n",
       "      <td>Verification_70</td>\n",
       "      <td>70.0</td>\n",
       "    </tr>\n",
       "    <tr>\n",
       "      <th>2021-03-07 21:00:00</th>\n",
       "      <td>Verification_70</td>\n",
       "      <td>70.0</td>\n",
       "    </tr>\n",
       "  </tbody>\n",
       "</table>\n",
       "<p>232770 rows × 2 columns</p>\n",
       "</div>"
      ],
      "text/plain": [
       "                                                   Model  Probability\n",
       "reference_time      valid_time                                       \n",
       "2020-10-01 00:00:00 2020-10-01 10:00:00      ProbGust_50          0.0\n",
       "                    2020-10-01 11:00:00      ProbGust_50          0.0\n",
       "                    2020-10-01 12:00:00      ProbGust_50          0.0\n",
       "                    2020-10-01 13:00:00      ProbGust_50          0.0\n",
       "                    2020-10-01 14:00:00      ProbGust_50          0.0\n",
       "...                                                  ...          ...\n",
       "2021-02-28 12:00:00 2021-03-07 09:00:00  Verification_70         70.0\n",
       "                    2021-03-07 12:00:00  Verification_70         70.0\n",
       "                    2021-03-07 15:00:00  Verification_70         70.0\n",
       "                    2021-03-07 18:00:00  Verification_70         70.0\n",
       "                    2021-03-07 21:00:00  Verification_70         70.0\n",
       "\n",
       "[232770 rows x 2 columns]"
      ]
     },
     "execution_count": 18,
     "metadata": {},
     "output_type": "execute_result"
    }
   ],
   "source": [
    "data = pd.merge(left=pd.merge(left=nbm, right=load_operational_probability(), left_index=True, right_index=True, how='left'), right=obs, left_index=True, right_index=True, how='outer')#.reset_index().melt(id_vars=['reference_time', 'valid_time'], var_name='Model', value_name='Probability').set_index(['reference_time', 'valid_time'])\n",
    "data[[x.replace('ProbGust', 'Verification') for x in data.columns if x.find('ProbGust_') > -1]] = [int(x.replace('ProbGust_', '')) for x in data.columns if x.find('ProbGust_') > -1]\n",
    "data = data.reset_index().melt(id_vars=['reference_time', 'valid_time'], var_name='Model', value_name='Probability').set_index(['reference_time', 'valid_time'])\n",
    "data"
   ]
  },
  {
   "cell_type": "markdown",
   "id": "defined-collector",
   "metadata": {},
   "source": [
    "## Plot Comparision Chart for an NBM Run"
   ]
  },
  {
   "cell_type": "code",
   "execution_count": 20,
   "id": "uniform-structure",
   "metadata": {},
   "outputs": [
    {
     "data": {
      "image/png": "[encoded data removed]",
      "text/plain": [
       "<Figure size 1507.6x1080 with 3 Axes>"
      ]
     },
     "metadata": {},
     "output_type": "display_data"
    }
   ],
   "source": [
    "start = pd.to_datetime('2021-01-02T00:00:00Z')\n",
    "end = start + pd.to_timedelta('3D')\n",
    "\n",
    "run = data[(data.index.get_level_values(0) == start.to_datetime64()) * (data.index.get_level_values(1) <= end.to_datetime64())].reset_index()[[x for x in list(data.index.names) + list(data.columns) if x != 'reference_time']].sort_values(['valid_time'])\n",
    "run = run.pivot(index='valid_time', columns='Model', values='Probability').resample('1H').max().reset_index().melt(id_vars=['valid_time'], var_name='Model', value_name='Probability')\n",
    "run['Threshold'] = run.Model.apply(lambda a:\">= {0:s}\".format(a.split('_')[1]) if a != 'Verification_Gust' else 'Gust')\n",
    "run.Model = run.Model.apply(lambda a:a.split('_')[0])\n",
    "run.columns = [x.replace('valid_time', 'Valid Time') for x in run.columns]\n",
    "\n",
    "g = sns.relplot(data=run, x='Valid Time', y='Probability', hue='Threshold', kind='line', row='Model', aspect=4, palette=palette)\n",
    "g.fig.subplots_adjust(top=.93)\n",
    "g.fig.suptitle(start.strftime('Operational vs. NBM\\nValid: %Y-%m-%d %HZ'))\n",
    "for model, ax in g.axes_dict.items():\n",
    "    ax.xaxis.set_major_formatter(mdates.DateFormatter('%m/%d\\n%HZ'))\n",
    "    ax.xaxis.set_major_locator(mdates.HourLocator(byhour=[0,3,6,9,12,15,18,21]))\n",
    "    if model == 'Verification':\n",
    "        ax.set(ylabel='Wind Gust (MPH)')\n",
    "g.savefig(start.strftime('output/events/BigTimber_%Y%m%d%H.png'))"
   ]
  },
  {
   "cell_type": "code",
   "execution_count": null,
   "id": "caroline-dealing",
   "metadata": {},
   "outputs": [],
   "source": []
  }
 ],
 "metadata": {
  "kernelspec": {
   "display_name": "Python 3",
   "language": "python",
   "name": "python3"
  },
  "language_info": {
   "codemirror_mode": {
    "name": "ipython",
    "version": 3
   },
   "file_extension": ".py",
   "mimetype": "text/x-python",
   "name": "python",
   "nbconvert_exporter": "python",
   "pygments_lexer": "ipython3",
   "version": "3.8.6"
  }
 },
 "nbformat": 4,
 "nbformat_minor": 5
}
