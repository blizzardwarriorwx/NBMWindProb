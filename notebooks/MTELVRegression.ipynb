{
 "cells": [
  {
   "cell_type": "markdown",
   "id": "choice-ivory",
   "metadata": {},
   "source": [
    "# Livingston (MTELV) Regression\n",
    "\n",
    "Compare the observations from the MT DOT East Livingston, MT RWIS (MT-ELV) \n",
    "with the RTMA or NBM 1hr forecast and comute a regression\n",
    "\n",
    "## Import modules"
   ]
  },
  {
   "cell_type": "code",
   "execution_count": 1,
   "id": "narrow-syndicate",
   "metadata": {},
   "outputs": [],
   "source": [
    "import xarray            as xr\n",
    "import pandas            as pd\n",
    "import numpy             as np\n",
    "import matplotlib.pyplot as plt\n",
    "import seaborn           as sns\n",
    "import scipy.stats       as stats\n",
    "import os.path \n",
    "import pint"
   ]
  },
  {
   "cell_type": "markdown",
   "id": "going-alloy",
   "metadata": {},
   "source": [
    "## Set some contants"
   ]
  },
  {
   "cell_type": "code",
   "execution_count": 2,
   "id": "retained-dance",
   "metadata": {},
   "outputs": [],
   "source": [
    "sns.set_theme(color_codes=True)\n",
    "units = pint.UnitRegistry()\n",
    "hour = pd.to_timedelta('1H')\n",
    "normal_distribution = stats.norm()"
   ]
  },
  {
   "cell_type": "markdown",
   "id": "satisfied-consistency",
   "metadata": {},
   "source": [
    "## Define utility functions"
   ]
  },
  {
   "cell_type": "markdown",
   "id": "uniform-understanding",
   "metadata": {},
   "source": [
    "### load_analysis_grid:\n",
    "Load time series from a gridded source converting units and filtering fields. Also creates the valid time field from reference time and time since reference. Can tranform column names if needed, ie for NBM 1 hour forecast."
   ]
  },
  {
   "cell_type": "code",
   "execution_count": 3,
   "id": "negative-origin",
   "metadata": {},
   "outputs": [],
   "source": [
    "def load_analysis_grid(filename, filter_fields=None, transform_columns=None):\n",
    "    data = xr.open_dataset(filename).to_dataframe()\n",
    "    if transform_columns is not None:\n",
    "        data.columns = data.columns.to_series().apply(transform_columns)\n",
    "    data = data.set_index(data.pop('reference_time') + data.pop('time_since_reference') * hour).sort_index()\n",
    "    if filter_fields is None:\n",
    "        filter_fields = data.columns\n",
    "    return data[filter_fields]"
   ]
  },
  {
   "cell_type": "markdown",
   "id": "foreign-harbor",
   "metadata": {},
   "source": [
    "### load_forecast_grid:\n",
    "Load time series from a gridded source converting units and filtering fields. Also creates the valid time field from reference time and time since reference. Can tranform column names if needed, ie for NBM 1 hour forecast."
   ]
  },
  {
   "cell_type": "code",
   "execution_count": 4,
   "id": "instrumental-ethnic",
   "metadata": {},
   "outputs": [],
   "source": [
    "def load_forecast_grid(filename, filter_fields=None, transform_columns=None):\n",
    "    data = xr.open_dataset(filename).to_dataframe()\n",
    "    if transform_columns is not None:\n",
    "        data.columns = data.columns.to_series().apply(transform_columns)\n",
    "    data['valid_time'] = data.reference_time + data.time_since_reference * hour\n",
    "    data = data.set_index(['reference_time', 'valid_time']).sort_index()\n",
    "    if filter_fields is None:\n",
    "        filter_fields = data.columns\n",
    "    return data[filter_fields]"
   ]
  },
  {
   "cell_type": "markdown",
   "id": "metric-rider",
   "metadata": {},
   "source": [
    "### filter_missing_data\n",
    "Filter rows that are filled with NaNs, ignoring time fields by default"
   ]
  },
  {
   "cell_type": "code",
   "execution_count": 5,
   "id": "loving-italic",
   "metadata": {},
   "outputs": [],
   "source": [
    "def filter_missing_data(data):\n",
    "    return data.dropna(how='all')"
   ]
  },
  {
   "cell_type": "markdown",
   "id": "played-beginning",
   "metadata": {},
   "source": [
    "### load_observations\n",
    "Load time series from observation source, converting units and filtering fields."
   ]
  },
  {
   "cell_type": "code",
   "execution_count": 6,
   "id": "substantial-wealth",
   "metadata": {},
   "outputs": [],
   "source": [
    "def load_observations(filename, filter_fields=None):\n",
    "    data = xr.open_dataset(filename).to_dataframe().set_index('time').sort_index()\n",
    "    if filter_fields is not None:\n",
    "        data = data.loc[:, filter_fields]\n",
    "    return data"
   ]
  },
  {
   "cell_type": "markdown",
   "id": "brave-visitor",
   "metadata": {},
   "source": [
    "### replace_missing_gust_with_wind\n",
    "Since that gusts for AWOS/ASOS are not reported unless the gusts is sufficiently higher than sustained wind, replace missing gust values with the sustained to compare to RTMA / NBM that always has a gust value."
   ]
  },
  {
   "cell_type": "code",
   "execution_count": 7,
   "id": "wrapped-testament",
   "metadata": {},
   "outputs": [],
   "source": [
    "def replace_missing_gust_with_wind(data, wind_field, wind_gust_field):\n",
    "    index = np.isnan(data[wind_gust_field])\n",
    "    data.loc[index, wind_gust_field] = data[wind_field][index]"
   ]
  },
  {
   "cell_type": "markdown",
   "id": "similar-kernel",
   "metadata": {},
   "source": [
    "### get_period_maximum\n",
    "Find the maximum values when rounding the time fields to nearest hour"
   ]
  },
  {
   "cell_type": "code",
   "execution_count": 8,
   "id": "offshore-volleyball",
   "metadata": {},
   "outputs": [],
   "source": [
    "def get_period_maximum(data, period='1H'):\n",
    "    return data.groupby(data.index.round(period)).max()"
   ]
  },
  {
   "cell_type": "markdown",
   "id": "complimentary-archives",
   "metadata": {},
   "source": [
    "### time_match_dataset\n",
    "Time-match dataset while prefixing the columns of each dataset"
   ]
  },
  {
   "cell_type": "code",
   "execution_count": 9,
   "id": "individual-soldier",
   "metadata": {},
   "outputs": [],
   "source": [
    "def time_match_dataset(left, right, left_prefix='obs', right_prefix='grid', left_time='time', right_time='valid_time'):\n",
    "    if left_prefix is None:\n",
    "        left_prefix = ''\n",
    "    else:\n",
    "        left_prefix = '_{0:s}'.format(left_prefix)\n",
    "    if right_prefix is None:\n",
    "        right_prefix = ''\n",
    "    else:\n",
    "        right_prefix = '_{0:s}'.format(right_prefix)\n",
    "    return pd.merge(left.add_suffix(left_prefix), right.add_suffix(right_prefix), how='inner', left_index=True, right_index=True).sort_index()"
   ]
  },
  {
   "cell_type": "markdown",
   "id": "under-setting",
   "metadata": {},
   "source": [
    "### convert_units\n",
    "Convert units of columns in a DataFrame"
   ]
  },
  {
   "cell_type": "code",
   "execution_count": 10,
   "id": "unnecessary-interim",
   "metadata": {},
   "outputs": [],
   "source": [
    "def convert_units(data, columns):\n",
    "    for col in columns.keys():\n",
    "        data[col] = pint.Quantity(data[col].to_numpy(), units(columns[col][0])).to(units(columns[col][1])).magnitude"
   ]
  },
  {
   "cell_type": "markdown",
   "id": "excessive-pencil",
   "metadata": {},
   "source": [
    "### calculate_lower_threshold_speed\n",
    "\n",
    "Calculate the lower end speed threshold for winds that are relevent to analysis given a criteria threshold and minimum probability"
   ]
  },
  {
   "cell_type": "code",
   "execution_count": 11,
   "id": "expected-understanding",
   "metadata": {},
   "outputs": [],
   "source": [
    "def calculate_lower_threshold_speed(sigma_data, criteria, criteria_units='mph', min_probability=0.005, sigma_threshold=0.95):\n",
    "    return pint.Quantity(criteria, units(criteria_units)).to(units('m/s')).magnitude - normal_distribution.ppf(1-min_probability) * sigma_data.quantile(sigma_threshold)"
   ]
  },
  {
   "cell_type": "markdown",
   "id": "loved-origin",
   "metadata": {},
   "source": [
    "## Set Site ID"
   ]
  },
  {
   "cell_type": "code",
   "execution_count": 12,
   "id": "underlying-cache",
   "metadata": {},
   "outputs": [],
   "source": [
    "siteID = 'MTELV'"
   ]
  },
  {
   "cell_type": "markdown",
   "id": "significant-tyler",
   "metadata": {},
   "source": [
    "## Load RTMA / NBM 1-Hour Forecast Data"
   ]
  },
  {
   "cell_type": "code",
   "execution_count": 13,
   "id": "biological-companion",
   "metadata": {},
   "outputs": [
    {
     "data": {
      "text/html": [
       "<div>\n",
       "<style scoped>\n",
       "    .dataframe tbody tr th:only-of-type {\n",
       "        vertical-align: middle;\n",
       "    }\n",
       "\n",
       "    .dataframe tbody tr th {\n",
       "        vertical-align: top;\n",
       "    }\n",
       "\n",
       "    .dataframe thead th {\n",
       "        text-align: right;\n",
       "    }\n",
       "</style>\n",
       "<table border=\"1\" class=\"dataframe\">\n",
       "  <thead>\n",
       "    <tr style=\"text-align: right;\">\n",
       "      <th></th>\n",
       "      <th>10_meter_wind_speed</th>\n",
       "      <th>10_meter_wind_speed_of_gust</th>\n",
       "      <th>10_meter_wind_from_direction</th>\n",
       "    </tr>\n",
       "  </thead>\n",
       "  <tbody>\n",
       "    <tr>\n",
       "      <th>2020-10-01 00:00:00</th>\n",
       "      <td>4.200000</td>\n",
       "      <td>5.6</td>\n",
       "      <td>20.0</td>\n",
       "    </tr>\n",
       "    <tr>\n",
       "      <th>2020-10-01 01:00:00</th>\n",
       "      <td>3.800000</td>\n",
       "      <td>5.9</td>\n",
       "      <td>70.0</td>\n",
       "    </tr>\n",
       "    <tr>\n",
       "      <th>2020-10-01 02:00:00</th>\n",
       "      <td>3.500000</td>\n",
       "      <td>6.6</td>\n",
       "      <td>90.0</td>\n",
       "    </tr>\n",
       "    <tr>\n",
       "      <th>2020-10-01 03:00:00</th>\n",
       "      <td>3.900000</td>\n",
       "      <td>7.0</td>\n",
       "      <td>90.0</td>\n",
       "    </tr>\n",
       "    <tr>\n",
       "      <th>2020-10-01 04:00:00</th>\n",
       "      <td>3.500000</td>\n",
       "      <td>6.9</td>\n",
       "      <td>80.0</td>\n",
       "    </tr>\n",
       "    <tr>\n",
       "      <th>...</th>\n",
       "      <td>...</td>\n",
       "      <td>...</td>\n",
       "      <td>...</td>\n",
       "    </tr>\n",
       "    <tr>\n",
       "      <th>2021-02-28 19:00:00</th>\n",
       "      <td>10.000000</td>\n",
       "      <td>14.7</td>\n",
       "      <td>250.0</td>\n",
       "    </tr>\n",
       "    <tr>\n",
       "      <th>2021-02-28 20:00:00</th>\n",
       "      <td>10.400001</td>\n",
       "      <td>15.1</td>\n",
       "      <td>250.0</td>\n",
       "    </tr>\n",
       "    <tr>\n",
       "      <th>2021-02-28 21:00:00</th>\n",
       "      <td>10.400001</td>\n",
       "      <td>15.2</td>\n",
       "      <td>250.0</td>\n",
       "    </tr>\n",
       "    <tr>\n",
       "      <th>2021-02-28 22:00:00</th>\n",
       "      <td>10.000000</td>\n",
       "      <td>14.8</td>\n",
       "      <td>260.0</td>\n",
       "    </tr>\n",
       "    <tr>\n",
       "      <th>2021-02-28 23:00:00</th>\n",
       "      <td>9.600000</td>\n",
       "      <td>14.0</td>\n",
       "      <td>250.0</td>\n",
       "    </tr>\n",
       "  </tbody>\n",
       "</table>\n",
       "<p>3494 rows × 3 columns</p>\n",
       "</div>"
      ],
      "text/plain": [
       "                     10_meter_wind_speed  10_meter_wind_speed_of_gust  \\\n",
       "2020-10-01 00:00:00             4.200000                          5.6   \n",
       "2020-10-01 01:00:00             3.800000                          5.9   \n",
       "2020-10-01 02:00:00             3.500000                          6.6   \n",
       "2020-10-01 03:00:00             3.900000                          7.0   \n",
       "2020-10-01 04:00:00             3.500000                          6.9   \n",
       "...                                  ...                          ...   \n",
       "2021-02-28 19:00:00            10.000000                         14.7   \n",
       "2021-02-28 20:00:00            10.400001                         15.1   \n",
       "2021-02-28 21:00:00            10.400001                         15.2   \n",
       "2021-02-28 22:00:00            10.000000                         14.8   \n",
       "2021-02-28 23:00:00             9.600000                         14.0   \n",
       "\n",
       "                     10_meter_wind_from_direction  \n",
       "2020-10-01 00:00:00                          20.0  \n",
       "2020-10-01 01:00:00                          70.0  \n",
       "2020-10-01 02:00:00                          90.0  \n",
       "2020-10-01 03:00:00                          90.0  \n",
       "2020-10-01 04:00:00                          80.0  \n",
       "...                                           ...  \n",
       "2021-02-28 19:00:00                         250.0  \n",
       "2021-02-28 20:00:00                         250.0  \n",
       "2021-02-28 21:00:00                         250.0  \n",
       "2021-02-28 22:00:00                         260.0  \n",
       "2021-02-28 23:00:00                         250.0  \n",
       "\n",
       "[3494 rows x 3 columns]"
      ]
     },
     "execution_count": 13,
     "metadata": {},
     "output_type": "execute_result"
    }
   ],
   "source": [
    "analysis = filter_missing_data(load_analysis_grid('../data/nbm_analysis/NBM_{0:s}.nc'.format(siteID), \n",
    "                                                  filter_fields=['10_meter_wind_speed', '10_meter_wind_speed_of_gust', '10_meter_wind_from_direction'], \n",
    "                                                  transform_columns=lambda a: a.replace('_mean', '')))\n",
    "analysis = filter_missing_data(analysis)\n",
    "analysis"
   ]
  },
  {
   "cell_type": "markdown",
   "id": "descending-breakfast",
   "metadata": {},
   "source": [
    "## Load Observation Data"
   ]
  },
  {
   "cell_type": "code",
   "execution_count": 14,
   "id": "wrapped-twelve",
   "metadata": {},
   "outputs": [
    {
     "data": {
      "text/html": [
       "<div>\n",
       "<style scoped>\n",
       "    .dataframe tbody tr th:only-of-type {\n",
       "        vertical-align: middle;\n",
       "    }\n",
       "\n",
       "    .dataframe tbody tr th {\n",
       "        vertical-align: top;\n",
       "    }\n",
       "\n",
       "    .dataframe thead th {\n",
       "        text-align: right;\n",
       "    }\n",
       "</style>\n",
       "<table border=\"1\" class=\"dataframe\">\n",
       "  <thead>\n",
       "    <tr style=\"text-align: right;\">\n",
       "      <th></th>\n",
       "      <th>10_meter_wind_speed</th>\n",
       "      <th>10_meter_wind_speed_of_gust</th>\n",
       "      <th>10_meter_wind_from_direction</th>\n",
       "    </tr>\n",
       "    <tr>\n",
       "      <th>time</th>\n",
       "      <th></th>\n",
       "      <th></th>\n",
       "      <th></th>\n",
       "    </tr>\n",
       "  </thead>\n",
       "  <tbody>\n",
       "    <tr>\n",
       "      <th>2020-05-18 06:00:00</th>\n",
       "      <td>1.65</td>\n",
       "      <td>2.23</td>\n",
       "      <td>205.0</td>\n",
       "    </tr>\n",
       "    <tr>\n",
       "      <th>2020-05-18 07:00:00</th>\n",
       "      <td>2.51</td>\n",
       "      <td>2.77</td>\n",
       "      <td>230.0</td>\n",
       "    </tr>\n",
       "    <tr>\n",
       "      <th>2020-05-18 08:00:00</th>\n",
       "      <td>4.42</td>\n",
       "      <td>5.81</td>\n",
       "      <td>250.0</td>\n",
       "    </tr>\n",
       "    <tr>\n",
       "      <th>2020-05-18 09:00:00</th>\n",
       "      <td>4.74</td>\n",
       "      <td>7.24</td>\n",
       "      <td>250.0</td>\n",
       "    </tr>\n",
       "    <tr>\n",
       "      <th>2020-05-18 10:00:00</th>\n",
       "      <td>1.92</td>\n",
       "      <td>2.51</td>\n",
       "      <td>305.0</td>\n",
       "    </tr>\n",
       "    <tr>\n",
       "      <th>...</th>\n",
       "      <td>...</td>\n",
       "      <td>...</td>\n",
       "      <td>...</td>\n",
       "    </tr>\n",
       "    <tr>\n",
       "      <th>2021-05-01 02:00:00</th>\n",
       "      <td>4.16</td>\n",
       "      <td>6.40</td>\n",
       "      <td>325.0</td>\n",
       "    </tr>\n",
       "    <tr>\n",
       "      <th>2021-05-01 03:00:00</th>\n",
       "      <td>3.89</td>\n",
       "      <td>4.42</td>\n",
       "      <td>330.0</td>\n",
       "    </tr>\n",
       "    <tr>\n",
       "      <th>2021-05-01 04:00:00</th>\n",
       "      <td>3.89</td>\n",
       "      <td>5.54</td>\n",
       "      <td>310.0</td>\n",
       "    </tr>\n",
       "    <tr>\n",
       "      <th>2021-05-01 05:00:00</th>\n",
       "      <td>1.92</td>\n",
       "      <td>3.04</td>\n",
       "      <td>210.0</td>\n",
       "    </tr>\n",
       "    <tr>\n",
       "      <th>2021-05-01 06:00:00</th>\n",
       "      <td>1.12</td>\n",
       "      <td>1.92</td>\n",
       "      <td>230.0</td>\n",
       "    </tr>\n",
       "  </tbody>\n",
       "</table>\n",
       "<p>8342 rows × 3 columns</p>\n",
       "</div>"
      ],
      "text/plain": [
       "                     10_meter_wind_speed  10_meter_wind_speed_of_gust  \\\n",
       "time                                                                    \n",
       "2020-05-18 06:00:00                 1.65                         2.23   \n",
       "2020-05-18 07:00:00                 2.51                         2.77   \n",
       "2020-05-18 08:00:00                 4.42                         5.81   \n",
       "2020-05-18 09:00:00                 4.74                         7.24   \n",
       "2020-05-18 10:00:00                 1.92                         2.51   \n",
       "...                                  ...                          ...   \n",
       "2021-05-01 02:00:00                 4.16                         6.40   \n",
       "2021-05-01 03:00:00                 3.89                         4.42   \n",
       "2021-05-01 04:00:00                 3.89                         5.54   \n",
       "2021-05-01 05:00:00                 1.92                         3.04   \n",
       "2021-05-01 06:00:00                 1.12                         1.92   \n",
       "\n",
       "                     10_meter_wind_from_direction  \n",
       "time                                               \n",
       "2020-05-18 06:00:00                         205.0  \n",
       "2020-05-18 07:00:00                         230.0  \n",
       "2020-05-18 08:00:00                         250.0  \n",
       "2020-05-18 09:00:00                         250.0  \n",
       "2020-05-18 10:00:00                         305.0  \n",
       "...                                           ...  \n",
       "2021-05-01 02:00:00                         325.0  \n",
       "2021-05-01 03:00:00                         330.0  \n",
       "2021-05-01 04:00:00                         310.0  \n",
       "2021-05-01 05:00:00                         210.0  \n",
       "2021-05-01 06:00:00                         230.0  \n",
       "\n",
       "[8342 rows x 3 columns]"
      ]
     },
     "execution_count": 14,
     "metadata": {},
     "output_type": "execute_result"
    }
   ],
   "source": [
    "obs =  load_observations('../data/observations/{0:s}.nc'.format(siteID), \n",
    "                         filter_fields=['10_meter_wind_speed', '10_meter_wind_speed_of_gust', '10_meter_wind_from_direction'])\n",
    "\n",
    "replace_missing_gust_with_wind(obs, '10_meter_wind_speed', '10_meter_wind_speed_of_gust')\n",
    "obs = filter_missing_data(obs)\n",
    "# obs = obs[obs['10_meter_wind_speed_of_gust'] > (pint.Quantity(20, units('mph')).to(units('m s**-1')).magnitude)]\n",
    "obs = get_period_maximum(obs, period='1H')\n",
    "obs"
   ]
  },
  {
   "cell_type": "markdown",
   "id": "interested-visibility",
   "metadata": {},
   "source": [
    "## Load forecast data to calculate analysis threshold"
   ]
  },
  {
   "cell_type": "code",
   "execution_count": 15,
   "id": "nasty-sperm",
   "metadata": {},
   "outputs": [],
   "source": [
    "forecast = load_forecast_grid('../data/nbm/NBM_{0:s}.nc'.format(siteID), filter_fields=['10_meter_wind_speed_of_gust_standard_deviation'])\n",
    "forecast = filter_missing_data(forecast)"
   ]
  },
  {
   "cell_type": "markdown",
   "id": "fresh-singapore",
   "metadata": {},
   "source": [
    "## Time-match Observations to RTMA / NBM Analysis\n",
    "filter using probability threshold"
   ]
  },
  {
   "cell_type": "code",
   "execution_count": 16,
   "id": "loving-bernard",
   "metadata": {},
   "outputs": [
    {
     "name": "stdout",
     "output_type": "stream",
     "text": [
      "30.409314876260552 mile_per_hour\n"
     ]
    },
    {
     "data": {
      "text/html": [
       "<div>\n",
       "<style scoped>\n",
       "    .dataframe tbody tr th:only-of-type {\n",
       "        vertical-align: middle;\n",
       "    }\n",
       "\n",
       "    .dataframe tbody tr th {\n",
       "        vertical-align: top;\n",
       "    }\n",
       "\n",
       "    .dataframe thead th {\n",
       "        text-align: right;\n",
       "    }\n",
       "</style>\n",
       "<table border=\"1\" class=\"dataframe\">\n",
       "  <thead>\n",
       "    <tr style=\"text-align: right;\">\n",
       "      <th></th>\n",
       "      <th>10_meter_wind_speed_obs</th>\n",
       "      <th>10_meter_wind_speed_of_gust_obs</th>\n",
       "      <th>10_meter_wind_from_direction_obs</th>\n",
       "      <th>10_meter_wind_speed_analysis</th>\n",
       "      <th>10_meter_wind_speed_of_gust_analysis</th>\n",
       "      <th>10_meter_wind_from_direction_analysis</th>\n",
       "    </tr>\n",
       "  </thead>\n",
       "  <tbody>\n",
       "    <tr>\n",
       "      <th>2020-10-01 18:00:00</th>\n",
       "      <td>10.55</td>\n",
       "      <td>14.71</td>\n",
       "      <td>205.0</td>\n",
       "      <td>5.100000</td>\n",
       "      <td>8.200000</td>\n",
       "      <td>230.0</td>\n",
       "    </tr>\n",
       "    <tr>\n",
       "      <th>2020-10-04 14:00:00</th>\n",
       "      <td>11.13</td>\n",
       "      <td>15.29</td>\n",
       "      <td>195.0</td>\n",
       "      <td>5.200000</td>\n",
       "      <td>7.700000</td>\n",
       "      <td>260.0</td>\n",
       "    </tr>\n",
       "    <tr>\n",
       "      <th>2020-10-04 17:00:00</th>\n",
       "      <td>11.67</td>\n",
       "      <td>14.44</td>\n",
       "      <td>245.0</td>\n",
       "      <td>7.500000</td>\n",
       "      <td>11.700000</td>\n",
       "      <td>230.0</td>\n",
       "    </tr>\n",
       "    <tr>\n",
       "      <th>2020-10-04 18:00:00</th>\n",
       "      <td>11.40</td>\n",
       "      <td>15.56</td>\n",
       "      <td>230.0</td>\n",
       "      <td>7.800000</td>\n",
       "      <td>11.900001</td>\n",
       "      <td>250.0</td>\n",
       "    </tr>\n",
       "    <tr>\n",
       "      <th>2020-10-04 19:00:00</th>\n",
       "      <td>9.70</td>\n",
       "      <td>15.29</td>\n",
       "      <td>245.0</td>\n",
       "      <td>8.900001</td>\n",
       "      <td>12.400001</td>\n",
       "      <td>250.0</td>\n",
       "    </tr>\n",
       "    <tr>\n",
       "      <th>...</th>\n",
       "      <td>...</td>\n",
       "      <td>...</td>\n",
       "      <td>...</td>\n",
       "      <td>...</td>\n",
       "      <td>...</td>\n",
       "      <td>...</td>\n",
       "    </tr>\n",
       "    <tr>\n",
       "      <th>2021-02-28 19:00:00</th>\n",
       "      <td>10.55</td>\n",
       "      <td>15.56</td>\n",
       "      <td>245.0</td>\n",
       "      <td>10.000000</td>\n",
       "      <td>14.700000</td>\n",
       "      <td>250.0</td>\n",
       "    </tr>\n",
       "    <tr>\n",
       "      <th>2021-02-28 20:00:00</th>\n",
       "      <td>10.01</td>\n",
       "      <td>14.44</td>\n",
       "      <td>230.0</td>\n",
       "      <td>10.400001</td>\n",
       "      <td>15.100000</td>\n",
       "      <td>250.0</td>\n",
       "    </tr>\n",
       "    <tr>\n",
       "      <th>2021-02-28 21:00:00</th>\n",
       "      <td>10.28</td>\n",
       "      <td>13.90</td>\n",
       "      <td>250.0</td>\n",
       "      <td>10.400001</td>\n",
       "      <td>15.200000</td>\n",
       "      <td>250.0</td>\n",
       "    </tr>\n",
       "    <tr>\n",
       "      <th>2021-02-28 22:00:00</th>\n",
       "      <td>10.01</td>\n",
       "      <td>14.17</td>\n",
       "      <td>250.0</td>\n",
       "      <td>10.000000</td>\n",
       "      <td>14.800000</td>\n",
       "      <td>260.0</td>\n",
       "    </tr>\n",
       "    <tr>\n",
       "      <th>2021-02-28 23:00:00</th>\n",
       "      <td>9.43</td>\n",
       "      <td>14.17</td>\n",
       "      <td>250.0</td>\n",
       "      <td>9.600000</td>\n",
       "      <td>14.000000</td>\n",
       "      <td>250.0</td>\n",
       "    </tr>\n",
       "  </tbody>\n",
       "</table>\n",
       "<p>1314 rows × 6 columns</p>\n",
       "</div>"
      ],
      "text/plain": [
       "                     10_meter_wind_speed_obs  10_meter_wind_speed_of_gust_obs  \\\n",
       "2020-10-01 18:00:00                    10.55                            14.71   \n",
       "2020-10-04 14:00:00                    11.13                            15.29   \n",
       "2020-10-04 17:00:00                    11.67                            14.44   \n",
       "2020-10-04 18:00:00                    11.40                            15.56   \n",
       "2020-10-04 19:00:00                     9.70                            15.29   \n",
       "...                                      ...                              ...   \n",
       "2021-02-28 19:00:00                    10.55                            15.56   \n",
       "2021-02-28 20:00:00                    10.01                            14.44   \n",
       "2021-02-28 21:00:00                    10.28                            13.90   \n",
       "2021-02-28 22:00:00                    10.01                            14.17   \n",
       "2021-02-28 23:00:00                     9.43                            14.17   \n",
       "\n",
       "                     10_meter_wind_from_direction_obs  \\\n",
       "2020-10-01 18:00:00                             205.0   \n",
       "2020-10-04 14:00:00                             195.0   \n",
       "2020-10-04 17:00:00                             245.0   \n",
       "2020-10-04 18:00:00                             230.0   \n",
       "2020-10-04 19:00:00                             245.0   \n",
       "...                                               ...   \n",
       "2021-02-28 19:00:00                             245.0   \n",
       "2021-02-28 20:00:00                             230.0   \n",
       "2021-02-28 21:00:00                             250.0   \n",
       "2021-02-28 22:00:00                             250.0   \n",
       "2021-02-28 23:00:00                             250.0   \n",
       "\n",
       "                     10_meter_wind_speed_analysis  \\\n",
       "2020-10-01 18:00:00                      5.100000   \n",
       "2020-10-04 14:00:00                      5.200000   \n",
       "2020-10-04 17:00:00                      7.500000   \n",
       "2020-10-04 18:00:00                      7.800000   \n",
       "2020-10-04 19:00:00                      8.900001   \n",
       "...                                           ...   \n",
       "2021-02-28 19:00:00                     10.000000   \n",
       "2021-02-28 20:00:00                     10.400001   \n",
       "2021-02-28 21:00:00                     10.400001   \n",
       "2021-02-28 22:00:00                     10.000000   \n",
       "2021-02-28 23:00:00                      9.600000   \n",
       "\n",
       "                     10_meter_wind_speed_of_gust_analysis  \\\n",
       "2020-10-01 18:00:00                              8.200000   \n",
       "2020-10-04 14:00:00                              7.700000   \n",
       "2020-10-04 17:00:00                             11.700000   \n",
       "2020-10-04 18:00:00                             11.900001   \n",
       "2020-10-04 19:00:00                             12.400001   \n",
       "...                                                   ...   \n",
       "2021-02-28 19:00:00                             14.700000   \n",
       "2021-02-28 20:00:00                             15.100000   \n",
       "2021-02-28 21:00:00                             15.200000   \n",
       "2021-02-28 22:00:00                             14.800000   \n",
       "2021-02-28 23:00:00                             14.000000   \n",
       "\n",
       "                     10_meter_wind_from_direction_analysis  \n",
       "2020-10-01 18:00:00                                  230.0  \n",
       "2020-10-04 14:00:00                                  260.0  \n",
       "2020-10-04 17:00:00                                  230.0  \n",
       "2020-10-04 18:00:00                                  250.0  \n",
       "2020-10-04 19:00:00                                  250.0  \n",
       "...                                                    ...  \n",
       "2021-02-28 19:00:00                                  250.0  \n",
       "2021-02-28 20:00:00                                  250.0  \n",
       "2021-02-28 21:00:00                                  250.0  \n",
       "2021-02-28 22:00:00                                  260.0  \n",
       "2021-02-28 23:00:00                                  250.0  \n",
       "\n",
       "[1314 rows x 6 columns]"
      ]
     },
     "execution_count": 16,
     "metadata": {},
     "output_type": "execute_result"
    }
   ],
   "source": [
    "data = time_match_dataset(obs, analysis, right_prefix='analysis')\n",
    "\n",
    "lower_threshold = calculate_lower_threshold_speed(forecast['10_meter_wind_speed_of_gust_standard_deviation'], 50, criteria_units='mph')\n",
    "print(pint.Quantity(lower_threshold, units('m s**-1')).to(units('mph')))\n",
    "data = data[data['10_meter_wind_speed_of_gust_obs'] >= lower_threshold]\n",
    "data"
   ]
  },
  {
   "cell_type": "markdown",
   "id": "linear-decrease",
   "metadata": {},
   "source": [
    "## Break the data down by the ratio of observations to analysis"
   ]
  },
  {
   "cell_type": "code",
   "execution_count": 17,
   "id": "front-performance",
   "metadata": {},
   "outputs": [
    {
     "name": "stdout",
     "output_type": "stream",
     "text": [
      "analysis_ratio\n",
      "Analysis Over Estimates     0.05175\n",
      "Analysis Under Estimates    0.94825\n",
      "Name: analysis_ratio, dtype: float64\n"
     ]
    },
    {
     "data": {
      "image/png": "[encoded data removed]",
      "text/plain": [
       "<Figure size 432x288 with 1 Axes>"
      ]
     },
     "metadata": {},
     "output_type": "display_data"
    }
   ],
   "source": [
    "data['analysis_ratio'] = 'Equal'\n",
    "ratio = data['10_meter_wind_speed_of_gust_obs'] / data['10_meter_wind_speed_of_gust_analysis']\n",
    "data.loc[ratio > 1, 'analysis_ratio'] = 'Analysis Under Estimates'\n",
    "data.loc[ratio < 1, 'analysis_ratio'] = 'Analysis Over Estimates'\n",
    "del ratio\n",
    "plot = sns.scatterplot(data=data, y='10_meter_wind_speed_of_gust_obs', x='10_meter_wind_speed_of_gust_analysis', hue='analysis_ratio')\n",
    "print(data.groupby(['analysis_ratio']).analysis_ratio.count()/data.analysis_ratio.count())"
   ]
  },
  {
   "cell_type": "markdown",
   "id": "julian-brazilian",
   "metadata": {},
   "source": [
    "### Filter data where analysis under estimates\n",
    "Given that the analysis overwelmingly under-estimates the wind gust, only look those instances to produce as better regression"
   ]
  },
  {
   "cell_type": "code",
   "execution_count": 18,
   "id": "broke-equilibrium",
   "metadata": {},
   "outputs": [
    {
     "data": {
      "text/html": [
       "<div>\n",
       "<style scoped>\n",
       "    .dataframe tbody tr th:only-of-type {\n",
       "        vertical-align: middle;\n",
       "    }\n",
       "\n",
       "    .dataframe tbody tr th {\n",
       "        vertical-align: top;\n",
       "    }\n",
       "\n",
       "    .dataframe thead th {\n",
       "        text-align: right;\n",
       "    }\n",
       "</style>\n",
       "<table border=\"1\" class=\"dataframe\">\n",
       "  <thead>\n",
       "    <tr style=\"text-align: right;\">\n",
       "      <th></th>\n",
       "      <th>slope</th>\n",
       "      <th>intercept</th>\n",
       "      <th>rvalue</th>\n",
       "      <th>pvalue</th>\n",
       "      <th>stderr</th>\n",
       "    </tr>\n",
       "  </thead>\n",
       "  <tbody>\n",
       "    <tr>\n",
       "      <th>MTELV</th>\n",
       "      <td>0.893859</td>\n",
       "      <td>6.923222</td>\n",
       "      <td>0.703279</td>\n",
       "      <td>1.471382e-186</td>\n",
       "      <td>0.025618</td>\n",
       "    </tr>\n",
       "  </tbody>\n",
       "</table>\n",
       "</div>"
      ],
      "text/plain": [
       "          slope  intercept    rvalue         pvalue    stderr\n",
       "MTELV  0.893859   6.923222  0.703279  1.471382e-186  0.025618"
      ]
     },
     "execution_count": 18,
     "metadata": {},
     "output_type": "execute_result"
    }
   ],
   "source": [
    "under_estimate = data[data.analysis_ratio == 'Analysis Under Estimates']\n",
    "if os.path.exists('../data/derived/regressions.json'):\n",
    "    regression = pd.read_json('../data/derived/regressions.json', orient='table')\n",
    "    regression = pd.concat([regression, pd.DataFrame(dict(zip(['slope', 'intercept', 'rvalue', 'pvalue', 'stderr'], list(stats.linregress(under_estimate['10_meter_wind_speed_of_gust_analysis'], under_estimate['10_meter_wind_speed_of_gust_obs'])))), index=[siteID])]).reset_index().drop_duplicates(subset=['index'], keep='last').set_index('index')\n",
    "    regression.index.name = None\n",
    "else:\n",
    "    regression = pd.DataFrame(dict(zip(['slope', 'intercept', 'rvalue', 'pvalue', 'stderr'], list(stats.linregress(under_estimate['10_meter_wind_speed_of_gust_analysis'], under_estimate['10_meter_wind_speed_of_gust_obs'])))), index=[siteID])\n",
    "regression.to_json('../data/derived/regressions.json', orient='table')\n",
    "regression"
   ]
  },
  {
   "cell_type": "markdown",
   "id": "behind-southwest",
   "metadata": {},
   "source": [
    "### Plot Regression with data"
   ]
  },
  {
   "cell_type": "code",
   "execution_count": 19,
   "id": "increasing-leather",
   "metadata": {},
   "outputs": [
    {
     "data": {
      "image/png": "[encoded data removed]",
      "text/plain": [
       "<Figure size 432x288 with 1 Axes>"
      ]
     },
     "metadata": {},
     "output_type": "display_data"
    }
   ],
   "source": [
    "plot = sns.regplot(data=under_estimate, y='10_meter_wind_speed_of_gust_obs', x='10_meter_wind_speed_of_gust_analysis',marker='+', line_kws={'label':'y={0:.3f}x+{1:.3f} ({2:.4f})'.format(regression.slope[siteID], regression.intercept[siteID], regression.rvalue[0])})\n",
    "legend = plot.legend()"
   ]
  }
 ],
 "metadata": {
  "kernelspec": {
   "display_name": "Python 3",
   "language": "python",
   "name": "python3"
  },
  "language_info": {
   "codemirror_mode": {
    "name": "ipython",
    "version": 3
   },
   "file_extension": ".py",
   "mimetype": "text/x-python",
   "name": "python",
   "nbconvert_exporter": "python",
   "pygments_lexer": "ipython3",
   "version": "3.8.6"
  }
 },
 "nbformat": 4,
 "nbformat_minor": 5
}
