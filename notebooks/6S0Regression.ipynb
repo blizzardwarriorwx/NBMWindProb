{
 "cells": [
  {
   "cell_type": "markdown",
   "id": "complex-underground",
   "metadata": {},
   "source": [
    "# Big Timber (6S0) Regression\n",
    "\n",
    "Compare the observations from the Big Timber, MT AWOS (K6S0) \n",
    "with the RTMA or NBM 1hr forecast and comute a regression\n",
    "\n",
    "## Import modules"
   ]
  },
  {
   "cell_type": "code",
   "execution_count": 1,
   "id": "introductory-graphics",
   "metadata": {},
   "outputs": [],
   "source": [
    "import xarray            as xr\n",
    "import pandas            as pd\n",
    "import numpy             as np\n",
    "import matplotlib.pyplot as plt\n",
    "import seaborn           as sns\n",
    "import scipy.stats       as stats\n",
    "import os.path \n",
    "import pint"
   ]
  },
  {
   "cell_type": "markdown",
   "id": "dressed-funds",
   "metadata": {},
   "source": [
    "## Set some contants"
   ]
  },
  {
   "cell_type": "code",
   "execution_count": 2,
   "id": "affiliated-latvia",
   "metadata": {},
   "outputs": [],
   "source": [
    "sns.set_theme(color_codes=True)\n",
    "units = pint.UnitRegistry()\n",
    "hour = pd.to_timedelta('1H')"
   ]
  },
  {
   "cell_type": "markdown",
   "id": "prostate-retirement",
   "metadata": {},
   "source": [
    "## Define utility functions"
   ]
  },
  {
   "cell_type": "markdown",
   "id": "equivalent-engine",
   "metadata": {},
   "source": [
    "### load_analysis_grid:\n",
    "Load time series from a gridded source converting units and filtering fields. Also creates the valid time field from reference time and time since reference. Can tranform column names if needed, ie for NBM 1 hour forecast."
   ]
  },
  {
   "cell_type": "code",
   "execution_count": 3,
   "id": "collectible-silicon",
   "metadata": {},
   "outputs": [],
   "source": [
    "def load_analysis_grid(filename, filter_fields=None, transform_columns=None):\n",
    "    data = xr.open_dataset(filename).to_dataframe()\n",
    "    if transform_columns is not None:\n",
    "        data.columns = data.columns.to_series().apply(transform_columns)\n",
    "    data = data.set_index(data.pop('reference_time') + data.pop('time_since_reference') * hour).sort_index()\n",
    "    if filter_fields is None:\n",
    "        filter_fields = data.columns\n",
    "    return data[filter_fields]"
   ]
  },
  {
   "cell_type": "markdown",
   "id": "every-samuel",
   "metadata": {},
   "source": [
    "### filter_missing_data\n",
    "Filter rows that are filled with NaNs, ignoring time fields by default"
   ]
  },
  {
   "cell_type": "code",
   "execution_count": 4,
   "id": "unusual-control",
   "metadata": {},
   "outputs": [],
   "source": [
    "def filter_missing_data(data):\n",
    "    return data.dropna(how='all')"
   ]
  },
  {
   "cell_type": "markdown",
   "id": "positive-tender",
   "metadata": {},
   "source": [
    "### load_observations\n",
    "Load time series from observation source, converting units and filtering fields."
   ]
  },
  {
   "cell_type": "code",
   "execution_count": 5,
   "id": "buried-architect",
   "metadata": {},
   "outputs": [],
   "source": [
    "def load_observations(filename, filter_fields=None):\n",
    "    data = xr.open_dataset(filename).to_dataframe().set_index('time').sort_index()\n",
    "    if filter_fields is not None:\n",
    "        data = data.loc[:, filter_fields]\n",
    "    return data"
   ]
  },
  {
   "cell_type": "markdown",
   "id": "present-juice",
   "metadata": {},
   "source": [
    "### replace_missing_gust_with_wind\n",
    "Since that gusts for AWOS/ASOS are not reported unless the gusts is sufficiently higher than sustained wind, replace missing gust values with the sustained to compare to RTMA / NBM that always has a gust value."
   ]
  },
  {
   "cell_type": "code",
   "execution_count": 6,
   "id": "banner-evanescence",
   "metadata": {},
   "outputs": [],
   "source": [
    "def replace_missing_gust_with_wind(data, wind_field, wind_gust_field):\n",
    "    index = np.isnan(data[wind_gust_field])\n",
    "    data.loc[index, wind_gust_field] = data[wind_field][index]"
   ]
  },
  {
   "cell_type": "markdown",
   "id": "acute-hepatitis",
   "metadata": {},
   "source": [
    "### get_period_maximum\n",
    "Find the maximum values when rounding the time fields to nearest hour"
   ]
  },
  {
   "cell_type": "code",
   "execution_count": 7,
   "id": "negative-filter",
   "metadata": {},
   "outputs": [],
   "source": [
    "def get_period_maximum(data, period='1H'):\n",
    "    return data.groupby(data.index.round(period)).max()"
   ]
  },
  {
   "cell_type": "markdown",
   "id": "resistant-kruger",
   "metadata": {},
   "source": [
    "### time_match_dataset\n",
    "Time-match dataset while prefixing the columns of each dataset"
   ]
  },
  {
   "cell_type": "code",
   "execution_count": 8,
   "id": "adult-source",
   "metadata": {},
   "outputs": [],
   "source": [
    "def time_match_dataset(left, right, left_prefix='obs', right_prefix='grid', left_time='time', right_time='valid_time'):\n",
    "    if left_prefix is None:\n",
    "        left_prefix = ''\n",
    "    else:\n",
    "        left_prefix = '_{0:s}'.format(left_prefix)\n",
    "    if right_prefix is None:\n",
    "        right_prefix = ''\n",
    "    else:\n",
    "        right_prefix = '_{0:s}'.format(right_prefix)\n",
    "    return pd.merge(left.add_suffix(left_prefix), right.add_suffix(right_prefix), how='inner', left_index=True, right_index=True).sort_index()"
   ]
  },
  {
   "cell_type": "markdown",
   "id": "shared-surrey",
   "metadata": {},
   "source": [
    "### convert_units\n",
    "Convert units of columns in a DataFrame"
   ]
  },
  {
   "cell_type": "code",
   "execution_count": 9,
   "id": "beginning-torture",
   "metadata": {},
   "outputs": [],
   "source": [
    "def convert_units(data, columns):\n",
    "    for col in columns.keys():\n",
    "        data[col] = pint.Quantity(data[col].to_numpy(), units(columns[col][0])).to(units(columns[col][1])).magnitude"
   ]
  },
  {
   "cell_type": "markdown",
   "id": "harmful-lebanon",
   "metadata": {},
   "source": [
    "## Load RTMA / NBM 1-Hour Forecast Data"
   ]
  },
  {
   "cell_type": "code",
   "execution_count": 10,
   "id": "urban-catholic",
   "metadata": {},
   "outputs": [
    {
     "data": {
      "text/html": [
       "<div>\n",
       "<style scoped>\n",
       "    .dataframe tbody tr th:only-of-type {\n",
       "        vertical-align: middle;\n",
       "    }\n",
       "\n",
       "    .dataframe tbody tr th {\n",
       "        vertical-align: top;\n",
       "    }\n",
       "\n",
       "    .dataframe thead th {\n",
       "        text-align: right;\n",
       "    }\n",
       "</style>\n",
       "<table border=\"1\" class=\"dataframe\">\n",
       "  <thead>\n",
       "    <tr style=\"text-align: right;\">\n",
       "      <th></th>\n",
       "      <th>10_meter_wind_speed</th>\n",
       "      <th>10_meter_wind_speed_of_gust</th>\n",
       "      <th>10_meter_wind_from_direction</th>\n",
       "    </tr>\n",
       "  </thead>\n",
       "  <tbody>\n",
       "    <tr>\n",
       "      <th>2020-10-01 00:00:00</th>\n",
       "      <td>5.4</td>\n",
       "      <td>5.200000</td>\n",
       "      <td>50.0</td>\n",
       "    </tr>\n",
       "    <tr>\n",
       "      <th>2020-10-01 01:00:00</th>\n",
       "      <td>5.0</td>\n",
       "      <td>5.900000</td>\n",
       "      <td>40.0</td>\n",
       "    </tr>\n",
       "    <tr>\n",
       "      <th>2020-10-01 02:00:00</th>\n",
       "      <td>3.9</td>\n",
       "      <td>5.400000</td>\n",
       "      <td>50.0</td>\n",
       "    </tr>\n",
       "    <tr>\n",
       "      <th>2020-10-01 03:00:00</th>\n",
       "      <td>3.5</td>\n",
       "      <td>4.200000</td>\n",
       "      <td>50.0</td>\n",
       "    </tr>\n",
       "    <tr>\n",
       "      <th>2020-10-01 04:00:00</th>\n",
       "      <td>3.1</td>\n",
       "      <td>3.300000</td>\n",
       "      <td>40.0</td>\n",
       "    </tr>\n",
       "    <tr>\n",
       "      <th>...</th>\n",
       "      <td>...</td>\n",
       "      <td>...</td>\n",
       "      <td>...</td>\n",
       "    </tr>\n",
       "    <tr>\n",
       "      <th>2021-02-28 19:00:00</th>\n",
       "      <td>12.8</td>\n",
       "      <td>18.300001</td>\n",
       "      <td>260.0</td>\n",
       "    </tr>\n",
       "    <tr>\n",
       "      <th>2021-02-28 20:00:00</th>\n",
       "      <td>13.6</td>\n",
       "      <td>18.300001</td>\n",
       "      <td>260.0</td>\n",
       "    </tr>\n",
       "    <tr>\n",
       "      <th>2021-02-28 21:00:00</th>\n",
       "      <td>12.8</td>\n",
       "      <td>18.000000</td>\n",
       "      <td>260.0</td>\n",
       "    </tr>\n",
       "    <tr>\n",
       "      <th>2021-02-28 22:00:00</th>\n",
       "      <td>12.0</td>\n",
       "      <td>18.000000</td>\n",
       "      <td>260.0</td>\n",
       "    </tr>\n",
       "    <tr>\n",
       "      <th>2021-02-28 23:00:00</th>\n",
       "      <td>11.2</td>\n",
       "      <td>17.600000</td>\n",
       "      <td>270.0</td>\n",
       "    </tr>\n",
       "  </tbody>\n",
       "</table>\n",
       "<p>3494 rows × 3 columns</p>\n",
       "</div>"
      ],
      "text/plain": [
       "                     10_meter_wind_speed  10_meter_wind_speed_of_gust  \\\n",
       "2020-10-01 00:00:00                  5.4                     5.200000   \n",
       "2020-10-01 01:00:00                  5.0                     5.900000   \n",
       "2020-10-01 02:00:00                  3.9                     5.400000   \n",
       "2020-10-01 03:00:00                  3.5                     4.200000   \n",
       "2020-10-01 04:00:00                  3.1                     3.300000   \n",
       "...                                  ...                          ...   \n",
       "2021-02-28 19:00:00                 12.8                    18.300001   \n",
       "2021-02-28 20:00:00                 13.6                    18.300001   \n",
       "2021-02-28 21:00:00                 12.8                    18.000000   \n",
       "2021-02-28 22:00:00                 12.0                    18.000000   \n",
       "2021-02-28 23:00:00                 11.2                    17.600000   \n",
       "\n",
       "                     10_meter_wind_from_direction  \n",
       "2020-10-01 00:00:00                          50.0  \n",
       "2020-10-01 01:00:00                          40.0  \n",
       "2020-10-01 02:00:00                          50.0  \n",
       "2020-10-01 03:00:00                          50.0  \n",
       "2020-10-01 04:00:00                          40.0  \n",
       "...                                           ...  \n",
       "2021-02-28 19:00:00                         260.0  \n",
       "2021-02-28 20:00:00                         260.0  \n",
       "2021-02-28 21:00:00                         260.0  \n",
       "2021-02-28 22:00:00                         260.0  \n",
       "2021-02-28 23:00:00                         270.0  \n",
       "\n",
       "[3494 rows x 3 columns]"
      ]
     },
     "execution_count": 10,
     "metadata": {},
     "output_type": "execute_result"
    }
   ],
   "source": [
    "analysis = filter_missing_data(load_analysis_grid('../data/nbm_analysis/NBM_6S0.nc', \n",
    "#                                                   from_units={'10_meter_wind_speed': 'm s**-1', '10_meter_wind_speed_of_gust': 'm s**-1'}, \n",
    "#                                                     to_units={'10_meter_wind_speed': 'knots',   '10_meter_wind_speed_of_gust': 'knots'}, \n",
    "                                                  filter_fields=['10_meter_wind_speed', '10_meter_wind_speed_of_gust', '10_meter_wind_from_direction'], \n",
    "                                                  transform_columns=lambda a: a.replace('_mean', '')))\n",
    "# convert_units(analysis, {\n",
    "#     '10_meter_wind_speed': ('m s**-1', 'knots'),\n",
    "#     '10_meter_wind_speed_of_gust': ('m s**-1', 'knots')\n",
    "# })\n",
    "analysis = filter_missing_data(analysis)\n",
    "analysis"
   ]
  },
  {
   "cell_type": "markdown",
   "id": "pretty-spare",
   "metadata": {},
   "source": [
    "## Load Observation Data"
   ]
  },
  {
   "cell_type": "code",
   "execution_count": 11,
   "id": "unusual-voltage",
   "metadata": {},
   "outputs": [
    {
     "data": {
      "text/html": [
       "<div>\n",
       "<style scoped>\n",
       "    .dataframe tbody tr th:only-of-type {\n",
       "        vertical-align: middle;\n",
       "    }\n",
       "\n",
       "    .dataframe tbody tr th {\n",
       "        vertical-align: top;\n",
       "    }\n",
       "\n",
       "    .dataframe thead th {\n",
       "        text-align: right;\n",
       "    }\n",
       "</style>\n",
       "<table border=\"1\" class=\"dataframe\">\n",
       "  <thead>\n",
       "    <tr style=\"text-align: right;\">\n",
       "      <th></th>\n",
       "      <th>10_meter_wind_speed</th>\n",
       "      <th>10_meter_wind_speed_of_gust</th>\n",
       "      <th>10_meter_wind_from_direction</th>\n",
       "    </tr>\n",
       "    <tr>\n",
       "      <th>time</th>\n",
       "      <th></th>\n",
       "      <th></th>\n",
       "      <th></th>\n",
       "    </tr>\n",
       "  </thead>\n",
       "  <tbody>\n",
       "    <tr>\n",
       "      <th>2018-11-06 14:00:00</th>\n",
       "      <td>3.086667</td>\n",
       "      <td>3.086667</td>\n",
       "      <td>50.0</td>\n",
       "    </tr>\n",
       "    <tr>\n",
       "      <th>2018-11-06 15:00:00</th>\n",
       "      <td>4.115556</td>\n",
       "      <td>4.115556</td>\n",
       "      <td>30.0</td>\n",
       "    </tr>\n",
       "    <tr>\n",
       "      <th>2018-11-06 16:00:00</th>\n",
       "      <td>4.115556</td>\n",
       "      <td>4.115556</td>\n",
       "      <td>30.0</td>\n",
       "    </tr>\n",
       "    <tr>\n",
       "      <th>2018-11-06 17:00:00</th>\n",
       "      <td>3.601111</td>\n",
       "      <td>3.601111</td>\n",
       "      <td>50.0</td>\n",
       "    </tr>\n",
       "    <tr>\n",
       "      <th>2018-11-06 18:00:00</th>\n",
       "      <td>3.601111</td>\n",
       "      <td>3.601111</td>\n",
       "      <td>110.0</td>\n",
       "    </tr>\n",
       "    <tr>\n",
       "      <th>...</th>\n",
       "      <td>...</td>\n",
       "      <td>...</td>\n",
       "      <td>...</td>\n",
       "    </tr>\n",
       "    <tr>\n",
       "      <th>2021-03-02 20:00:00</th>\n",
       "      <td>12.346667</td>\n",
       "      <td>16.462222</td>\n",
       "      <td>270.0</td>\n",
       "    </tr>\n",
       "    <tr>\n",
       "      <th>2021-03-02 21:00:00</th>\n",
       "      <td>11.317778</td>\n",
       "      <td>13.890000</td>\n",
       "      <td>270.0</td>\n",
       "    </tr>\n",
       "    <tr>\n",
       "      <th>2021-03-02 22:00:00</th>\n",
       "      <td>10.288889</td>\n",
       "      <td>14.404444</td>\n",
       "      <td>260.0</td>\n",
       "    </tr>\n",
       "    <tr>\n",
       "      <th>2021-03-02 23:00:00</th>\n",
       "      <td>9.260000</td>\n",
       "      <td>13.890000</td>\n",
       "      <td>260.0</td>\n",
       "    </tr>\n",
       "    <tr>\n",
       "      <th>2021-03-03 00:00:00</th>\n",
       "      <td>9.774444</td>\n",
       "      <td>12.861111</td>\n",
       "      <td>250.0</td>\n",
       "    </tr>\n",
       "  </tbody>\n",
       "</table>\n",
       "<p>20195 rows × 3 columns</p>\n",
       "</div>"
      ],
      "text/plain": [
       "                     10_meter_wind_speed  10_meter_wind_speed_of_gust  \\\n",
       "time                                                                    \n",
       "2018-11-06 14:00:00             3.086667                     3.086667   \n",
       "2018-11-06 15:00:00             4.115556                     4.115556   \n",
       "2018-11-06 16:00:00             4.115556                     4.115556   \n",
       "2018-11-06 17:00:00             3.601111                     3.601111   \n",
       "2018-11-06 18:00:00             3.601111                     3.601111   \n",
       "...                                  ...                          ...   \n",
       "2021-03-02 20:00:00            12.346667                    16.462222   \n",
       "2021-03-02 21:00:00            11.317778                    13.890000   \n",
       "2021-03-02 22:00:00            10.288889                    14.404444   \n",
       "2021-03-02 23:00:00             9.260000                    13.890000   \n",
       "2021-03-03 00:00:00             9.774444                    12.861111   \n",
       "\n",
       "                     10_meter_wind_from_direction  \n",
       "time                                               \n",
       "2018-11-06 14:00:00                          50.0  \n",
       "2018-11-06 15:00:00                          30.0  \n",
       "2018-11-06 16:00:00                          30.0  \n",
       "2018-11-06 17:00:00                          50.0  \n",
       "2018-11-06 18:00:00                         110.0  \n",
       "...                                           ...  \n",
       "2021-03-02 20:00:00                         270.0  \n",
       "2021-03-02 21:00:00                         270.0  \n",
       "2021-03-02 22:00:00                         260.0  \n",
       "2021-03-02 23:00:00                         260.0  \n",
       "2021-03-03 00:00:00                         250.0  \n",
       "\n",
       "[20195 rows x 3 columns]"
      ]
     },
     "execution_count": 11,
     "metadata": {},
     "output_type": "execute_result"
    }
   ],
   "source": [
    "obs =  load_observations('../data/observations/6S0.nc', \n",
    "#                          from_units={'10_meter_wind_speed': 'm s**-1', '10_meter_wind_speed_of_gust': 'm s**-1'}, \n",
    "#                            to_units={'10_meter_wind_speed': 'knots',   '10_meter_wind_speed_of_gust': 'knots'}, \n",
    "                         filter_fields=['10_meter_wind_speed', '10_meter_wind_speed_of_gust', '10_meter_wind_from_direction'])\n",
    "# convert_units(obs,{\n",
    "#     '10_meter_wind_speed': ('m s**-1', 'knots'),\n",
    "#     '10_meter_wind_speed_of_gust': ('m s**-1', 'knots')\n",
    "# })\n",
    "replace_missing_gust_with_wind(obs, '10_meter_wind_speed', '10_meter_wind_speed_of_gust')\n",
    "obs = filter_missing_data(obs)\n",
    "# obs = obs[obs['10_meter_wind_speed_of_gust'] > (pint.Quantity(20, units('mph')).to(units('m s**-1')).magnitude)]\n",
    "obs = get_period_maximum(obs, period='1H')\n",
    "obs"
   ]
  },
  {
   "cell_type": "markdown",
   "id": "stopped-mathematics",
   "metadata": {},
   "source": [
    "## Time-match Observations to RTMA / NBM Analysis"
   ]
  },
  {
   "cell_type": "code",
   "execution_count": 12,
   "id": "occupied-aircraft",
   "metadata": {},
   "outputs": [
    {
     "data": {
      "text/html": [
       "<div>\n",
       "<style scoped>\n",
       "    .dataframe tbody tr th:only-of-type {\n",
       "        vertical-align: middle;\n",
       "    }\n",
       "\n",
       "    .dataframe tbody tr th {\n",
       "        vertical-align: top;\n",
       "    }\n",
       "\n",
       "    .dataframe thead th {\n",
       "        text-align: right;\n",
       "    }\n",
       "</style>\n",
       "<table border=\"1\" class=\"dataframe\">\n",
       "  <thead>\n",
       "    <tr style=\"text-align: right;\">\n",
       "      <th></th>\n",
       "      <th>10_meter_wind_speed_obs</th>\n",
       "      <th>10_meter_wind_speed_of_gust_obs</th>\n",
       "      <th>10_meter_wind_from_direction_obs</th>\n",
       "      <th>10_meter_wind_speed_analysis</th>\n",
       "      <th>10_meter_wind_speed_of_gust_analysis</th>\n",
       "      <th>10_meter_wind_from_direction_analysis</th>\n",
       "    </tr>\n",
       "  </thead>\n",
       "  <tbody>\n",
       "    <tr>\n",
       "      <th>2020-10-01 00:00:00</th>\n",
       "      <td>5.658889</td>\n",
       "      <td>7.716667</td>\n",
       "      <td>50.0</td>\n",
       "      <td>5.4</td>\n",
       "      <td>5.200000</td>\n",
       "      <td>50.0</td>\n",
       "    </tr>\n",
       "    <tr>\n",
       "      <th>2020-10-01 01:00:00</th>\n",
       "      <td>4.115556</td>\n",
       "      <td>4.115556</td>\n",
       "      <td>70.0</td>\n",
       "      <td>5.0</td>\n",
       "      <td>5.900000</td>\n",
       "      <td>40.0</td>\n",
       "    </tr>\n",
       "    <tr>\n",
       "      <th>2020-10-01 02:00:00</th>\n",
       "      <td>4.115556</td>\n",
       "      <td>4.115556</td>\n",
       "      <td>50.0</td>\n",
       "      <td>3.9</td>\n",
       "      <td>5.400000</td>\n",
       "      <td>50.0</td>\n",
       "    </tr>\n",
       "    <tr>\n",
       "      <th>2020-10-01 03:00:00</th>\n",
       "      <td>2.572222</td>\n",
       "      <td>2.572222</td>\n",
       "      <td>80.0</td>\n",
       "      <td>3.5</td>\n",
       "      <td>4.200000</td>\n",
       "      <td>50.0</td>\n",
       "    </tr>\n",
       "    <tr>\n",
       "      <th>2020-10-01 04:00:00</th>\n",
       "      <td>3.601111</td>\n",
       "      <td>3.601111</td>\n",
       "      <td>70.0</td>\n",
       "      <td>3.1</td>\n",
       "      <td>3.300000</td>\n",
       "      <td>40.0</td>\n",
       "    </tr>\n",
       "    <tr>\n",
       "      <th>...</th>\n",
       "      <td>...</td>\n",
       "      <td>...</td>\n",
       "      <td>...</td>\n",
       "      <td>...</td>\n",
       "      <td>...</td>\n",
       "      <td>...</td>\n",
       "    </tr>\n",
       "    <tr>\n",
       "      <th>2021-02-28 19:00:00</th>\n",
       "      <td>19.548889</td>\n",
       "      <td>24.178889</td>\n",
       "      <td>260.0</td>\n",
       "      <td>12.8</td>\n",
       "      <td>18.300001</td>\n",
       "      <td>260.0</td>\n",
       "    </tr>\n",
       "    <tr>\n",
       "      <th>2021-02-28 20:00:00</th>\n",
       "      <td>21.092222</td>\n",
       "      <td>25.722222</td>\n",
       "      <td>270.0</td>\n",
       "      <td>13.6</td>\n",
       "      <td>18.300001</td>\n",
       "      <td>260.0</td>\n",
       "    </tr>\n",
       "    <tr>\n",
       "      <th>2021-02-28 21:00:00</th>\n",
       "      <td>18.520000</td>\n",
       "      <td>24.693333</td>\n",
       "      <td>280.0</td>\n",
       "      <td>12.8</td>\n",
       "      <td>18.000000</td>\n",
       "      <td>260.0</td>\n",
       "    </tr>\n",
       "    <tr>\n",
       "      <th>2021-02-28 22:00:00</th>\n",
       "      <td>20.063333</td>\n",
       "      <td>24.693333</td>\n",
       "      <td>270.0</td>\n",
       "      <td>12.0</td>\n",
       "      <td>18.000000</td>\n",
       "      <td>260.0</td>\n",
       "    </tr>\n",
       "    <tr>\n",
       "      <th>2021-02-28 23:00:00</th>\n",
       "      <td>16.976667</td>\n",
       "      <td>20.577778</td>\n",
       "      <td>270.0</td>\n",
       "      <td>11.2</td>\n",
       "      <td>17.600000</td>\n",
       "      <td>270.0</td>\n",
       "    </tr>\n",
       "  </tbody>\n",
       "</table>\n",
       "<p>3470 rows × 6 columns</p>\n",
       "</div>"
      ],
      "text/plain": [
       "                     10_meter_wind_speed_obs  10_meter_wind_speed_of_gust_obs  \\\n",
       "2020-10-01 00:00:00                 5.658889                         7.716667   \n",
       "2020-10-01 01:00:00                 4.115556                         4.115556   \n",
       "2020-10-01 02:00:00                 4.115556                         4.115556   \n",
       "2020-10-01 03:00:00                 2.572222                         2.572222   \n",
       "2020-10-01 04:00:00                 3.601111                         3.601111   \n",
       "...                                      ...                              ...   \n",
       "2021-02-28 19:00:00                19.548889                        24.178889   \n",
       "2021-02-28 20:00:00                21.092222                        25.722222   \n",
       "2021-02-28 21:00:00                18.520000                        24.693333   \n",
       "2021-02-28 22:00:00                20.063333                        24.693333   \n",
       "2021-02-28 23:00:00                16.976667                        20.577778   \n",
       "\n",
       "                     10_meter_wind_from_direction_obs  \\\n",
       "2020-10-01 00:00:00                              50.0   \n",
       "2020-10-01 01:00:00                              70.0   \n",
       "2020-10-01 02:00:00                              50.0   \n",
       "2020-10-01 03:00:00                              80.0   \n",
       "2020-10-01 04:00:00                              70.0   \n",
       "...                                               ...   \n",
       "2021-02-28 19:00:00                             260.0   \n",
       "2021-02-28 20:00:00                             270.0   \n",
       "2021-02-28 21:00:00                             280.0   \n",
       "2021-02-28 22:00:00                             270.0   \n",
       "2021-02-28 23:00:00                             270.0   \n",
       "\n",
       "                     10_meter_wind_speed_analysis  \\\n",
       "2020-10-01 00:00:00                           5.4   \n",
       "2020-10-01 01:00:00                           5.0   \n",
       "2020-10-01 02:00:00                           3.9   \n",
       "2020-10-01 03:00:00                           3.5   \n",
       "2020-10-01 04:00:00                           3.1   \n",
       "...                                           ...   \n",
       "2021-02-28 19:00:00                          12.8   \n",
       "2021-02-28 20:00:00                          13.6   \n",
       "2021-02-28 21:00:00                          12.8   \n",
       "2021-02-28 22:00:00                          12.0   \n",
       "2021-02-28 23:00:00                          11.2   \n",
       "\n",
       "                     10_meter_wind_speed_of_gust_analysis  \\\n",
       "2020-10-01 00:00:00                              5.200000   \n",
       "2020-10-01 01:00:00                              5.900000   \n",
       "2020-10-01 02:00:00                              5.400000   \n",
       "2020-10-01 03:00:00                              4.200000   \n",
       "2020-10-01 04:00:00                              3.300000   \n",
       "...                                                   ...   \n",
       "2021-02-28 19:00:00                             18.300001   \n",
       "2021-02-28 20:00:00                             18.300001   \n",
       "2021-02-28 21:00:00                             18.000000   \n",
       "2021-02-28 22:00:00                             18.000000   \n",
       "2021-02-28 23:00:00                             17.600000   \n",
       "\n",
       "                     10_meter_wind_from_direction_analysis  \n",
       "2020-10-01 00:00:00                                   50.0  \n",
       "2020-10-01 01:00:00                                   40.0  \n",
       "2020-10-01 02:00:00                                   50.0  \n",
       "2020-10-01 03:00:00                                   50.0  \n",
       "2020-10-01 04:00:00                                   40.0  \n",
       "...                                                    ...  \n",
       "2021-02-28 19:00:00                                  260.0  \n",
       "2021-02-28 20:00:00                                  260.0  \n",
       "2021-02-28 21:00:00                                  260.0  \n",
       "2021-02-28 22:00:00                                  260.0  \n",
       "2021-02-28 23:00:00                                  270.0  \n",
       "\n",
       "[3470 rows x 6 columns]"
      ]
     },
     "execution_count": 12,
     "metadata": {},
     "output_type": "execute_result"
    }
   ],
   "source": [
    "data = time_match_dataset(obs, analysis, right_prefix='analysis')\n",
    "data[]\n",
    "data"
   ]
  },
  {
   "cell_type": "markdown",
   "id": "opponent-purchase",
   "metadata": {},
   "source": [
    "## Break the data down by the ratio of observations to analysis"
   ]
  },
  {
   "cell_type": "code",
   "execution_count": 13,
   "id": "collective-palestinian",
   "metadata": {},
   "outputs": [
    {
     "name": "stdout",
     "output_type": "stream",
     "text": [
      "analysis_ratio\n",
      "Analysis Over Estimates     0.377522\n",
      "Analysis Under Estimates    0.622478\n",
      "Name: analysis_ratio, dtype: float64\n"
     ]
    },
    {
     "data": {
      "image/png": "[encoded data removed]",
      "text/plain": [
       "<Figure size 432x288 with 1 Axes>"
      ]
     },
     "metadata": {},
     "output_type": "display_data"
    }
   ],
   "source": [
    "data['analysis_ratio'] = 'Equal'\n",
    "ratio = data['10_meter_wind_speed_of_gust_obs'] / data['10_meter_wind_speed_of_gust_analysis']\n",
    "data.loc[ratio > 1, 'analysis_ratio'] = 'Analysis Under Estimates'\n",
    "data.loc[ratio < 1, 'analysis_ratio'] = 'Analysis Over Estimates'\n",
    "del ratio\n",
    "plot = sns.scatterplot(data=data, y='10_meter_wind_speed_of_gust_obs', x='10_meter_wind_speed_of_gust_analysis', hue='analysis_ratio')\n",
    "print(data.groupby(['analysis_ratio']).analysis_ratio.count()/data.analysis_ratio.count())"
   ]
  },
  {
   "cell_type": "markdown",
   "id": "compatible-century",
   "metadata": {},
   "source": [
    "### Filter data where analysis under estimates\n",
    "Given that the analysis overwelmingly under-estimates the wind gust, only look those instances to produce as better regression"
   ]
  },
  {
   "cell_type": "code",
   "execution_count": 14,
   "id": "elect-copper",
   "metadata": {},
   "outputs": [
    {
     "data": {
      "text/html": [
       "<div>\n",
       "<style scoped>\n",
       "    .dataframe tbody tr th:only-of-type {\n",
       "        vertical-align: middle;\n",
       "    }\n",
       "\n",
       "    .dataframe tbody tr th {\n",
       "        vertical-align: top;\n",
       "    }\n",
       "\n",
       "    .dataframe thead th {\n",
       "        text-align: right;\n",
       "    }\n",
       "</style>\n",
       "<table border=\"1\" class=\"dataframe\">\n",
       "  <thead>\n",
       "    <tr style=\"text-align: right;\">\n",
       "      <th></th>\n",
       "      <th>slope</th>\n",
       "      <th>intercept</th>\n",
       "      <th>rvalue</th>\n",
       "      <th>pvalue</th>\n",
       "      <th>stderr</th>\n",
       "    </tr>\n",
       "  </thead>\n",
       "  <tbody>\n",
       "    <tr>\n",
       "      <th>1KM</th>\n",
       "      <td>0.852204</td>\n",
       "      <td>5.806669</td>\n",
       "      <td>0.800694</td>\n",
       "      <td>1.319024e-211</td>\n",
       "      <td>0.020786</td>\n",
       "    </tr>\n",
       "    <tr>\n",
       "      <th>6S0</th>\n",
       "      <td>1.139874</td>\n",
       "      <td>2.580342</td>\n",
       "      <td>0.842540</td>\n",
       "      <td>0.000000e+00</td>\n",
       "      <td>0.015687</td>\n",
       "    </tr>\n",
       "  </tbody>\n",
       "</table>\n",
       "</div>"
      ],
      "text/plain": [
       "        slope  intercept    rvalue         pvalue    stderr\n",
       "1KM  0.852204   5.806669  0.800694  1.319024e-211  0.020786\n",
       "6S0  1.139874   2.580342  0.842540   0.000000e+00  0.015687"
      ]
     },
     "execution_count": 14,
     "metadata": {},
     "output_type": "execute_result"
    }
   ],
   "source": [
    "under_estimate = data[data.analysis_ratio == 'Analysis Under Estimates']\n",
    "if os.path.exists('../data/derived/regressions.json'):\n",
    "    regression = pd.read_json('../data/derived/regressions.json', orient='table')\n",
    "    regression = pd.concat([regression, pd.DataFrame(dict(zip(['slope', 'intercept', 'rvalue', 'pvalue', 'stderr'], list(stats.linregress(under_estimate['10_meter_wind_speed_of_gust_analysis'], under_estimate['10_meter_wind_speed_of_gust_obs'])))), index=['6S0'])]).reset_index().drop_duplicates(subset=['index'], keep='last').set_index('index')\n",
    "    regression.index.name = None\n",
    "else:\n",
    "    regression = pd.DataFrame(dict(zip(['slope', 'intercept', 'rvalue', 'pvalue', 'stderr'], list(stats.linregress(under_estimate['10_meter_wind_speed_of_gust_analysis'], under_estimate['10_meter_wind_speed_of_gust_obs'])))), index=['6S0'])\n",
    "regression.to_json('../data/derived/regressions.json', orient='table')\n",
    "# regression = pd.DataFrame(dict(zip(['slope', 'intercept', 'rvalue', 'pvalue', 'stderr'], list(stats.linregress(under_estimate['10_meter_wind_speed_of_gust_analysis'], under_estimate['10_meter_wind_speed_of_gust_obs'])))), index=[0])\n",
    "# regression.to_xarray().to_netcdf('../data/derived/6S0_regression.nc')\n",
    "regression"
   ]
  },
  {
   "cell_type": "markdown",
   "id": "moving-beginning",
   "metadata": {},
   "source": [
    "### Plot Regression with data"
   ]
  },
  {
   "cell_type": "code",
   "execution_count": 15,
   "id": "sustained-girlfriend",
   "metadata": {},
   "outputs": [
    {
     "data": {
      "image/png": "[encoded data removed]",
      "text/plain": [
       "<Figure size 432x288 with 1 Axes>"
      ]
     },
     "metadata": {},
     "output_type": "display_data"
    }
   ],
   "source": [
    "plot = sns.regplot(data=under_estimate, y='10_meter_wind_speed_of_gust_obs', x='10_meter_wind_speed_of_gust_analysis',marker='+', line_kws={'label':'y={0:.3f}x+{1:.3f} ({2:.4f})'.format(regression.slope['6S0'], regression.intercept['6S0'], regression.rvalue[0])})\n",
    "legend = plot.legend()"
   ]
  },
  {
   "cell_type": "code",
   "execution_count": 16,
   "id": "coordinated-infection",
   "metadata": {},
   "outputs": [],
   "source": [
    "# from windrose import WindroseAxes\n",
    "# ax = WindroseAxes.from_ax()\n",
    "# ax.bar(under_estimate['10_meter_wind_from_direction_obs'], under_estimate['10_meter_wind_speed_of_gust_obs'], normed=True)\n",
    "# ax.set_legend()"
   ]
  },
  {
   "cell_type": "code",
   "execution_count": 17,
   "id": "gorgeous-grass",
   "metadata": {},
   "outputs": [],
   "source": [
    "# over_estimate = data[data.analysis_ratio == 'RTMA Over Estimates']\n",
    "# ax = WindroseAxes.from_ax()\n",
    "# ax.bar(over_estimate['10_meter_wind_from_direction_obs'], over_estimate['10_meter_wind_speed_of_gust_obs'], normed=True)\n",
    "# ax.set_legend()"
   ]
  },
  {
   "cell_type": "code",
   "execution_count": 18,
   "id": "olympic-kidney",
   "metadata": {},
   "outputs": [],
   "source": [
    "import statsmodels as sm\n",
    "import statsmodels.nonparametric.kde"
   ]
  },
  {
   "cell_type": "code",
   "execution_count": 19,
   "id": "registered-assault",
   "metadata": {},
   "outputs": [],
   "source": [
    "qmap_data = data[['10_meter_wind_speed_of_gust_obs', '10_meter_wind_speed_of_gust_analysis']].melt()"
   ]
  },
  {
   "cell_type": "code",
   "execution_count": 20,
   "id": "elementary-cream",
   "metadata": {},
   "outputs": [
    {
     "data": {
      "text/plain": [
       "<statsmodels.nonparametric.kde.KDEUnivariate at 0x7f97dc6698e0>"
      ]
     },
     "execution_count": 20,
     "metadata": {},
     "output_type": "execute_result"
    }
   ],
   "source": [
    "obs_kde = statsmodels.nonparametric.kde.KDEUnivariate(qmap_data[qmap_data.variable == '10_meter_wind_speed_of_gust_obs'].value)\n",
    "obs_kde.fit() # Estimate the densities\n",
    "analysis_kde = statsmodels.nonparametric.kde.KDEUnivariate(qmap_data[qmap_data.variable == '10_meter_wind_speed_of_gust_analysis'].value)\n",
    "analysis_kde.fit() # Estimate the densities"
   ]
  },
  {
   "cell_type": "code",
   "execution_count": 21,
   "id": "ahead-paradise",
   "metadata": {},
   "outputs": [],
   "source": [
    "data['10_meter_wind_speed_of_gust_analysis_corrected'] = data['10_meter_wind_speed_of_gust_analysis'].apply(lambda a: obs_kde.support[np.argmin(np.abs(obs_kde.cdf - analysis_kde.cdf[np.argmin(np.abs(analysis_kde.support - a))]))])"
   ]
  },
  {
   "cell_type": "code",
   "execution_count": 22,
   "id": "artistic-implementation",
   "metadata": {},
   "outputs": [
    {
     "data": {
      "text/plain": [
       "(0.0, 80.0)"
      ]
     },
     "execution_count": 22,
     "metadata": {},
     "output_type": "execute_result"
    },
    {
     "data": {
      "image/png": "[encoded data removed]",
      "text/plain": [
       "<Figure size 432x288 with 1 Axes>"
      ]
     },
     "metadata": {},
     "output_type": "display_data"
    }
   ],
   "source": [
    "plot = sns.scatterplot(data=data, x='10_meter_wind_speed_of_gust_analysis', y='10_meter_wind_speed_of_gust_analysis_corrected')\n",
    "plt.xlim(0,80)\n",
    "plt.ylim(0,80)"
   ]
  },
  {
   "cell_type": "code",
   "execution_count": 23,
   "id": "formed-deployment",
   "metadata": {},
   "outputs": [
    {
     "data": {
      "text/plain": [
       "LinregressResult(slope=1.6351837039797237, intercept=-5.008048580697553, rvalue=0.9939367658426153, pvalue=0.0, stderr=0.00307168100044794, intercept_stderr=0.03497747022645459)"
      ]
     },
     "execution_count": 23,
     "metadata": {},
     "output_type": "execute_result"
    }
   ],
   "source": [
    "stats.linregress(data['10_meter_wind_speed_of_gust_analysis'], data['10_meter_wind_speed_of_gust_analysis_corrected'])"
   ]
  },
  {
   "cell_type": "code",
   "execution_count": 24,
   "id": "dominant-middle",
   "metadata": {},
   "outputs": [],
   "source": [
    "regression = pd.DataFrame(dict(zip(['slope', 'intercept', 'rvalue', 'pvalue', 'stderr'], list(stats.linregress(under_estimate['10_meter_wind_speed_of_gust_analysis'], under_estimate['10_meter_wind_speed_of_gust_obs'])))), index=['6S0'])"
   ]
  }
 ],
 "metadata": {
  "kernelspec": {
   "display_name": "Python 3",
   "language": "python",
   "name": "python3"
  },
  "language_info": {
   "codemirror_mode": {
    "name": "ipython",
    "version": 3
   },
   "file_extension": ".py",
   "mimetype": "text/x-python",
   "name": "python",
   "nbconvert_exporter": "python",
   "pygments_lexer": "ipython3",
   "version": "3.8.6"
  }
 },
 "nbformat": 4,
 "nbformat_minor": 5
}
